{
  "cells": [
    {
      "cell_type": "markdown",
      "metadata": {
        "id": "view-in-github",
        "colab_type": "text"
      },
      "source": [
        "<a href=\"https://colab.research.google.com/gist/ernestocl/140e55dea1e29c034d6364d6a6ee6f96/13dsc0522_regml_ernestocol-s.ipynb\" target=\"_parent\"><img src=\"https://colab.research.google.com/assets/colab-badge.svg\" alt=\"Open In Colab\"/></a>"
      ]
    },
    {
      "cell_type": "markdown",
      "metadata": {
        "id": "U_4oXNJpFSgI"
      },
      "source": [
        "# REGRESION PRICING RENFE"
      ]
    },
    {
      "cell_type": "markdown",
      "metadata": {
        "id": "Ncr0W2U0FSgO"
      },
      "source": [
        "**ENUNCIADO: Se pide completar el flujo completo de Regresion ML para entrenar un modelo de pricing de viajes de tren a partir de los datos de Renfe.**\n",
        "\n",
        "* El dataset contiene la siguiente informacion de venta de tickets de trenes:\n",
        "  * PRICE: Precio del billete (target)\n",
        "  * ORIGIN: Origen del viaje.\n",
        "  * DESTINATION: Destino del viaje.\n",
        "  * DEPARTURE: Fecha hora de salida\n",
        "  * ARRIVAL: Fecha hora de llegada\n",
        "  * DURATION: Duracion estimada del trayecto\n",
        "  * VEHICLE_TYPE: Tipo de tren\n",
        "  * VEHICLE_CLASS: Clase de cabina\n",
        "  * FARE: Tipo de tarifa\n",
        "  * SEATS: asientos disponibles a este precio\n",
        "\n",
        "* Fuente: https://www.kaggle.com/datasets/thegurusteam/spanish-high-speed-rail-system-ticket-pricing?select=thegurus-opendata-renfe-trips.csv"
      ]
    },
    {
      "cell_type": "markdown",
      "metadata": {
        "id": "ivd2tpuYFSgP"
      },
      "source": [
        "# Import librarias"
      ]
    },
    {
      "cell_type": "code",
      "source": [
        "!pip install shap"
      ],
      "metadata": {
        "colab": {
          "base_uri": "https://localhost:8080/"
        },
        "id": "WJ9rBGa4FUlf",
        "outputId": "1a2f7720-d137-46d7-fad5-d2c4314ef817"
      },
      "execution_count": null,
      "outputs": [
        {
          "output_type": "stream",
          "name": "stdout",
          "text": [
            "Looking in indexes: https://pypi.org/simple, https://us-python.pkg.dev/colab-wheels/public/simple/\n",
            "Requirement already satisfied: shap in /usr/local/lib/python3.7/dist-packages (0.41.0)\n",
            "Requirement already satisfied: scikit-learn in /usr/local/lib/python3.7/dist-packages (from shap) (1.0.2)\n",
            "Requirement already satisfied: pandas in /usr/local/lib/python3.7/dist-packages (from shap) (1.3.5)\n",
            "Requirement already satisfied: slicer==0.0.7 in /usr/local/lib/python3.7/dist-packages (from shap) (0.0.7)\n",
            "Requirement already satisfied: cloudpickle in /usr/local/lib/python3.7/dist-packages (from shap) (1.3.0)\n",
            "Requirement already satisfied: packaging>20.9 in /usr/local/lib/python3.7/dist-packages (from shap) (21.3)\n",
            "Requirement already satisfied: scipy in /usr/local/lib/python3.7/dist-packages (from shap) (1.7.3)\n",
            "Requirement already satisfied: tqdm>4.25.0 in /usr/local/lib/python3.7/dist-packages (from shap) (4.64.0)\n",
            "Requirement already satisfied: numpy in /usr/local/lib/python3.7/dist-packages (from shap) (1.21.6)\n",
            "Requirement already satisfied: numba in /usr/local/lib/python3.7/dist-packages (from shap) (0.51.2)\n",
            "Requirement already satisfied: pyparsing!=3.0.5,>=2.0.2 in /usr/local/lib/python3.7/dist-packages (from packaging>20.9->shap) (3.0.9)\n",
            "Requirement already satisfied: llvmlite<0.35,>=0.34.0.dev0 in /usr/local/lib/python3.7/dist-packages (from numba->shap) (0.34.0)\n",
            "Requirement already satisfied: setuptools in /usr/local/lib/python3.7/dist-packages (from numba->shap) (57.4.0)\n",
            "Requirement already satisfied: pytz>=2017.3 in /usr/local/lib/python3.7/dist-packages (from pandas->shap) (2022.1)\n",
            "Requirement already satisfied: python-dateutil>=2.7.3 in /usr/local/lib/python3.7/dist-packages (from pandas->shap) (2.8.2)\n",
            "Requirement already satisfied: six>=1.5 in /usr/local/lib/python3.7/dist-packages (from python-dateutil>=2.7.3->pandas->shap) (1.15.0)\n",
            "Requirement already satisfied: threadpoolctl>=2.0.0 in /usr/local/lib/python3.7/dist-packages (from scikit-learn->shap) (3.1.0)\n",
            "Requirement already satisfied: joblib>=0.11 in /usr/local/lib/python3.7/dist-packages (from scikit-learn->shap) (1.1.0)\n"
          ]
        }
      ]
    },
    {
      "cell_type": "code",
      "execution_count": null,
      "metadata": {
        "id": "Nl0_drpzFSgP"
      },
      "outputs": [],
      "source": [
        "import numpy as np\n",
        "import pandas as pd\n",
        "\n",
        "import matplotlib.pyplot as plt\n",
        "%matplotlib inline\n",
        "from matplotlib import rcParams\n",
        "import seaborn as sns\n",
        "import missingno as msno\n",
        " \n",
        "# Preprocessing\n",
        "from sklearn.impute import SimpleImputer\n",
        "from sklearn.preprocessing import StandardScaler, PolynomialFeatures\n",
        "from scipy import stats \n",
        "from sklearn.feature_selection import VarianceThreshold\n",
        "# Modelizacion\n",
        "from sklearn.linear_model import LinearRegression, Ridge, Lasso, ElasticNet, SGDRegressor\n",
        "from sklearn.tree import DecisionTreeRegressor\n",
        "from sklearn.neighbors import KNeighborsRegressor\n",
        "from sklearn.ensemble import RandomForestRegressor\n",
        "import xgboost as xgb\n",
        "\n",
        "# Evaluacion\n",
        "from sklearn.metrics import mean_absolute_error, mean_squared_error, r2_score, make_scorer\n",
        "from sklearn.model_selection import train_test_split, cross_val_score, KFold, cross_val_score\n",
        "from sklearn import metrics\n",
        "from xgboost import plot_tree\n",
        "import shap\n",
        "from scipy.stats import pearsonr\n",
        "\n",
        "import warnings\n",
        "warnings.filterwarnings(\"ignore\")\n",
        "\n",
        "import pickle\n",
        "plt.rcParams[\"figure.figsize\"] = [10,6]\n",
        "import numpy as np\n",
        "import pandas as pd\n",
        "\n",
        "import matplotlib.pyplot as plt\n",
        "%matplotlib inline\n",
        "from matplotlib import rcParams\n",
        "import seaborn as sns\n",
        "import missingno as msno\n",
        "\n",
        "from sklearn.impute import SimpleImputer\n",
        "from sklearn.metrics import make_scorer\n",
        "from sklearn.model_selection import KFold, cross_val_score\n",
        "from sklearn.metrics import mean_squared_error, r2_score\n",
        "from sklearn.model_selection import train_test_split, cross_val_score\n",
        "from sklearn.feature_selection import VarianceThreshold\n",
        "\n",
        "#XGBoost\n",
        "import xgboost as xgb\n",
        "from xgboost import plot_tree\n",
        "\n",
        "#Shap value\n",
        "import shap\n",
        "from scipy.stats import pearsonr\n",
        "\n",
        "import warnings\n",
        "warnings.filterwarnings('ignore')"
      ]
    },
    {
      "cell_type": "markdown",
      "metadata": {
        "id": "TFWN88RzFSgT"
      },
      "source": [
        "Dejo algunas funciones de ayuda..."
      ]
    },
    {
      "cell_type": "code",
      "execution_count": null,
      "metadata": {
        "id": "n9KC6zD4FSgT"
      },
      "outputs": [],
      "source": [
        "def column_report(df_x):\n",
        "    a = pd.DataFrame(df_x.dtypes, columns={'dtype'})\n",
        "    b = pd.DataFrame(df_x.isna().sum(), columns={'nulls'})\n",
        "    b['%nulls'] = round(100*b['nulls']/ df_x.shape[0],2)  \n",
        "    c = df_x.describe(include='all').transpose()\n",
        "    return a.join(b).join(c).sort_values(by=['dtype','nulls'])\n",
        "\n",
        "\n",
        "def evaluate_model(model, X_train, y_train, X_test, y_test):\n",
        "    \n",
        "    pred_train = model.predict(X_train)\n",
        "    pred_test = model.predict(X_test)\n",
        "    \n",
        "    rmse_train = np.sqrt(metrics.mean_squared_error(y_train, pred_train))\n",
        "    rmse_test = np.sqrt(metrics.mean_squared_error(y_test, pred_test))\n",
        "    \n",
        "    print('RMSE train:',rmse_train)\n",
        "    print('RMSE test:',rmse_test)\n",
        "    \n",
        "    return rmse_train, rmse_test"
      ]
    },
    {
      "cell_type": "markdown",
      "source": [
        "# Import data"
      ],
      "metadata": {
        "id": "z9kGU5PmOZOr"
      }
    },
    {
      "cell_type": "code",
      "source": [
        "from google.colab import drive\n",
        "drive.mount('/content/drive')"
      ],
      "metadata": {
        "colab": {
          "base_uri": "https://localhost:8080/"
        },
        "id": "c9QedV9WNyV0",
        "outputId": "3eecdf4d-f1ce-4dc8-9522-ad4c6ff2886b"
      },
      "execution_count": null,
      "outputs": [
        {
          "output_type": "stream",
          "name": "stdout",
          "text": [
            "Drive already mounted at /content/drive; to attempt to forcibly remount, call drive.mount(\"/content/drive\", force_remount=True).\n"
          ]
        }
      ]
    },
    {
      "cell_type": "code",
      "source": [
        "# Read traintest dataset\n",
        "df = pd.read_csv('/content/drive/MyDrive/MASTER EN DATA SCIENCE/Módulos master/Módulo 5 - Machine Learning Regresión/Proyecto RENFE/renfe_traintest.csv')"
      ],
      "metadata": {
        "id": "2hjwbZr8NuR7"
      },
      "execution_count": null,
      "outputs": []
    },
    {
      "cell_type": "code",
      "source": [
        "df.head()"
      ],
      "metadata": {
        "colab": {
          "base_uri": "https://localhost:8080/",
          "height": 206
        },
        "id": "lmcSLtnwGU1A",
        "outputId": "91cfff88-ab0f-4347-a03d-0ae7f808d783"
      },
      "execution_count": null,
      "outputs": [
        {
          "output_type": "execute_result",
          "data": {
            "text/plain": [
              "   Unnamed: 0     origin destination            departure  \\\n",
              "0    14387354     MADRID    VALENCIA  2019-08-29 16:55:00   \n",
              "1     1888610  BARCELONA      MADRID  2019-04-30 12:50:00   \n",
              "2    22069490     MADRID      MALAGA  2020-04-26 15:35:00   \n",
              "3    22152672   VALENCIA      MADRID  2020-04-17 18:10:00   \n",
              "4    14407416    SEVILLA      MADRID  2019-10-13 12:18:00   \n",
              "\n",
              "               arrival  duration vehicle_type       vehicle_class  price  \\\n",
              "0  2019-08-29 21:58:00      5.05       AVE-LD  Turista con enlace  39.25   \n",
              "1  2019-04-30 15:45:00      2.92      AVE-TGV             Turista  85.10   \n",
              "2  2020-04-26 18:06:00      2.52          AVE          Preferente  73.85   \n",
              "3  2020-04-17 19:57:00      1.78          AVE             Turista  51.75   \n",
              "4  2019-10-13 14:56:00      2.63        ALVIA             Turista  67.20   \n",
              "\n",
              "       fare  seats          insert_date  \n",
              "0     Promo    NaN  2019-08-16 12:02:16  \n",
              "1     Promo    NaN  2019-04-18 22:20:08  \n",
              "2     Promo    NaN  2020-03-01 03:18:13  \n",
              "3     Promo    NaN  2020-03-01 18:54:54  \n",
              "4  Flexible    NaN  2019-08-16 15:36:19  "
            ],
            "text/html": [
              "\n",
              "  <div id=\"df-a77abd3c-f237-45a0-bb01-12231840a10c\">\n",
              "    <div class=\"colab-df-container\">\n",
              "      <div>\n",
              "<style scoped>\n",
              "    .dataframe tbody tr th:only-of-type {\n",
              "        vertical-align: middle;\n",
              "    }\n",
              "\n",
              "    .dataframe tbody tr th {\n",
              "        vertical-align: top;\n",
              "    }\n",
              "\n",
              "    .dataframe thead th {\n",
              "        text-align: right;\n",
              "    }\n",
              "</style>\n",
              "<table border=\"1\" class=\"dataframe\">\n",
              "  <thead>\n",
              "    <tr style=\"text-align: right;\">\n",
              "      <th></th>\n",
              "      <th>Unnamed: 0</th>\n",
              "      <th>origin</th>\n",
              "      <th>destination</th>\n",
              "      <th>departure</th>\n",
              "      <th>arrival</th>\n",
              "      <th>duration</th>\n",
              "      <th>vehicle_type</th>\n",
              "      <th>vehicle_class</th>\n",
              "      <th>price</th>\n",
              "      <th>fare</th>\n",
              "      <th>seats</th>\n",
              "      <th>insert_date</th>\n",
              "    </tr>\n",
              "  </thead>\n",
              "  <tbody>\n",
              "    <tr>\n",
              "      <th>0</th>\n",
              "      <td>14387354</td>\n",
              "      <td>MADRID</td>\n",
              "      <td>VALENCIA</td>\n",
              "      <td>2019-08-29 16:55:00</td>\n",
              "      <td>2019-08-29 21:58:00</td>\n",
              "      <td>5.05</td>\n",
              "      <td>AVE-LD</td>\n",
              "      <td>Turista con enlace</td>\n",
              "      <td>39.25</td>\n",
              "      <td>Promo</td>\n",
              "      <td>NaN</td>\n",
              "      <td>2019-08-16 12:02:16</td>\n",
              "    </tr>\n",
              "    <tr>\n",
              "      <th>1</th>\n",
              "      <td>1888610</td>\n",
              "      <td>BARCELONA</td>\n",
              "      <td>MADRID</td>\n",
              "      <td>2019-04-30 12:50:00</td>\n",
              "      <td>2019-04-30 15:45:00</td>\n",
              "      <td>2.92</td>\n",
              "      <td>AVE-TGV</td>\n",
              "      <td>Turista</td>\n",
              "      <td>85.10</td>\n",
              "      <td>Promo</td>\n",
              "      <td>NaN</td>\n",
              "      <td>2019-04-18 22:20:08</td>\n",
              "    </tr>\n",
              "    <tr>\n",
              "      <th>2</th>\n",
              "      <td>22069490</td>\n",
              "      <td>MADRID</td>\n",
              "      <td>MALAGA</td>\n",
              "      <td>2020-04-26 15:35:00</td>\n",
              "      <td>2020-04-26 18:06:00</td>\n",
              "      <td>2.52</td>\n",
              "      <td>AVE</td>\n",
              "      <td>Preferente</td>\n",
              "      <td>73.85</td>\n",
              "      <td>Promo</td>\n",
              "      <td>NaN</td>\n",
              "      <td>2020-03-01 03:18:13</td>\n",
              "    </tr>\n",
              "    <tr>\n",
              "      <th>3</th>\n",
              "      <td>22152672</td>\n",
              "      <td>VALENCIA</td>\n",
              "      <td>MADRID</td>\n",
              "      <td>2020-04-17 18:10:00</td>\n",
              "      <td>2020-04-17 19:57:00</td>\n",
              "      <td>1.78</td>\n",
              "      <td>AVE</td>\n",
              "      <td>Turista</td>\n",
              "      <td>51.75</td>\n",
              "      <td>Promo</td>\n",
              "      <td>NaN</td>\n",
              "      <td>2020-03-01 18:54:54</td>\n",
              "    </tr>\n",
              "    <tr>\n",
              "      <th>4</th>\n",
              "      <td>14407416</td>\n",
              "      <td>SEVILLA</td>\n",
              "      <td>MADRID</td>\n",
              "      <td>2019-10-13 12:18:00</td>\n",
              "      <td>2019-10-13 14:56:00</td>\n",
              "      <td>2.63</td>\n",
              "      <td>ALVIA</td>\n",
              "      <td>Turista</td>\n",
              "      <td>67.20</td>\n",
              "      <td>Flexible</td>\n",
              "      <td>NaN</td>\n",
              "      <td>2019-08-16 15:36:19</td>\n",
              "    </tr>\n",
              "  </tbody>\n",
              "</table>\n",
              "</div>\n",
              "      <button class=\"colab-df-convert\" onclick=\"convertToInteractive('df-a77abd3c-f237-45a0-bb01-12231840a10c')\"\n",
              "              title=\"Convert this dataframe to an interactive table.\"\n",
              "              style=\"display:none;\">\n",
              "        \n",
              "  <svg xmlns=\"http://www.w3.org/2000/svg\" height=\"24px\"viewBox=\"0 0 24 24\"\n",
              "       width=\"24px\">\n",
              "    <path d=\"M0 0h24v24H0V0z\" fill=\"none\"/>\n",
              "    <path d=\"M18.56 5.44l.94 2.06.94-2.06 2.06-.94-2.06-.94-.94-2.06-.94 2.06-2.06.94zm-11 1L8.5 8.5l.94-2.06 2.06-.94-2.06-.94L8.5 2.5l-.94 2.06-2.06.94zm10 10l.94 2.06.94-2.06 2.06-.94-2.06-.94-.94-2.06-.94 2.06-2.06.94z\"/><path d=\"M17.41 7.96l-1.37-1.37c-.4-.4-.92-.59-1.43-.59-.52 0-1.04.2-1.43.59L10.3 9.45l-7.72 7.72c-.78.78-.78 2.05 0 2.83L4 21.41c.39.39.9.59 1.41.59.51 0 1.02-.2 1.41-.59l7.78-7.78 2.81-2.81c.8-.78.8-2.07 0-2.86zM5.41 20L4 18.59l7.72-7.72 1.47 1.35L5.41 20z\"/>\n",
              "  </svg>\n",
              "      </button>\n",
              "      \n",
              "  <style>\n",
              "    .colab-df-container {\n",
              "      display:flex;\n",
              "      flex-wrap:wrap;\n",
              "      gap: 12px;\n",
              "    }\n",
              "\n",
              "    .colab-df-convert {\n",
              "      background-color: #E8F0FE;\n",
              "      border: none;\n",
              "      border-radius: 50%;\n",
              "      cursor: pointer;\n",
              "      display: none;\n",
              "      fill: #1967D2;\n",
              "      height: 32px;\n",
              "      padding: 0 0 0 0;\n",
              "      width: 32px;\n",
              "    }\n",
              "\n",
              "    .colab-df-convert:hover {\n",
              "      background-color: #E2EBFA;\n",
              "      box-shadow: 0px 1px 2px rgba(60, 64, 67, 0.3), 0px 1px 3px 1px rgba(60, 64, 67, 0.15);\n",
              "      fill: #174EA6;\n",
              "    }\n",
              "\n",
              "    [theme=dark] .colab-df-convert {\n",
              "      background-color: #3B4455;\n",
              "      fill: #D2E3FC;\n",
              "    }\n",
              "\n",
              "    [theme=dark] .colab-df-convert:hover {\n",
              "      background-color: #434B5C;\n",
              "      box-shadow: 0px 1px 3px 1px rgba(0, 0, 0, 0.15);\n",
              "      filter: drop-shadow(0px 1px 2px rgba(0, 0, 0, 0.3));\n",
              "      fill: #FFFFFF;\n",
              "    }\n",
              "  </style>\n",
              "\n",
              "      <script>\n",
              "        const buttonEl =\n",
              "          document.querySelector('#df-a77abd3c-f237-45a0-bb01-12231840a10c button.colab-df-convert');\n",
              "        buttonEl.style.display =\n",
              "          google.colab.kernel.accessAllowed ? 'block' : 'none';\n",
              "\n",
              "        async function convertToInteractive(key) {\n",
              "          const element = document.querySelector('#df-a77abd3c-f237-45a0-bb01-12231840a10c');\n",
              "          const dataTable =\n",
              "            await google.colab.kernel.invokeFunction('convertToInteractive',\n",
              "                                                     [key], {});\n",
              "          if (!dataTable) return;\n",
              "\n",
              "          const docLinkHtml = 'Like what you see? Visit the ' +\n",
              "            '<a target=\"_blank\" href=https://colab.research.google.com/notebooks/data_table.ipynb>data table notebook</a>'\n",
              "            + ' to learn more about interactive tables.';\n",
              "          element.innerHTML = '';\n",
              "          dataTable['output_type'] = 'display_data';\n",
              "          await google.colab.output.renderOutput(dataTable, element);\n",
              "          const docLink = document.createElement('div');\n",
              "          docLink.innerHTML = docLinkHtml;\n",
              "          element.appendChild(docLink);\n",
              "        }\n",
              "      </script>\n",
              "    </div>\n",
              "  </div>\n",
              "  "
            ]
          },
          "metadata": {},
          "execution_count": 202
        }
      ]
    },
    {
      "cell_type": "code",
      "source": [
        "df.shape"
      ],
      "metadata": {
        "colab": {
          "base_uri": "https://localhost:8080/"
        },
        "id": "XcsYs9WbO_Jk",
        "outputId": "27b8d78b-6530-433f-8d37-c0b0669fc2da"
      },
      "execution_count": null,
      "outputs": [
        {
          "output_type": "execute_result",
          "data": {
            "text/plain": [
              "(200000, 12)"
            ]
          },
          "metadata": {},
          "execution_count": 203
        }
      ]
    },
    {
      "cell_type": "markdown",
      "metadata": {
        "id": "UKwY0VFcFSgX"
      },
      "source": [
        "# Preprocessing"
      ]
    },
    {
      "cell_type": "markdown",
      "source": [
        "## Elimina columnas y filas irrelevantes"
      ],
      "metadata": {
        "id": "XBxTNtd0Pp_9"
      }
    },
    {
      "cell_type": "code",
      "source": [
        "df.drop(columns='Unnamed: 0',inplace=True)\n",
        "print(df.shape)"
      ],
      "metadata": {
        "id": "uCY-kB0APGQN",
        "colab": {
          "base_uri": "https://localhost:8080/"
        },
        "outputId": "a6c14810-0c6b-405d-e089-0876ebcf5745"
      },
      "execution_count": null,
      "outputs": [
        {
          "output_type": "stream",
          "name": "stdout",
          "text": [
            "(200000, 11)\n"
          ]
        }
      ]
    },
    {
      "cell_type": "code",
      "source": [
        "print(df.duplicated().sum(),'duplicated rows were deleted')\n",
        "df.drop_duplicates(inplace=True)\n",
        "print(df.shape)"
      ],
      "metadata": {
        "id": "8Ns1EbaZPfV_",
        "colab": {
          "base_uri": "https://localhost:8080/"
        },
        "outputId": "b67d6145-4061-407e-ef8a-84e30bcb7f8e"
      },
      "execution_count": null,
      "outputs": [
        {
          "output_type": "stream",
          "name": "stdout",
          "text": [
            "326 duplicated rows were deleted\n",
            "(199674, 11)\n"
          ]
        }
      ]
    },
    {
      "cell_type": "markdown",
      "metadata": {
        "id": "A6WiFJ-_FSgg"
      },
      "source": [
        "## Data types"
      ]
    },
    {
      "cell_type": "code",
      "execution_count": null,
      "metadata": {
        "id": "Xq7Ekr9hFSgh",
        "colab": {
          "base_uri": "https://localhost:8080/"
        },
        "outputId": "a828dd59-5fd9-4633-b47a-5c1260441f3c"
      },
      "outputs": [
        {
          "output_type": "stream",
          "name": "stdout",
          "text": [
            "<class 'pandas.core.frame.DataFrame'>\n",
            "Int64Index: 199674 entries, 0 to 199999\n",
            "Data columns (total 11 columns):\n",
            " #   Column         Non-Null Count   Dtype  \n",
            "---  ------         --------------   -----  \n",
            " 0   origin         199674 non-null  object \n",
            " 1   destination    199674 non-null  object \n",
            " 2   departure      199674 non-null  object \n",
            " 3   arrival        199674 non-null  object \n",
            " 4   duration       199674 non-null  float64\n",
            " 5   vehicle_type   199674 non-null  object \n",
            " 6   vehicle_class  199674 non-null  object \n",
            " 7   price          199674 non-null  float64\n",
            " 8   fare           199674 non-null  object \n",
            " 9   seats          8418 non-null    float64\n",
            " 10  insert_date    199674 non-null  object \n",
            "dtypes: float64(3), object(8)\n",
            "memory usage: 18.3+ MB\n"
          ]
        }
      ],
      "source": [
        "df.info()"
      ]
    },
    {
      "cell_type": "code",
      "source": [
        "# Pasar fechas de tipo objeto a tipo datetime\n",
        "for i in ('departure','arrival','insert_date'):\n",
        "  df[i] = pd.to_datetime(df[i])"
      ],
      "metadata": {
        "id": "MOyi2HSiJuyi"
      },
      "execution_count": null,
      "outputs": []
    },
    {
      "cell_type": "markdown",
      "source": [
        "# Split X-y"
      ],
      "metadata": {
        "id": "P83RJlXfP4RV"
      }
    },
    {
      "cell_type": "code",
      "source": [
        "# Divide dataset en matriz de variables (X) y output (y)\n",
        "target = 'price'\n",
        "features = df.columns[df.columns!=target]\n",
        "\n",
        "X = df[features]\n",
        "y = df[target]"
      ],
      "metadata": {
        "id": "6rLd79HJPTBv"
      },
      "execution_count": null,
      "outputs": []
    },
    {
      "cell_type": "markdown",
      "metadata": {
        "id": "5yTi4ESWFSge"
      },
      "source": [
        "## EDA: Analisis exploratorio"
      ]
    },
    {
      "cell_type": "markdown",
      "source": [
        "(breve)"
      ],
      "metadata": {
        "id": "xMOZ8zT5R6BF"
      }
    },
    {
      "cell_type": "code",
      "execution_count": null,
      "metadata": {
        "id": "kh5i4D2OFSgf",
        "colab": {
          "base_uri": "https://localhost:8080/",
          "height": 321
        },
        "outputId": "4b4605bd-537d-4846-8089-4f38367d4752"
      },
      "outputs": [
        {
          "output_type": "display_data",
          "data": {
            "text/plain": [
              "<Figure size 432x288 with 1 Axes>"
            ],
            "image/png": "[encoded data removed]"
          },
          "metadata": {
            "needs_background": "light"
          }
        }
      ],
      "source": [
        "sns.distplot(y)\n",
        "plt.title('Target Distribution: '+target)\n",
        "plt.show()"
      ]
    },
    {
      "cell_type": "code",
      "source": [
        "y.describe().T"
      ],
      "metadata": {
        "id": "uVQvqELgihis",
        "colab": {
          "base_uri": "https://localhost:8080/"
        },
        "outputId": "0f9cce46-1c53-4613-94a6-aa97fa07429e"
      },
      "execution_count": null,
      "outputs": [
        {
          "output_type": "execute_result",
          "data": {
            "text/plain": [
              "count    199674.000000\n",
              "mean         58.265872\n",
              "std          24.821777\n",
              "min           5.650000\n",
              "25%          39.250000\n",
              "50%          55.700000\n",
              "75%          75.400000\n",
              "max         290.400000\n",
              "Name: price, dtype: float64"
            ]
          },
          "metadata": {},
          "execution_count": 210
        }
      ]
    },
    {
      "cell_type": "code",
      "source": [
        "X.describe(include='all').T"
      ],
      "metadata": {
        "id": "FPUscHT4RP7b",
        "colab": {
          "base_uri": "https://localhost:8080/",
          "height": 363
        },
        "outputId": "2b1c82d2-b141-469f-8a3b-67d021e9d92d"
      },
      "execution_count": null,
      "outputs": [
        {
          "output_type": "execute_result",
          "data": {
            "text/plain": [
              "                  count  unique                  top    freq  \\\n",
              "origin           199674      30               MADRID   98262   \n",
              "destination      199674      30               MADRID   99486   \n",
              "departure        199674   54857  2019-06-02 17:30:00      50   \n",
              "arrival          199674   63951  2019-05-29 14:20:00      34   \n",
              "duration       199674.0     NaN                  NaN     NaN   \n",
              "vehicle_type     199674      30                  AVE  133025   \n",
              "vehicle_class    199674      10              Turista  155486   \n",
              "fare             199674      10                Promo  106426   \n",
              "seats            8418.0     NaN                  NaN     NaN   \n",
              "insert_date      199674  164263  2020-09-30 20:00:00     105   \n",
              "\n",
              "                            first                last        mean        std  \\\n",
              "origin                        NaT                 NaT         NaN        NaN   \n",
              "destination                   NaT                 NaT         NaN        NaN   \n",
              "departure     2019-04-12 09:40:00 2020-12-05 17:10:00         NaN        NaN   \n",
              "arrival       2019-04-12 11:24:00 2020-12-05 18:50:12         NaN        NaN   \n",
              "duration                      NaT                 NaT    2.893705   1.561707   \n",
              "vehicle_type                  NaT                 NaT         NaN        NaN   \n",
              "vehicle_class                 NaT                 NaT         NaN        NaN   \n",
              "fare                          NaT                 NaT         NaN        NaN   \n",
              "seats                         NaT                 NaT  220.079116  72.957453   \n",
              "insert_date   2019-04-11 21:49:48 2020-10-07 12:00:00         NaN        NaN   \n",
              "\n",
              "                min    25%    50%    75%    max  \n",
              "origin          NaN    NaN    NaN    NaN    NaN  \n",
              "destination     NaN    NaN    NaN    NaN    NaN  \n",
              "departure       NaN    NaN    NaN    NaN    NaN  \n",
              "arrival         NaN    NaN    NaN    NaN    NaN  \n",
              "duration       0.37   1.87   2.53   3.13  12.42  \n",
              "vehicle_type    NaN    NaN    NaN    NaN    NaN  \n",
              "vehicle_class   NaN    NaN    NaN    NaN    NaN  \n",
              "fare            NaN    NaN    NaN    NaN    NaN  \n",
              "seats           6.0  205.0  238.0  262.0  334.0  \n",
              "insert_date     NaN    NaN    NaN    NaN    NaN  "
            ],
            "text/html": [
              "\n",
              "  <div id=\"df-7173b730-820d-4058-8a03-722837cdf007\">\n",
              "    <div class=\"colab-df-container\">\n",
              "      <div>\n",
              "<style scoped>\n",
              "    .dataframe tbody tr th:only-of-type {\n",
              "        vertical-align: middle;\n",
              "    }\n",
              "\n",
              "    .dataframe tbody tr th {\n",
              "        vertical-align: top;\n",
              "    }\n",
              "\n",
              "    .dataframe thead th {\n",
              "        text-align: right;\n",
              "    }\n",
              "</style>\n",
              "<table border=\"1\" class=\"dataframe\">\n",
              "  <thead>\n",
              "    <tr style=\"text-align: right;\">\n",
              "      <th></th>\n",
              "      <th>count</th>\n",
              "      <th>unique</th>\n",
              "      <th>top</th>\n",
              "      <th>freq</th>\n",
              "      <th>first</th>\n",
              "      <th>last</th>\n",
              "      <th>mean</th>\n",
              "      <th>std</th>\n",
              "      <th>min</th>\n",
              "      <th>25%</th>\n",
              "      <th>50%</th>\n",
              "      <th>75%</th>\n",
              "      <th>max</th>\n",
              "    </tr>\n",
              "  </thead>\n",
              "  <tbody>\n",
              "    <tr>\n",
              "      <th>origin</th>\n",
              "      <td>199674</td>\n",
              "      <td>30</td>\n",
              "      <td>MADRID</td>\n",
              "      <td>98262</td>\n",
              "      <td>NaT</td>\n",
              "      <td>NaT</td>\n",
              "      <td>NaN</td>\n",
              "      <td>NaN</td>\n",
              "      <td>NaN</td>\n",
              "      <td>NaN</td>\n",
              "      <td>NaN</td>\n",
              "      <td>NaN</td>\n",
              "      <td>NaN</td>\n",
              "    </tr>\n",
              "    <tr>\n",
              "      <th>destination</th>\n",
              "      <td>199674</td>\n",
              "      <td>30</td>\n",
              "      <td>MADRID</td>\n",
              "      <td>99486</td>\n",
              "      <td>NaT</td>\n",
              "      <td>NaT</td>\n",
              "      <td>NaN</td>\n",
              "      <td>NaN</td>\n",
              "      <td>NaN</td>\n",
              "      <td>NaN</td>\n",
              "      <td>NaN</td>\n",
              "      <td>NaN</td>\n",
              "      <td>NaN</td>\n",
              "    </tr>\n",
              "    <tr>\n",
              "      <th>departure</th>\n",
              "      <td>199674</td>\n",
              "      <td>54857</td>\n",
              "      <td>2019-06-02 17:30:00</td>\n",
              "      <td>50</td>\n",
              "      <td>2019-04-12 09:40:00</td>\n",
              "      <td>2020-12-05 17:10:00</td>\n",
              "      <td>NaN</td>\n",
              "      <td>NaN</td>\n",
              "      <td>NaN</td>\n",
              "      <td>NaN</td>\n",
              "      <td>NaN</td>\n",
              "      <td>NaN</td>\n",
              "      <td>NaN</td>\n",
              "    </tr>\n",
              "    <tr>\n",
              "      <th>arrival</th>\n",
              "      <td>199674</td>\n",
              "      <td>63951</td>\n",
              "      <td>2019-05-29 14:20:00</td>\n",
              "      <td>34</td>\n",
              "      <td>2019-04-12 11:24:00</td>\n",
              "      <td>2020-12-05 18:50:12</td>\n",
              "      <td>NaN</td>\n",
              "      <td>NaN</td>\n",
              "      <td>NaN</td>\n",
              "      <td>NaN</td>\n",
              "      <td>NaN</td>\n",
              "      <td>NaN</td>\n",
              "      <td>NaN</td>\n",
              "    </tr>\n",
              "    <tr>\n",
              "      <th>duration</th>\n",
              "      <td>199674.0</td>\n",
              "      <td>NaN</td>\n",
              "      <td>NaN</td>\n",
              "      <td>NaN</td>\n",
              "      <td>NaT</td>\n",
              "      <td>NaT</td>\n",
              "      <td>2.893705</td>\n",
              "      <td>1.561707</td>\n",
              "      <td>0.37</td>\n",
              "      <td>1.87</td>\n",
              "      <td>2.53</td>\n",
              "      <td>3.13</td>\n",
              "      <td>12.42</td>\n",
              "    </tr>\n",
              "    <tr>\n",
              "      <th>vehicle_type</th>\n",
              "      <td>199674</td>\n",
              "      <td>30</td>\n",
              "      <td>AVE</td>\n",
              "      <td>133025</td>\n",
              "      <td>NaT</td>\n",
              "      <td>NaT</td>\n",
              "      <td>NaN</td>\n",
              "      <td>NaN</td>\n",
              "      <td>NaN</td>\n",
              "      <td>NaN</td>\n",
              "      <td>NaN</td>\n",
              "      <td>NaN</td>\n",
              "      <td>NaN</td>\n",
              "    </tr>\n",
              "    <tr>\n",
              "      <th>vehicle_class</th>\n",
              "      <td>199674</td>\n",
              "      <td>10</td>\n",
              "      <td>Turista</td>\n",
              "      <td>155486</td>\n",
              "      <td>NaT</td>\n",
              "      <td>NaT</td>\n",
              "      <td>NaN</td>\n",
              "      <td>NaN</td>\n",
              "      <td>NaN</td>\n",
              "      <td>NaN</td>\n",
              "      <td>NaN</td>\n",
              "      <td>NaN</td>\n",
              "      <td>NaN</td>\n",
              "    </tr>\n",
              "    <tr>\n",
              "      <th>fare</th>\n",
              "      <td>199674</td>\n",
              "      <td>10</td>\n",
              "      <td>Promo</td>\n",
              "      <td>106426</td>\n",
              "      <td>NaT</td>\n",
              "      <td>NaT</td>\n",
              "      <td>NaN</td>\n",
              "      <td>NaN</td>\n",
              "      <td>NaN</td>\n",
              "      <td>NaN</td>\n",
              "      <td>NaN</td>\n",
              "      <td>NaN</td>\n",
              "      <td>NaN</td>\n",
              "    </tr>\n",
              "    <tr>\n",
              "      <th>seats</th>\n",
              "      <td>8418.0</td>\n",
              "      <td>NaN</td>\n",
              "      <td>NaN</td>\n",
              "      <td>NaN</td>\n",
              "      <td>NaT</td>\n",
              "      <td>NaT</td>\n",
              "      <td>220.079116</td>\n",
              "      <td>72.957453</td>\n",
              "      <td>6.0</td>\n",
              "      <td>205.0</td>\n",
              "      <td>238.0</td>\n",
              "      <td>262.0</td>\n",
              "      <td>334.0</td>\n",
              "    </tr>\n",
              "    <tr>\n",
              "      <th>insert_date</th>\n",
              "      <td>199674</td>\n",
              "      <td>164263</td>\n",
              "      <td>2020-09-30 20:00:00</td>\n",
              "      <td>105</td>\n",
              "      <td>2019-04-11 21:49:48</td>\n",
              "      <td>2020-10-07 12:00:00</td>\n",
              "      <td>NaN</td>\n",
              "      <td>NaN</td>\n",
              "      <td>NaN</td>\n",
              "      <td>NaN</td>\n",
              "      <td>NaN</td>\n",
              "      <td>NaN</td>\n",
              "      <td>NaN</td>\n",
              "    </tr>\n",
              "  </tbody>\n",
              "</table>\n",
              "</div>\n",
              "      <button class=\"colab-df-convert\" onclick=\"convertToInteractive('df-7173b730-820d-4058-8a03-722837cdf007')\"\n",
              "              title=\"Convert this dataframe to an interactive table.\"\n",
              "              style=\"display:none;\">\n",
              "        \n",
              "  <svg xmlns=\"http://www.w3.org/2000/svg\" height=\"24px\"viewBox=\"0 0 24 24\"\n",
              "       width=\"24px\">\n",
              "    <path d=\"M0 0h24v24H0V0z\" fill=\"none\"/>\n",
              "    <path d=\"M18.56 5.44l.94 2.06.94-2.06 2.06-.94-2.06-.94-.94-2.06-.94 2.06-2.06.94zm-11 1L8.5 8.5l.94-2.06 2.06-.94-2.06-.94L8.5 2.5l-.94 2.06-2.06.94zm10 10l.94 2.06.94-2.06 2.06-.94-2.06-.94-.94-2.06-.94 2.06-2.06.94z\"/><path d=\"M17.41 7.96l-1.37-1.37c-.4-.4-.92-.59-1.43-.59-.52 0-1.04.2-1.43.59L10.3 9.45l-7.72 7.72c-.78.78-.78 2.05 0 2.83L4 21.41c.39.39.9.59 1.41.59.51 0 1.02-.2 1.41-.59l7.78-7.78 2.81-2.81c.8-.78.8-2.07 0-2.86zM5.41 20L4 18.59l7.72-7.72 1.47 1.35L5.41 20z\"/>\n",
              "  </svg>\n",
              "      </button>\n",
              "      \n",
              "  <style>\n",
              "    .colab-df-container {\n",
              "      display:flex;\n",
              "      flex-wrap:wrap;\n",
              "      gap: 12px;\n",
              "    }\n",
              "\n",
              "    .colab-df-convert {\n",
              "      background-color: #E8F0FE;\n",
              "      border: none;\n",
              "      border-radius: 50%;\n",
              "      cursor: pointer;\n",
              "      display: none;\n",
              "      fill: #1967D2;\n",
              "      height: 32px;\n",
              "      padding: 0 0 0 0;\n",
              "      width: 32px;\n",
              "    }\n",
              "\n",
              "    .colab-df-convert:hover {\n",
              "      background-color: #E2EBFA;\n",
              "      box-shadow: 0px 1px 2px rgba(60, 64, 67, 0.3), 0px 1px 3px 1px rgba(60, 64, 67, 0.15);\n",
              "      fill: #174EA6;\n",
              "    }\n",
              "\n",
              "    [theme=dark] .colab-df-convert {\n",
              "      background-color: #3B4455;\n",
              "      fill: #D2E3FC;\n",
              "    }\n",
              "\n",
              "    [theme=dark] .colab-df-convert:hover {\n",
              "      background-color: #434B5C;\n",
              "      box-shadow: 0px 1px 3px 1px rgba(0, 0, 0, 0.15);\n",
              "      filter: drop-shadow(0px 1px 2px rgba(0, 0, 0, 0.3));\n",
              "      fill: #FFFFFF;\n",
              "    }\n",
              "  </style>\n",
              "\n",
              "      <script>\n",
              "        const buttonEl =\n",
              "          document.querySelector('#df-7173b730-820d-4058-8a03-722837cdf007 button.colab-df-convert');\n",
              "        buttonEl.style.display =\n",
              "          google.colab.kernel.accessAllowed ? 'block' : 'none';\n",
              "\n",
              "        async function convertToInteractive(key) {\n",
              "          const element = document.querySelector('#df-7173b730-820d-4058-8a03-722837cdf007');\n",
              "          const dataTable =\n",
              "            await google.colab.kernel.invokeFunction('convertToInteractive',\n",
              "                                                     [key], {});\n",
              "          if (!dataTable) return;\n",
              "\n",
              "          const docLinkHtml = 'Like what you see? Visit the ' +\n",
              "            '<a target=\"_blank\" href=https://colab.research.google.com/notebooks/data_table.ipynb>data table notebook</a>'\n",
              "            + ' to learn more about interactive tables.';\n",
              "          element.innerHTML = '';\n",
              "          dataTable['output_type'] = 'display_data';\n",
              "          await google.colab.output.renderOutput(dataTable, element);\n",
              "          const docLink = document.createElement('div');\n",
              "          docLink.innerHTML = docLinkHtml;\n",
              "          element.appendChild(docLink);\n",
              "        }\n",
              "      </script>\n",
              "    </div>\n",
              "  </div>\n",
              "  "
            ]
          },
          "metadata": {},
          "execution_count": 211
        }
      ]
    },
    {
      "cell_type": "markdown",
      "source": [
        "## Feature Engineering"
      ],
      "metadata": {
        "id": "cJB7E5YJYSfz"
      }
    },
    {
      "cell_type": "code",
      "source": [
        "# Variables de fechas las paso a cuatro variables distintas: día del mes, día de la semana, mes, hora.\n",
        "for i in ('departure','insert_date'):\n",
        "  X['weekday_'+i] = X[i].dt.day_name()\n",
        "  X['weekday_n_'+i] = X[i].dt.day_of_week # 0 -Lunes, 6-Domingo\n",
        "  X['month_'+i] = X[i].dt.month\n",
        "  X['hour_'+i] = X[i].dt.hour"
      ],
      "metadata": {
        "id": "8IdmGmpBJ-O1"
      },
      "execution_count": null,
      "outputs": []
    },
    {
      "cell_type": "code",
      "source": [
        "# Tiempo entre la consulta del precio y el viaje\n",
        "timedelta = X.departure - X.insert_date\n",
        "X['days_before_trip'] = timedelta.dt.days"
      ],
      "metadata": {
        "id": "vw6_BG2lK5Jr"
      },
      "execution_count": null,
      "outputs": []
    },
    {
      "cell_type": "code",
      "source": [
        "festivos = pd.read_csv('/content/drive/MyDrive/MASTER EN DATA SCIENCE/Módulos master/Módulo 5 - Machine Learning Regresión/Proyecto RENFE/dias_festivos.csv')"
      ],
      "metadata": {
        "id": "a7It2m-Qa47s"
      },
      "execution_count": null,
      "outputs": []
    },
    {
      "cell_type": "code",
      "source": [
        "festivos = pd.to_datetime(festivos.values.flatten(), format='%d-%m-%Y')"
      ],
      "metadata": {
        "id": "61bHrzpyavPK"
      },
      "execution_count": null,
      "outputs": []
    },
    {
      "cell_type": "code",
      "source": [
        "X['ind_weekend'] = X.weekday_n_departure.isin([5,6])"
      ],
      "metadata": {
        "id": "QHmS68iYTVdZ"
      },
      "execution_count": null,
      "outputs": []
    },
    {
      "cell_type": "code",
      "source": [
        "X['ind_holidays'] = X.departure.dt.date.isin(festivos.date)"
      ],
      "metadata": {
        "id": "0ueFY1LUOQhC"
      },
      "execution_count": null,
      "outputs": []
    },
    {
      "cell_type": "code",
      "source": [
        "X.ind_holidays = X.ind_holidays.astype('int8')\n",
        "X.ind_weekend = X.ind_weekend.astype('int8')"
      ],
      "metadata": {
        "id": "SGbwNIbYPI-_"
      },
      "execution_count": null,
      "outputs": []
    },
    {
      "cell_type": "code",
      "source": [
        "X.info()"
      ],
      "metadata": {
        "colab": {
          "base_uri": "https://localhost:8080/"
        },
        "id": "8epecvpuQDf8",
        "outputId": "2c52df92-4d0a-4dd7-f823-2d98e8800b9f"
      },
      "execution_count": null,
      "outputs": [
        {
          "output_type": "stream",
          "name": "stdout",
          "text": [
            "<class 'pandas.core.frame.DataFrame'>\n",
            "Int64Index: 199674 entries, 0 to 199999\n",
            "Data columns (total 21 columns):\n",
            " #   Column                 Non-Null Count   Dtype         \n",
            "---  ------                 --------------   -----         \n",
            " 0   origin                 199674 non-null  object        \n",
            " 1   destination            199674 non-null  object        \n",
            " 2   departure              199674 non-null  datetime64[ns]\n",
            " 3   arrival                199674 non-null  datetime64[ns]\n",
            " 4   duration               199674 non-null  float64       \n",
            " 5   vehicle_type           199674 non-null  object        \n",
            " 6   vehicle_class          199674 non-null  object        \n",
            " 7   fare                   199674 non-null  object        \n",
            " 8   seats                  8418 non-null    float64       \n",
            " 9   insert_date            199674 non-null  datetime64[ns]\n",
            " 10  weekday_departure      199674 non-null  object        \n",
            " 11  weekday_n_departure    199674 non-null  int64         \n",
            " 12  month_departure        199674 non-null  int64         \n",
            " 13  hour_departure         199674 non-null  int64         \n",
            " 14  weekday_insert_date    199674 non-null  object        \n",
            " 15  weekday_n_insert_date  199674 non-null  int64         \n",
            " 16  month_insert_date      199674 non-null  int64         \n",
            " 17  hour_insert_date       199674 non-null  int64         \n",
            " 18  days_before_trip       199674 non-null  int64         \n",
            " 19  ind_weekend            199674 non-null  int8          \n",
            " 20  ind_holidays           199674 non-null  int8          \n",
            "dtypes: datetime64[ns](3), float64(2), int64(7), int8(2), object(7)\n",
            "memory usage: 30.8+ MB\n"
          ]
        }
      ]
    },
    {
      "cell_type": "code",
      "source": [
        "# Hipotesis: los precios de las lineas de tren ida y vuelta son parecidos\n",
        "# Vamos a ponerle nombre a las lineas de tren \n",
        "# Definimos que el nombre de la linea será CIUDAD CON MAS VIAJES DE ORIGEN - CIUDAD CON MENOS VIAJES DE ORIGEN\n",
        "\n",
        "city_order = X.origin.value_counts().index.values\n",
        "\n",
        "def train_line(origin, destination, city_list):\n",
        "  if np.where(city_order == origin) < np.where(city_order == destination):\n",
        "    return origin+'-'+destination\n",
        "  else:\n",
        "    return destination+'-'+origin\n",
        "\n",
        "# Aplicamos la funcion linea a linea en el dataframe\n",
        "X['train_line'] = X.apply(lambda x: train_line(x['origin'], x['destination'], city_order), axis=1)"
      ],
      "metadata": {
        "id": "gpXGlgsueP1O"
      },
      "execution_count": null,
      "outputs": []
    },
    {
      "cell_type": "code",
      "source": [
        "X.head(3)"
      ],
      "metadata": {
        "id": "PK0plVxWhDm1",
        "colab": {
          "base_uri": "https://localhost:8080/",
          "height": 341
        },
        "outputId": "aaaa3e01-dea6-4853-99dd-408582f03567"
      },
      "execution_count": null,
      "outputs": [
        {
          "output_type": "execute_result",
          "data": {
            "text/plain": [
              "      origin destination           departure             arrival  duration  \\\n",
              "0     MADRID    VALENCIA 2019-08-29 16:55:00 2019-08-29 21:58:00      5.05   \n",
              "1  BARCELONA      MADRID 2019-04-30 12:50:00 2019-04-30 15:45:00      2.92   \n",
              "2     MADRID      MALAGA 2020-04-26 15:35:00 2020-04-26 18:06:00      2.52   \n",
              "\n",
              "  vehicle_type       vehicle_class   fare  seats         insert_date  ...  \\\n",
              "0       AVE-LD  Turista con enlace  Promo    NaN 2019-08-16 12:02:16  ...   \n",
              "1      AVE-TGV             Turista  Promo    NaN 2019-04-18 22:20:08  ...   \n",
              "2          AVE          Preferente  Promo    NaN 2020-03-01 03:18:13  ...   \n",
              "\n",
              "  month_departure  hour_departure  weekday_insert_date  weekday_n_insert_date  \\\n",
              "0               8              16               Friday                      4   \n",
              "1               4              12             Thursday                      3   \n",
              "2               4              15               Sunday                      6   \n",
              "\n",
              "  month_insert_date  hour_insert_date  days_before_trip  ind_weekend  \\\n",
              "0                 8                12                13            0   \n",
              "1                 4                22                11            0   \n",
              "2                 3                 3                56            1   \n",
              "\n",
              "   ind_holidays        train_line  \n",
              "0             0   MADRID-VALENCIA  \n",
              "1             0  MADRID-BARCELONA  \n",
              "2             0     MADRID-MALAGA  \n",
              "\n",
              "[3 rows x 22 columns]"
            ],
            "text/html": [
              "\n",
              "  <div id=\"df-89e394ef-4169-4b58-b7f2-3f7aab520df0\">\n",
              "    <div class=\"colab-df-container\">\n",
              "      <div>\n",
              "<style scoped>\n",
              "    .dataframe tbody tr th:only-of-type {\n",
              "        vertical-align: middle;\n",
              "    }\n",
              "\n",
              "    .dataframe tbody tr th {\n",
              "        vertical-align: top;\n",
              "    }\n",
              "\n",
              "    .dataframe thead th {\n",
              "        text-align: right;\n",
              "    }\n",
              "</style>\n",
              "<table border=\"1\" class=\"dataframe\">\n",
              "  <thead>\n",
              "    <tr style=\"text-align: right;\">\n",
              "      <th></th>\n",
              "      <th>origin</th>\n",
              "      <th>destination</th>\n",
              "      <th>departure</th>\n",
              "      <th>arrival</th>\n",
              "      <th>duration</th>\n",
              "      <th>vehicle_type</th>\n",
              "      <th>vehicle_class</th>\n",
              "      <th>fare</th>\n",
              "      <th>seats</th>\n",
              "      <th>insert_date</th>\n",
              "      <th>...</th>\n",
              "      <th>month_departure</th>\n",
              "      <th>hour_departure</th>\n",
              "      <th>weekday_insert_date</th>\n",
              "      <th>weekday_n_insert_date</th>\n",
              "      <th>month_insert_date</th>\n",
              "      <th>hour_insert_date</th>\n",
              "      <th>days_before_trip</th>\n",
              "      <th>ind_weekend</th>\n",
              "      <th>ind_holidays</th>\n",
              "      <th>train_line</th>\n",
              "    </tr>\n",
              "  </thead>\n",
              "  <tbody>\n",
              "    <tr>\n",
              "      <th>0</th>\n",
              "      <td>MADRID</td>\n",
              "      <td>VALENCIA</td>\n",
              "      <td>2019-08-29 16:55:00</td>\n",
              "      <td>2019-08-29 21:58:00</td>\n",
              "      <td>5.05</td>\n",
              "      <td>AVE-LD</td>\n",
              "      <td>Turista con enlace</td>\n",
              "      <td>Promo</td>\n",
              "      <td>NaN</td>\n",
              "      <td>2019-08-16 12:02:16</td>\n",
              "      <td>...</td>\n",
              "      <td>8</td>\n",
              "      <td>16</td>\n",
              "      <td>Friday</td>\n",
              "      <td>4</td>\n",
              "      <td>8</td>\n",
              "      <td>12</td>\n",
              "      <td>13</td>\n",
              "      <td>0</td>\n",
              "      <td>0</td>\n",
              "      <td>MADRID-VALENCIA</td>\n",
              "    </tr>\n",
              "    <tr>\n",
              "      <th>1</th>\n",
              "      <td>BARCELONA</td>\n",
              "      <td>MADRID</td>\n",
              "      <td>2019-04-30 12:50:00</td>\n",
              "      <td>2019-04-30 15:45:00</td>\n",
              "      <td>2.92</td>\n",
              "      <td>AVE-TGV</td>\n",
              "      <td>Turista</td>\n",
              "      <td>Promo</td>\n",
              "      <td>NaN</td>\n",
              "      <td>2019-04-18 22:20:08</td>\n",
              "      <td>...</td>\n",
              "      <td>4</td>\n",
              "      <td>12</td>\n",
              "      <td>Thursday</td>\n",
              "      <td>3</td>\n",
              "      <td>4</td>\n",
              "      <td>22</td>\n",
              "      <td>11</td>\n",
              "      <td>0</td>\n",
              "      <td>0</td>\n",
              "      <td>MADRID-BARCELONA</td>\n",
              "    </tr>\n",
              "    <tr>\n",
              "      <th>2</th>\n",
              "      <td>MADRID</td>\n",
              "      <td>MALAGA</td>\n",
              "      <td>2020-04-26 15:35:00</td>\n",
              "      <td>2020-04-26 18:06:00</td>\n",
              "      <td>2.52</td>\n",
              "      <td>AVE</td>\n",
              "      <td>Preferente</td>\n",
              "      <td>Promo</td>\n",
              "      <td>NaN</td>\n",
              "      <td>2020-03-01 03:18:13</td>\n",
              "      <td>...</td>\n",
              "      <td>4</td>\n",
              "      <td>15</td>\n",
              "      <td>Sunday</td>\n",
              "      <td>6</td>\n",
              "      <td>3</td>\n",
              "      <td>3</td>\n",
              "      <td>56</td>\n",
              "      <td>1</td>\n",
              "      <td>0</td>\n",
              "      <td>MADRID-MALAGA</td>\n",
              "    </tr>\n",
              "  </tbody>\n",
              "</table>\n",
              "<p>3 rows × 22 columns</p>\n",
              "</div>\n",
              "      <button class=\"colab-df-convert\" onclick=\"convertToInteractive('df-89e394ef-4169-4b58-b7f2-3f7aab520df0')\"\n",
              "              title=\"Convert this dataframe to an interactive table.\"\n",
              "              style=\"display:none;\">\n",
              "        \n",
              "  <svg xmlns=\"http://www.w3.org/2000/svg\" height=\"24px\"viewBox=\"0 0 24 24\"\n",
              "       width=\"24px\">\n",
              "    <path d=\"M0 0h24v24H0V0z\" fill=\"none\"/>\n",
              "    <path d=\"M18.56 5.44l.94 2.06.94-2.06 2.06-.94-2.06-.94-.94-2.06-.94 2.06-2.06.94zm-11 1L8.5 8.5l.94-2.06 2.06-.94-2.06-.94L8.5 2.5l-.94 2.06-2.06.94zm10 10l.94 2.06.94-2.06 2.06-.94-2.06-.94-.94-2.06-.94 2.06-2.06.94z\"/><path d=\"M17.41 7.96l-1.37-1.37c-.4-.4-.92-.59-1.43-.59-.52 0-1.04.2-1.43.59L10.3 9.45l-7.72 7.72c-.78.78-.78 2.05 0 2.83L4 21.41c.39.39.9.59 1.41.59.51 0 1.02-.2 1.41-.59l7.78-7.78 2.81-2.81c.8-.78.8-2.07 0-2.86zM5.41 20L4 18.59l7.72-7.72 1.47 1.35L5.41 20z\"/>\n",
              "  </svg>\n",
              "      </button>\n",
              "      \n",
              "  <style>\n",
              "    .colab-df-container {\n",
              "      display:flex;\n",
              "      flex-wrap:wrap;\n",
              "      gap: 12px;\n",
              "    }\n",
              "\n",
              "    .colab-df-convert {\n",
              "      background-color: #E8F0FE;\n",
              "      border: none;\n",
              "      border-radius: 50%;\n",
              "      cursor: pointer;\n",
              "      display: none;\n",
              "      fill: #1967D2;\n",
              "      height: 32px;\n",
              "      padding: 0 0 0 0;\n",
              "      width: 32px;\n",
              "    }\n",
              "\n",
              "    .colab-df-convert:hover {\n",
              "      background-color: #E2EBFA;\n",
              "      box-shadow: 0px 1px 2px rgba(60, 64, 67, 0.3), 0px 1px 3px 1px rgba(60, 64, 67, 0.15);\n",
              "      fill: #174EA6;\n",
              "    }\n",
              "\n",
              "    [theme=dark] .colab-df-convert {\n",
              "      background-color: #3B4455;\n",
              "      fill: #D2E3FC;\n",
              "    }\n",
              "\n",
              "    [theme=dark] .colab-df-convert:hover {\n",
              "      background-color: #434B5C;\n",
              "      box-shadow: 0px 1px 3px 1px rgba(0, 0, 0, 0.15);\n",
              "      filter: drop-shadow(0px 1px 2px rgba(0, 0, 0, 0.3));\n",
              "      fill: #FFFFFF;\n",
              "    }\n",
              "  </style>\n",
              "\n",
              "      <script>\n",
              "        const buttonEl =\n",
              "          document.querySelector('#df-89e394ef-4169-4b58-b7f2-3f7aab520df0 button.colab-df-convert');\n",
              "        buttonEl.style.display =\n",
              "          google.colab.kernel.accessAllowed ? 'block' : 'none';\n",
              "\n",
              "        async function convertToInteractive(key) {\n",
              "          const element = document.querySelector('#df-89e394ef-4169-4b58-b7f2-3f7aab520df0');\n",
              "          const dataTable =\n",
              "            await google.colab.kernel.invokeFunction('convertToInteractive',\n",
              "                                                     [key], {});\n",
              "          if (!dataTable) return;\n",
              "\n",
              "          const docLinkHtml = 'Like what you see? Visit the ' +\n",
              "            '<a target=\"_blank\" href=https://colab.research.google.com/notebooks/data_table.ipynb>data table notebook</a>'\n",
              "            + ' to learn more about interactive tables.';\n",
              "          element.innerHTML = '';\n",
              "          dataTable['output_type'] = 'display_data';\n",
              "          await google.colab.output.renderOutput(dataTable, element);\n",
              "          const docLink = document.createElement('div');\n",
              "          docLink.innerHTML = docLinkHtml;\n",
              "          element.appendChild(docLink);\n",
              "        }\n",
              "      </script>\n",
              "    </div>\n",
              "  </div>\n",
              "  "
            ]
          },
          "metadata": {},
          "execution_count": 221
        }
      ]
    },
    {
      "cell_type": "code",
      "source": [
        "X.info()"
      ],
      "metadata": {
        "colab": {
          "base_uri": "https://localhost:8080/"
        },
        "id": "g26bjStRRULE",
        "outputId": "99430435-1e86-4ad6-8a87-d984d7be26b6"
      },
      "execution_count": null,
      "outputs": [
        {
          "output_type": "stream",
          "name": "stdout",
          "text": [
            "<class 'pandas.core.frame.DataFrame'>\n",
            "Int64Index: 199674 entries, 0 to 199999\n",
            "Data columns (total 22 columns):\n",
            " #   Column                 Non-Null Count   Dtype         \n",
            "---  ------                 --------------   -----         \n",
            " 0   origin                 199674 non-null  object        \n",
            " 1   destination            199674 non-null  object        \n",
            " 2   departure              199674 non-null  datetime64[ns]\n",
            " 3   arrival                199674 non-null  datetime64[ns]\n",
            " 4   duration               199674 non-null  float64       \n",
            " 5   vehicle_type           199674 non-null  object        \n",
            " 6   vehicle_class          199674 non-null  object        \n",
            " 7   fare                   199674 non-null  object        \n",
            " 8   seats                  8418 non-null    float64       \n",
            " 9   insert_date            199674 non-null  datetime64[ns]\n",
            " 10  weekday_departure      199674 non-null  object        \n",
            " 11  weekday_n_departure    199674 non-null  int64         \n",
            " 12  month_departure        199674 non-null  int64         \n",
            " 13  hour_departure         199674 non-null  int64         \n",
            " 14  weekday_insert_date    199674 non-null  object        \n",
            " 15  weekday_n_insert_date  199674 non-null  int64         \n",
            " 16  month_insert_date      199674 non-null  int64         \n",
            " 17  hour_insert_date       199674 non-null  int64         \n",
            " 18  days_before_trip       199674 non-null  int64         \n",
            " 19  ind_weekend            199674 non-null  int8          \n",
            " 20  ind_holidays           199674 non-null  int8          \n",
            " 21  train_line             199674 non-null  object        \n",
            "dtypes: datetime64[ns](3), float64(2), int64(7), int8(2), object(8)\n",
            "memory usage: 32.4+ MB\n"
          ]
        }
      ]
    },
    {
      "cell_type": "code",
      "source": [
        "X.columns"
      ],
      "metadata": {
        "colab": {
          "base_uri": "https://localhost:8080/"
        },
        "id": "sdGTSZdiStV8",
        "outputId": "24f574d2-d225-43cc-caaa-e106cd34a80e"
      },
      "execution_count": null,
      "outputs": [
        {
          "output_type": "execute_result",
          "data": {
            "text/plain": [
              "Index(['origin', 'destination', 'departure', 'arrival', 'duration',\n",
              "       'vehicle_type', 'vehicle_class', 'fare', 'seats', 'insert_date',\n",
              "       'weekday_departure', 'weekday_n_departure', 'month_departure',\n",
              "       'hour_departure', 'weekday_insert_date', 'weekday_n_insert_date',\n",
              "       'month_insert_date', 'hour_insert_date', 'days_before_trip',\n",
              "       'ind_weekend', 'ind_holidays', 'train_line'],\n",
              "      dtype='object')"
            ]
          },
          "metadata": {},
          "execution_count": 223
        }
      ]
    },
    {
      "cell_type": "code",
      "source": [
        "100*X.vehicle_class.value_counts() / X.shape[0]"
      ],
      "metadata": {
        "colab": {
          "base_uri": "https://localhost:8080/"
        },
        "id": "q8nBMnicRo3G",
        "outputId": "1fbc2d59-691c-4685-a214-9d46b7d18843"
      },
      "execution_count": null,
      "outputs": [
        {
          "output_type": "execute_result",
          "data": {
            "text/plain": [
              "Turista                   77.869928\n",
              "Turista con enlace         9.061270\n",
              "Preferente                 7.080040\n",
              "Turista Plus               5.585104\n",
              "TuristaSólo plaza H        0.313511\n",
              "PreferenteSólo plaza H     0.040065\n",
              "Cama Turista               0.037060\n",
              "Turista Plus - Turista     0.006511\n",
              "Turista - Turista Plus     0.004507\n",
              "Cama G. Clase              0.002003\n",
              "Name: vehicle_class, dtype: float64"
            ]
          },
          "metadata": {},
          "execution_count": 224
        }
      ]
    },
    {
      "cell_type": "markdown",
      "metadata": {
        "id": "vAMtt3W4FSgh"
      },
      "source": [
        "## Gestionar Nulos"
      ]
    },
    {
      "cell_type": "code",
      "execution_count": null,
      "metadata": {
        "id": "mXzkAfD2FSgi",
        "colab": {
          "base_uri": "https://localhost:8080/"
        },
        "outputId": "4f79d399-f5b2-4b76-c352-5b05c18b134b"
      },
      "outputs": [
        {
          "output_type": "execute_result",
          "data": {
            "text/plain": [
              "origin                    0.000000\n",
              "destination               0.000000\n",
              "departure                 0.000000\n",
              "arrival                   0.000000\n",
              "duration                  0.000000\n",
              "vehicle_type              0.000000\n",
              "vehicle_class             0.000000\n",
              "fare                      0.000000\n",
              "seats                    95.784128\n",
              "insert_date               0.000000\n",
              "weekday_departure         0.000000\n",
              "weekday_n_departure       0.000000\n",
              "month_departure           0.000000\n",
              "hour_departure            0.000000\n",
              "weekday_insert_date       0.000000\n",
              "weekday_n_insert_date     0.000000\n",
              "month_insert_date         0.000000\n",
              "hour_insert_date          0.000000\n",
              "days_before_trip          0.000000\n",
              "ind_weekend               0.000000\n",
              "ind_holidays              0.000000\n",
              "train_line                0.000000\n",
              "dtype: float64"
            ]
          },
          "metadata": {},
          "execution_count": 225
        }
      ],
      "source": [
        "100*X.isna().sum()/X.shape[0]"
      ]
    },
    {
      "cell_type": "code",
      "source": [
        "#Funcion de ayuda para tomar decisiones en la gestion de nulos\n",
        "def column_report(df_x):\n",
        "    a = pd.DataFrame(df_x.dtypes, columns={'dtype'})\n",
        "    b = pd.DataFrame(df_x.isna().sum(), columns={'nulls'})\n",
        "    b['%nulls'] = round(100*b['nulls']/ df_x.shape[0],2)  \n",
        "    c = df_x.describe(include='all').transpose()\n",
        "    return a.join(b).join(c).sort_values(by=['dtype','nulls'])\n",
        "\n",
        "report = column_report(df)"
      ],
      "metadata": {
        "id": "AKmwwieBIhdy"
      },
      "execution_count": null,
      "outputs": []
    },
    {
      "cell_type": "code",
      "source": [
        "# Analisis de nulos\n",
        "pd.set_option('display.max_rows', 1000)\n",
        "report[report['nulls']>0].sort_values(by='nulls',ascending=False)"
      ],
      "metadata": {
        "colab": {
          "base_uri": "https://localhost:8080/",
          "height": 81
        },
        "id": "NBBrLYdpIoOe",
        "outputId": "b9dc75d8-fd02-4e64-d75d-da467c995f4c"
      },
      "execution_count": null,
      "outputs": [
        {
          "output_type": "execute_result",
          "data": {
            "text/plain": [
              "         dtype   nulls  %nulls   count unique  top freq first last  \\\n",
              "seats  float64  191256   95.78  8418.0    NaN  NaN  NaN   NaT  NaT   \n",
              "\n",
              "             mean        std  min    25%    50%    75%    max  \n",
              "seats  220.079116  72.957453  6.0  205.0  238.0  262.0  334.0  "
            ],
            "text/html": [
              "\n",
              "  <div id=\"df-aac22b6b-29e5-4631-9609-07aa07c564cd\">\n",
              "    <div class=\"colab-df-container\">\n",
              "      <div>\n",
              "<style scoped>\n",
              "    .dataframe tbody tr th:only-of-type {\n",
              "        vertical-align: middle;\n",
              "    }\n",
              "\n",
              "    .dataframe tbody tr th {\n",
              "        vertical-align: top;\n",
              "    }\n",
              "\n",
              "    .dataframe thead th {\n",
              "        text-align: right;\n",
              "    }\n",
              "</style>\n",
              "<table border=\"1\" class=\"dataframe\">\n",
              "  <thead>\n",
              "    <tr style=\"text-align: right;\">\n",
              "      <th></th>\n",
              "      <th>dtype</th>\n",
              "      <th>nulls</th>\n",
              "      <th>%nulls</th>\n",
              "      <th>count</th>\n",
              "      <th>unique</th>\n",
              "      <th>top</th>\n",
              "      <th>freq</th>\n",
              "      <th>first</th>\n",
              "      <th>last</th>\n",
              "      <th>mean</th>\n",
              "      <th>std</th>\n",
              "      <th>min</th>\n",
              "      <th>25%</th>\n",
              "      <th>50%</th>\n",
              "      <th>75%</th>\n",
              "      <th>max</th>\n",
              "    </tr>\n",
              "  </thead>\n",
              "  <tbody>\n",
              "    <tr>\n",
              "      <th>seats</th>\n",
              "      <td>float64</td>\n",
              "      <td>191256</td>\n",
              "      <td>95.78</td>\n",
              "      <td>8418.0</td>\n",
              "      <td>NaN</td>\n",
              "      <td>NaN</td>\n",
              "      <td>NaN</td>\n",
              "      <td>NaT</td>\n",
              "      <td>NaT</td>\n",
              "      <td>220.079116</td>\n",
              "      <td>72.957453</td>\n",
              "      <td>6.0</td>\n",
              "      <td>205.0</td>\n",
              "      <td>238.0</td>\n",
              "      <td>262.0</td>\n",
              "      <td>334.0</td>\n",
              "    </tr>\n",
              "  </tbody>\n",
              "</table>\n",
              "</div>\n",
              "      <button class=\"colab-df-convert\" onclick=\"convertToInteractive('df-aac22b6b-29e5-4631-9609-07aa07c564cd')\"\n",
              "              title=\"Convert this dataframe to an interactive table.\"\n",
              "              style=\"display:none;\">\n",
              "        \n",
              "  <svg xmlns=\"http://www.w3.org/2000/svg\" height=\"24px\"viewBox=\"0 0 24 24\"\n",
              "       width=\"24px\">\n",
              "    <path d=\"M0 0h24v24H0V0z\" fill=\"none\"/>\n",
              "    <path d=\"M18.56 5.44l.94 2.06.94-2.06 2.06-.94-2.06-.94-.94-2.06-.94 2.06-2.06.94zm-11 1L8.5 8.5l.94-2.06 2.06-.94-2.06-.94L8.5 2.5l-.94 2.06-2.06.94zm10 10l.94 2.06.94-2.06 2.06-.94-2.06-.94-.94-2.06-.94 2.06-2.06.94z\"/><path d=\"M17.41 7.96l-1.37-1.37c-.4-.4-.92-.59-1.43-.59-.52 0-1.04.2-1.43.59L10.3 9.45l-7.72 7.72c-.78.78-.78 2.05 0 2.83L4 21.41c.39.39.9.59 1.41.59.51 0 1.02-.2 1.41-.59l7.78-7.78 2.81-2.81c.8-.78.8-2.07 0-2.86zM5.41 20L4 18.59l7.72-7.72 1.47 1.35L5.41 20z\"/>\n",
              "  </svg>\n",
              "      </button>\n",
              "      \n",
              "  <style>\n",
              "    .colab-df-container {\n",
              "      display:flex;\n",
              "      flex-wrap:wrap;\n",
              "      gap: 12px;\n",
              "    }\n",
              "\n",
              "    .colab-df-convert {\n",
              "      background-color: #E8F0FE;\n",
              "      border: none;\n",
              "      border-radius: 50%;\n",
              "      cursor: pointer;\n",
              "      display: none;\n",
              "      fill: #1967D2;\n",
              "      height: 32px;\n",
              "      padding: 0 0 0 0;\n",
              "      width: 32px;\n",
              "    }\n",
              "\n",
              "    .colab-df-convert:hover {\n",
              "      background-color: #E2EBFA;\n",
              "      box-shadow: 0px 1px 2px rgba(60, 64, 67, 0.3), 0px 1px 3px 1px rgba(60, 64, 67, 0.15);\n",
              "      fill: #174EA6;\n",
              "    }\n",
              "\n",
              "    [theme=dark] .colab-df-convert {\n",
              "      background-color: #3B4455;\n",
              "      fill: #D2E3FC;\n",
              "    }\n",
              "\n",
              "    [theme=dark] .colab-df-convert:hover {\n",
              "      background-color: #434B5C;\n",
              "      box-shadow: 0px 1px 3px 1px rgba(0, 0, 0, 0.15);\n",
              "      filter: drop-shadow(0px 1px 2px rgba(0, 0, 0, 0.3));\n",
              "      fill: #FFFFFF;\n",
              "    }\n",
              "  </style>\n",
              "\n",
              "      <script>\n",
              "        const buttonEl =\n",
              "          document.querySelector('#df-aac22b6b-29e5-4631-9609-07aa07c564cd button.colab-df-convert');\n",
              "        buttonEl.style.display =\n",
              "          google.colab.kernel.accessAllowed ? 'block' : 'none';\n",
              "\n",
              "        async function convertToInteractive(key) {\n",
              "          const element = document.querySelector('#df-aac22b6b-29e5-4631-9609-07aa07c564cd');\n",
              "          const dataTable =\n",
              "            await google.colab.kernel.invokeFunction('convertToInteractive',\n",
              "                                                     [key], {});\n",
              "          if (!dataTable) return;\n",
              "\n",
              "          const docLinkHtml = 'Like what you see? Visit the ' +\n",
              "            '<a target=\"_blank\" href=https://colab.research.google.com/notebooks/data_table.ipynb>data table notebook</a>'\n",
              "            + ' to learn more about interactive tables.';\n",
              "          element.innerHTML = '';\n",
              "          dataTable['output_type'] = 'display_data';\n",
              "          await google.colab.output.renderOutput(dataTable, element);\n",
              "          const docLink = document.createElement('div');\n",
              "          docLink.innerHTML = docLinkHtml;\n",
              "          element.appendChild(docLink);\n",
              "        }\n",
              "      </script>\n",
              "    </div>\n",
              "  </div>\n",
              "  "
            ]
          },
          "metadata": {},
          "execution_count": 227
        }
      ]
    },
    {
      "cell_type": "markdown",
      "source": [
        "Hay varias columnas con altos % de nulos. Como tenemos tantas variables lo aconsejable sería directamente eliminar aquellas con muchos nulos (>50\n",
        "%). Antes de eliminar ninguna variable vamos a comprobar que no estén altamente correlacionada con el target:"
      ],
      "metadata": {
        "id": "-PEiUluaJMr0"
      }
    },
    {
      "cell_type": "code",
      "source": [
        "corr = df.corr()"
      ],
      "metadata": {
        "id": "v-MaXHhIJLOA"
      },
      "execution_count": null,
      "outputs": []
    },
    {
      "cell_type": "code",
      "source": [
        "corr_list = pd.DataFrame(corr[target].abs().sort_values(ascending=False))\n",
        "corr_list.rename(columns={target:'correlation'},inplace=True)\n",
        "corr_list[corr_list['correlation']>0.50]"
      ],
      "metadata": {
        "colab": {
          "base_uri": "https://localhost:8080/",
          "height": 81
        },
        "id": "rRs-iN0LJWbz",
        "outputId": "6b5e8820-8948-4cdd-bcaa-10c1d121ea67"
      },
      "execution_count": null,
      "outputs": [
        {
          "output_type": "execute_result",
          "data": {
            "text/plain": [
              "       correlation\n",
              "price          1.0"
            ],
            "text/html": [
              "\n",
              "  <div id=\"df-79bf3a2e-df55-4792-bd65-e22e1078dd59\">\n",
              "    <div class=\"colab-df-container\">\n",
              "      <div>\n",
              "<style scoped>\n",
              "    .dataframe tbody tr th:only-of-type {\n",
              "        vertical-align: middle;\n",
              "    }\n",
              "\n",
              "    .dataframe tbody tr th {\n",
              "        vertical-align: top;\n",
              "    }\n",
              "\n",
              "    .dataframe thead th {\n",
              "        text-align: right;\n",
              "    }\n",
              "</style>\n",
              "<table border=\"1\" class=\"dataframe\">\n",
              "  <thead>\n",
              "    <tr style=\"text-align: right;\">\n",
              "      <th></th>\n",
              "      <th>correlation</th>\n",
              "    </tr>\n",
              "  </thead>\n",
              "  <tbody>\n",
              "    <tr>\n",
              "      <th>price</th>\n",
              "      <td>1.0</td>\n",
              "    </tr>\n",
              "  </tbody>\n",
              "</table>\n",
              "</div>\n",
              "      <button class=\"colab-df-convert\" onclick=\"convertToInteractive('df-79bf3a2e-df55-4792-bd65-e22e1078dd59')\"\n",
              "              title=\"Convert this dataframe to an interactive table.\"\n",
              "              style=\"display:none;\">\n",
              "        \n",
              "  <svg xmlns=\"http://www.w3.org/2000/svg\" height=\"24px\"viewBox=\"0 0 24 24\"\n",
              "       width=\"24px\">\n",
              "    <path d=\"M0 0h24v24H0V0z\" fill=\"none\"/>\n",
              "    <path d=\"M18.56 5.44l.94 2.06.94-2.06 2.06-.94-2.06-.94-.94-2.06-.94 2.06-2.06.94zm-11 1L8.5 8.5l.94-2.06 2.06-.94-2.06-.94L8.5 2.5l-.94 2.06-2.06.94zm10 10l.94 2.06.94-2.06 2.06-.94-2.06-.94-.94-2.06-.94 2.06-2.06.94z\"/><path d=\"M17.41 7.96l-1.37-1.37c-.4-.4-.92-.59-1.43-.59-.52 0-1.04.2-1.43.59L10.3 9.45l-7.72 7.72c-.78.78-.78 2.05 0 2.83L4 21.41c.39.39.9.59 1.41.59.51 0 1.02-.2 1.41-.59l7.78-7.78 2.81-2.81c.8-.78.8-2.07 0-2.86zM5.41 20L4 18.59l7.72-7.72 1.47 1.35L5.41 20z\"/>\n",
              "  </svg>\n",
              "      </button>\n",
              "      \n",
              "  <style>\n",
              "    .colab-df-container {\n",
              "      display:flex;\n",
              "      flex-wrap:wrap;\n",
              "      gap: 12px;\n",
              "    }\n",
              "\n",
              "    .colab-df-convert {\n",
              "      background-color: #E8F0FE;\n",
              "      border: none;\n",
              "      border-radius: 50%;\n",
              "      cursor: pointer;\n",
              "      display: none;\n",
              "      fill: #1967D2;\n",
              "      height: 32px;\n",
              "      padding: 0 0 0 0;\n",
              "      width: 32px;\n",
              "    }\n",
              "\n",
              "    .colab-df-convert:hover {\n",
              "      background-color: #E2EBFA;\n",
              "      box-shadow: 0px 1px 2px rgba(60, 64, 67, 0.3), 0px 1px 3px 1px rgba(60, 64, 67, 0.15);\n",
              "      fill: #174EA6;\n",
              "    }\n",
              "\n",
              "    [theme=dark] .colab-df-convert {\n",
              "      background-color: #3B4455;\n",
              "      fill: #D2E3FC;\n",
              "    }\n",
              "\n",
              "    [theme=dark] .colab-df-convert:hover {\n",
              "      background-color: #434B5C;\n",
              "      box-shadow: 0px 1px 3px 1px rgba(0, 0, 0, 0.15);\n",
              "      filter: drop-shadow(0px 1px 2px rgba(0, 0, 0, 0.3));\n",
              "      fill: #FFFFFF;\n",
              "    }\n",
              "  </style>\n",
              "\n",
              "      <script>\n",
              "        const buttonEl =\n",
              "          document.querySelector('#df-79bf3a2e-df55-4792-bd65-e22e1078dd59 button.colab-df-convert');\n",
              "        buttonEl.style.display =\n",
              "          google.colab.kernel.accessAllowed ? 'block' : 'none';\n",
              "\n",
              "        async function convertToInteractive(key) {\n",
              "          const element = document.querySelector('#df-79bf3a2e-df55-4792-bd65-e22e1078dd59');\n",
              "          const dataTable =\n",
              "            await google.colab.kernel.invokeFunction('convertToInteractive',\n",
              "                                                     [key], {});\n",
              "          if (!dataTable) return;\n",
              "\n",
              "          const docLinkHtml = 'Like what you see? Visit the ' +\n",
              "            '<a target=\"_blank\" href=https://colab.research.google.com/notebooks/data_table.ipynb>data table notebook</a>'\n",
              "            + ' to learn more about interactive tables.';\n",
              "          element.innerHTML = '';\n",
              "          dataTable['output_type'] = 'display_data';\n",
              "          await google.colab.output.renderOutput(dataTable, element);\n",
              "          const docLink = document.createElement('div');\n",
              "          docLink.innerHTML = docLinkHtml;\n",
              "          element.appendChild(docLink);\n",
              "        }\n",
              "      </script>\n",
              "    </div>\n",
              "  </div>\n",
              "  "
            ]
          },
          "metadata": {},
          "execution_count": 229
        }
      ]
    },
    {
      "cell_type": "code",
      "source": [
        "X.drop(columns='seats',inplace=True)"
      ],
      "metadata": {
        "id": "jK7sgTz6J9W-"
      },
      "execution_count": null,
      "outputs": []
    },
    {
      "cell_type": "markdown",
      "metadata": {
        "id": "F1RxbMQFFSgj"
      },
      "source": [
        "## One-hot-encoding"
      ]
    },
    {
      "cell_type": "code",
      "execution_count": null,
      "metadata": {
        "id": "rl7cEu2DFSgj"
      },
      "outputs": [],
      "source": [
        "categorical = X.select_dtypes(include='object').columns"
      ]
    },
    {
      "cell_type": "code",
      "source": [
        "X[categorical].nunique()"
      ],
      "metadata": {
        "id": "7Nlx2TdYKi6F",
        "colab": {
          "base_uri": "https://localhost:8080/"
        },
        "outputId": "b1db9e6b-cbb4-4259-f80c-f6a436189f75"
      },
      "execution_count": null,
      "outputs": [
        {
          "output_type": "execute_result",
          "data": {
            "text/plain": [
              "origin                 30\n",
              "destination            30\n",
              "vehicle_type           30\n",
              "vehicle_class          10\n",
              "fare                   10\n",
              "weekday_departure       7\n",
              "weekday_insert_date     7\n",
              "train_line             31\n",
              "dtype: int64"
            ]
          },
          "metadata": {},
          "execution_count": 232
        }
      ]
    },
    {
      "cell_type": "code",
      "source": [
        "for i in categorical:\n",
        "  print(i)\n",
        "  print(X[i].value_counts())\n",
        "  print()"
      ],
      "metadata": {
        "colab": {
          "base_uri": "https://localhost:8080/"
        },
        "id": "Kj_sx2ChTvvY",
        "outputId": "1b78304a-5ce8-4c40-8780-6a43aa038b97"
      },
      "execution_count": null,
      "outputs": [
        {
          "output_type": "stream",
          "name": "stdout",
          "text": [
            "origin\n",
            "MADRID         98262\n",
            "BARCELONA      24889\n",
            "VALENCIA       19751\n",
            "SEVILLA        19630\n",
            "CORDOBA         5908\n",
            "ZARAGOZA        5488\n",
            "PONFERRADA      4609\n",
            "VALLADOLID      4351\n",
            "ALBACETE        2244\n",
            "MALAGA          2241\n",
            "TARRAGONA       2238\n",
            "LLEIDA          1771\n",
            "GIRONA          1741\n",
            "ALICANTE        1371\n",
            "LEON            1307\n",
            "CASTELLON       1029\n",
            "GRANADA          739\n",
            "CÓRDOBA          462\n",
            "SEGOVIA          257\n",
            "CIUDAD REAL      230\n",
            "PALENCIA         191\n",
            "MÁLAGA           180\n",
            "CUENCA           155\n",
            "LEÓN             143\n",
            "TOLEDO           128\n",
            "GUADALAJARA      117\n",
            "CADIZ             78\n",
            "CASTELLO          63\n",
            "ZAMORA            56\n",
            "HUESCA            45\n",
            "Name: origin, dtype: int64\n",
            "\n",
            "destination\n",
            "MADRID         99486\n",
            "BARCELONA      25899\n",
            "VALENCIA       20638\n",
            "SEVILLA        19608\n",
            "CORDOBA         5586\n",
            "ZARAGOZA        5567\n",
            "VALLADOLID      4283\n",
            "PONFERRADA      3077\n",
            "MALAGA          2243\n",
            "ALBACETE        2231\n",
            "TARRAGONA       2020\n",
            "GIRONA          1495\n",
            "ALICANTE        1422\n",
            "LLEIDA          1370\n",
            "CASTELLON        995\n",
            "LEON             871\n",
            "GRANADA          741\n",
            "CÓRDOBA          505\n",
            "SEGOVIA          228\n",
            "CIUDAD REAL      219\n",
            "MÁLAGA           192\n",
            "PALENCIA         163\n",
            "LEÓN             154\n",
            "CUENCA           149\n",
            "CASTELLO         143\n",
            "TOLEDO           129\n",
            "GUADALAJARA      105\n",
            "CADIZ             72\n",
            "ZAMORA            55\n",
            "HUESCA            28\n",
            "Name: destination, dtype: int64\n",
            "\n",
            "vehicle_type\n",
            "AVE          133025\n",
            "ALVIA         13611\n",
            "REGIONAL       7259\n",
            "INTERCITY      6173\n",
            "AV City        4680\n",
            "AVANT          4329\n",
            "MD             4287\n",
            "AVE-LD         3901\n",
            "MD-LD          3241\n",
            "AVE-TGV        2330\n",
            "LD-AVE         2027\n",
            "LD             1851\n",
            "TRENHOTEL      1727\n",
            "AVE-MD         1721\n",
            "MD-AVE         1595\n",
            "REG.EXP.       1465\n",
            "LD-MD          1336\n",
            "R. EXPRES      1198\n",
            "AVANT-AVE       798\n",
            "ALTARIA         719\n",
            "AVLO            646\n",
            "Intercity       585\n",
            "EUROMED         377\n",
            "AVE-AVANT       360\n",
            "LD-AVANT        136\n",
            "TORRE ORO        84\n",
            "MD-AVANT         75\n",
            "AVANT-LD         52\n",
            "AVE-AVE          46\n",
            "AVANT-MD         40\n",
            "Name: vehicle_type, dtype: int64\n",
            "\n",
            "vehicle_class\n",
            "Turista                   155486\n",
            "Turista con enlace         18093\n",
            "Preferente                 14137\n",
            "Turista Plus               11152\n",
            "TuristaSólo plaza H          626\n",
            "PreferenteSólo plaza H        80\n",
            "Cama Turista                  74\n",
            "Turista Plus - Turista        13\n",
            "Turista - Turista Plus         9\n",
            "Cama G. Clase                  4\n",
            "Name: vehicle_class, dtype: int64\n",
            "\n",
            "fare\n",
            "Promo                      106426\n",
            "Flexible                    56181\n",
            "Adulto ida                  17602\n",
            "Promo +                     17094\n",
            "YOVOY                        1673\n",
            "Básica                        646\n",
            "COD.PROMOCIONAL                45\n",
            "Mesa                            3\n",
            "Individual-Flexible             2\n",
            "Doble Familiar-Flexible         2\n",
            "Name: fare, dtype: int64\n",
            "\n",
            "weekday_departure\n",
            "Thursday     30991\n",
            "Monday       30287\n",
            "Tuesday      30229\n",
            "Wednesday    30220\n",
            "Friday       29470\n",
            "Sunday       26146\n",
            "Saturday     22331\n",
            "Name: weekday_departure, dtype: int64\n",
            "\n",
            "weekday_insert_date\n",
            "Saturday     32008\n",
            "Friday       30046\n",
            "Thursday     29348\n",
            "Wednesday    29045\n",
            "Tuesday      27234\n",
            "Sunday       26462\n",
            "Monday       25531\n",
            "Name: weekday_insert_date, dtype: int64\n",
            "\n",
            "train_line\n",
            "MADRID-BARCELONA      48862\n",
            "MADRID-VALENCIA       39676\n",
            "MADRID-SEVILLA        39238\n",
            "MADRID-CORDOBA        11494\n",
            "MADRID-ZARAGOZA        9842\n",
            "MADRID-VALLADOLID      8634\n",
            "MADRID-PONFERRADA      7686\n",
            "MADRID-MALAGA          4484\n",
            "MADRID-ALBACETE        4475\n",
            "MADRID-TARRAGONA       4258\n",
            "MADRID-GIRONA          3236\n",
            "MADRID-LLEIDA          3141\n",
            "MADRID-ALICANTE        2793\n",
            "MADRID-LEON            2178\n",
            "MADRID-CASTELLON       2024\n",
            "MADRID-GRANADA         1480\n",
            "BARCELONA-ZARAGOZA     1213\n",
            "MADRID-CÓRDOBA          967\n",
            "BARCELONA-VALENCIA      713\n",
            "MADRID-SEGOVIA          485\n",
            "MADRID-CIUDAD REAL      449\n",
            "MADRID-MÁLAGA           372\n",
            "MADRID-PALENCIA         354\n",
            "MADRID-CUENCA           304\n",
            "MADRID-LEÓN             297\n",
            "MADRID-TOLEDO           257\n",
            "MADRID-GUADALAJARA      222\n",
            "MADRID-CASTELLO         206\n",
            "MADRID-CADIZ            150\n",
            "MADRID-ZAMORA           111\n",
            "MADRID-HUESCA            73\n",
            "Name: train_line, dtype: int64\n",
            "\n"
          ]
        }
      ]
    },
    {
      "cell_type": "code",
      "source": [
        "#Definimos como residual todo valor con una frecuencia por debajo del 5%\n",
        "min_weight = 0.05\n",
        "\n",
        "for i in categorical:\n",
        "  count = X[i].value_counts() / X.shape[0]\n",
        "  most_frequent = count[count>min_weight].index.to_list()\n",
        "  X[i] = X[i].apply(lambda x: x if x in most_frequent else 'OTRO')"
      ],
      "metadata": {
        "id": "fNeuNto2Lyi-"
      },
      "execution_count": null,
      "outputs": []
    },
    {
      "cell_type": "code",
      "source": [
        "# Procedemos al one hot encoding\n",
        "X = pd.get_dummies(data=X,\n",
        "                               prefix=None, \n",
        "                               prefix_sep=\"_\",\n",
        "                               columns=categorical,\n",
        "                               dtype=\"int8\")"
      ],
      "metadata": {
        "id": "XAzk4YcMO5yl"
      },
      "execution_count": null,
      "outputs": []
    },
    {
      "cell_type": "code",
      "source": [
        "X.head(3)"
      ],
      "metadata": {
        "id": "XMFT7_45OnQV",
        "colab": {
          "base_uri": "https://localhost:8080/",
          "height": 358
        },
        "outputId": "f3a77fe9-d2bc-4eda-834f-fb9037160556"
      },
      "execution_count": null,
      "outputs": [
        {
          "output_type": "execute_result",
          "data": {
            "text/plain": [
              "            departure             arrival  duration         insert_date  \\\n",
              "0 2019-08-29 16:55:00 2019-08-29 21:58:00      5.05 2019-08-16 12:02:16   \n",
              "1 2019-04-30 12:50:00 2019-04-30 15:45:00      2.92 2019-04-18 22:20:08   \n",
              "2 2020-04-26 15:35:00 2020-04-26 18:06:00      2.52 2020-03-01 03:18:13   \n",
              "\n",
              "   weekday_n_departure  month_departure  hour_departure  \\\n",
              "0                    3                8              16   \n",
              "1                    1                4              12   \n",
              "2                    6                4              15   \n",
              "\n",
              "   weekday_n_insert_date  month_insert_date  hour_insert_date  ...  \\\n",
              "0                      4                  8                12  ...   \n",
              "1                      3                  4                22  ...   \n",
              "2                      6                  3                 3  ...   \n",
              "\n",
              "   weekday_insert_date_Saturday  weekday_insert_date_Sunday  \\\n",
              "0                             0                           0   \n",
              "1                             0                           0   \n",
              "2                             0                           1   \n",
              "\n",
              "   weekday_insert_date_Thursday  weekday_insert_date_Tuesday  \\\n",
              "0                             0                            0   \n",
              "1                             1                            0   \n",
              "2                             0                            0   \n",
              "\n",
              "   weekday_insert_date_Wednesday  train_line_MADRID-BARCELONA  \\\n",
              "0                              0                            0   \n",
              "1                              0                            1   \n",
              "2                              0                            0   \n",
              "\n",
              "   train_line_MADRID-CORDOBA  train_line_MADRID-SEVILLA  \\\n",
              "0                          0                          0   \n",
              "1                          0                          0   \n",
              "2                          0                          0   \n",
              "\n",
              "   train_line_MADRID-VALENCIA  train_line_OTRO  \n",
              "0                           1                0  \n",
              "1                           0                0  \n",
              "2                           0                1  \n",
              "\n",
              "[3 rows x 55 columns]"
            ],
            "text/html": [
              "\n",
              "  <div id=\"df-13197d02-0d27-46ee-8d15-726c382640bd\">\n",
              "    <div class=\"colab-df-container\">\n",
              "      <div>\n",
              "<style scoped>\n",
              "    .dataframe tbody tr th:only-of-type {\n",
              "        vertical-align: middle;\n",
              "    }\n",
              "\n",
              "    .dataframe tbody tr th {\n",
              "        vertical-align: top;\n",
              "    }\n",
              "\n",
              "    .dataframe thead th {\n",
              "        text-align: right;\n",
              "    }\n",
              "</style>\n",
              "<table border=\"1\" class=\"dataframe\">\n",
              "  <thead>\n",
              "    <tr style=\"text-align: right;\">\n",
              "      <th></th>\n",
              "      <th>departure</th>\n",
              "      <th>arrival</th>\n",
              "      <th>duration</th>\n",
              "      <th>insert_date</th>\n",
              "      <th>weekday_n_departure</th>\n",
              "      <th>month_departure</th>\n",
              "      <th>hour_departure</th>\n",
              "      <th>weekday_n_insert_date</th>\n",
              "      <th>month_insert_date</th>\n",
              "      <th>hour_insert_date</th>\n",
              "      <th>...</th>\n",
              "      <th>weekday_insert_date_Saturday</th>\n",
              "      <th>weekday_insert_date_Sunday</th>\n",
              "      <th>weekday_insert_date_Thursday</th>\n",
              "      <th>weekday_insert_date_Tuesday</th>\n",
              "      <th>weekday_insert_date_Wednesday</th>\n",
              "      <th>train_line_MADRID-BARCELONA</th>\n",
              "      <th>train_line_MADRID-CORDOBA</th>\n",
              "      <th>train_line_MADRID-SEVILLA</th>\n",
              "      <th>train_line_MADRID-VALENCIA</th>\n",
              "      <th>train_line_OTRO</th>\n",
              "    </tr>\n",
              "  </thead>\n",
              "  <tbody>\n",
              "    <tr>\n",
              "      <th>0</th>\n",
              "      <td>2019-08-29 16:55:00</td>\n",
              "      <td>2019-08-29 21:58:00</td>\n",
              "      <td>5.05</td>\n",
              "      <td>2019-08-16 12:02:16</td>\n",
              "      <td>3</td>\n",
              "      <td>8</td>\n",
              "      <td>16</td>\n",
              "      <td>4</td>\n",
              "      <td>8</td>\n",
              "      <td>12</td>\n",
              "      <td>...</td>\n",
              "      <td>0</td>\n",
              "      <td>0</td>\n",
              "      <td>0</td>\n",
              "      <td>0</td>\n",
              "      <td>0</td>\n",
              "      <td>0</td>\n",
              "      <td>0</td>\n",
              "      <td>0</td>\n",
              "      <td>1</td>\n",
              "      <td>0</td>\n",
              "    </tr>\n",
              "    <tr>\n",
              "      <th>1</th>\n",
              "      <td>2019-04-30 12:50:00</td>\n",
              "      <td>2019-04-30 15:45:00</td>\n",
              "      <td>2.92</td>\n",
              "      <td>2019-04-18 22:20:08</td>\n",
              "      <td>1</td>\n",
              "      <td>4</td>\n",
              "      <td>12</td>\n",
              "      <td>3</td>\n",
              "      <td>4</td>\n",
              "      <td>22</td>\n",
              "      <td>...</td>\n",
              "      <td>0</td>\n",
              "      <td>0</td>\n",
              "      <td>1</td>\n",
              "      <td>0</td>\n",
              "      <td>0</td>\n",
              "      <td>1</td>\n",
              "      <td>0</td>\n",
              "      <td>0</td>\n",
              "      <td>0</td>\n",
              "      <td>0</td>\n",
              "    </tr>\n",
              "    <tr>\n",
              "      <th>2</th>\n",
              "      <td>2020-04-26 15:35:00</td>\n",
              "      <td>2020-04-26 18:06:00</td>\n",
              "      <td>2.52</td>\n",
              "      <td>2020-03-01 03:18:13</td>\n",
              "      <td>6</td>\n",
              "      <td>4</td>\n",
              "      <td>15</td>\n",
              "      <td>6</td>\n",
              "      <td>3</td>\n",
              "      <td>3</td>\n",
              "      <td>...</td>\n",
              "      <td>0</td>\n",
              "      <td>1</td>\n",
              "      <td>0</td>\n",
              "      <td>0</td>\n",
              "      <td>0</td>\n",
              "      <td>0</td>\n",
              "      <td>0</td>\n",
              "      <td>0</td>\n",
              "      <td>0</td>\n",
              "      <td>1</td>\n",
              "    </tr>\n",
              "  </tbody>\n",
              "</table>\n",
              "<p>3 rows × 55 columns</p>\n",
              "</div>\n",
              "      <button class=\"colab-df-convert\" onclick=\"convertToInteractive('df-13197d02-0d27-46ee-8d15-726c382640bd')\"\n",
              "              title=\"Convert this dataframe to an interactive table.\"\n",
              "              style=\"display:none;\">\n",
              "        \n",
              "  <svg xmlns=\"http://www.w3.org/2000/svg\" height=\"24px\"viewBox=\"0 0 24 24\"\n",
              "       width=\"24px\">\n",
              "    <path d=\"M0 0h24v24H0V0z\" fill=\"none\"/>\n",
              "    <path d=\"M18.56 5.44l.94 2.06.94-2.06 2.06-.94-2.06-.94-.94-2.06-.94 2.06-2.06.94zm-11 1L8.5 8.5l.94-2.06 2.06-.94-2.06-.94L8.5 2.5l-.94 2.06-2.06.94zm10 10l.94 2.06.94-2.06 2.06-.94-2.06-.94-.94-2.06-.94 2.06-2.06.94z\"/><path d=\"M17.41 7.96l-1.37-1.37c-.4-.4-.92-.59-1.43-.59-.52 0-1.04.2-1.43.59L10.3 9.45l-7.72 7.72c-.78.78-.78 2.05 0 2.83L4 21.41c.39.39.9.59 1.41.59.51 0 1.02-.2 1.41-.59l7.78-7.78 2.81-2.81c.8-.78.8-2.07 0-2.86zM5.41 20L4 18.59l7.72-7.72 1.47 1.35L5.41 20z\"/>\n",
              "  </svg>\n",
              "      </button>\n",
              "      \n",
              "  <style>\n",
              "    .colab-df-container {\n",
              "      display:flex;\n",
              "      flex-wrap:wrap;\n",
              "      gap: 12px;\n",
              "    }\n",
              "\n",
              "    .colab-df-convert {\n",
              "      background-color: #E8F0FE;\n",
              "      border: none;\n",
              "      border-radius: 50%;\n",
              "      cursor: pointer;\n",
              "      display: none;\n",
              "      fill: #1967D2;\n",
              "      height: 32px;\n",
              "      padding: 0 0 0 0;\n",
              "      width: 32px;\n",
              "    }\n",
              "\n",
              "    .colab-df-convert:hover {\n",
              "      background-color: #E2EBFA;\n",
              "      box-shadow: 0px 1px 2px rgba(60, 64, 67, 0.3), 0px 1px 3px 1px rgba(60, 64, 67, 0.15);\n",
              "      fill: #174EA6;\n",
              "    }\n",
              "\n",
              "    [theme=dark] .colab-df-convert {\n",
              "      background-color: #3B4455;\n",
              "      fill: #D2E3FC;\n",
              "    }\n",
              "\n",
              "    [theme=dark] .colab-df-convert:hover {\n",
              "      background-color: #434B5C;\n",
              "      box-shadow: 0px 1px 3px 1px rgba(0, 0, 0, 0.15);\n",
              "      filter: drop-shadow(0px 1px 2px rgba(0, 0, 0, 0.3));\n",
              "      fill: #FFFFFF;\n",
              "    }\n",
              "  </style>\n",
              "\n",
              "      <script>\n",
              "        const buttonEl =\n",
              "          document.querySelector('#df-13197d02-0d27-46ee-8d15-726c382640bd button.colab-df-convert');\n",
              "        buttonEl.style.display =\n",
              "          google.colab.kernel.accessAllowed ? 'block' : 'none';\n",
              "\n",
              "        async function convertToInteractive(key) {\n",
              "          const element = document.querySelector('#df-13197d02-0d27-46ee-8d15-726c382640bd');\n",
              "          const dataTable =\n",
              "            await google.colab.kernel.invokeFunction('convertToInteractive',\n",
              "                                                     [key], {});\n",
              "          if (!dataTable) return;\n",
              "\n",
              "          const docLinkHtml = 'Like what you see? Visit the ' +\n",
              "            '<a target=\"_blank\" href=https://colab.research.google.com/notebooks/data_table.ipynb>data table notebook</a>'\n",
              "            + ' to learn more about interactive tables.';\n",
              "          element.innerHTML = '';\n",
              "          dataTable['output_type'] = 'display_data';\n",
              "          await google.colab.output.renderOutput(dataTable, element);\n",
              "          const docLink = document.createElement('div');\n",
              "          docLink.innerHTML = docLinkHtml;\n",
              "          element.appendChild(docLink);\n",
              "        }\n",
              "      </script>\n",
              "    </div>\n",
              "  </div>\n",
              "  "
            ]
          },
          "metadata": {},
          "execution_count": 236
        }
      ]
    },
    {
      "cell_type": "code",
      "source": [
        "X.shape"
      ],
      "metadata": {
        "id": "BNDzLqLfhtms",
        "colab": {
          "base_uri": "https://localhost:8080/"
        },
        "outputId": "d1ae2d16-8127-4a57-aa8d-a35b62fcb718"
      },
      "execution_count": null,
      "outputs": [
        {
          "output_type": "execute_result",
          "data": {
            "text/plain": [
              "(199674, 55)"
            ]
          },
          "metadata": {},
          "execution_count": 237
        }
      ]
    },
    {
      "cell_type": "code",
      "source": [
        "# Eliminamos las columnas antiguas de fechas pues ya no nos sirven\n",
        "X.drop(columns=[\"departure\", \"arrival\", \"insert_date\"], inplace=True)"
      ],
      "metadata": {
        "id": "_S6gVd79b1dW"
      },
      "execution_count": null,
      "outputs": []
    },
    {
      "cell_type": "code",
      "source": [
        "X.info()"
      ],
      "metadata": {
        "colab": {
          "base_uri": "https://localhost:8080/"
        },
        "id": "qt47xvfeV3Nb",
        "outputId": "66e23ad6-3172-438e-e13d-e2d0c639de6d"
      },
      "execution_count": null,
      "outputs": [
        {
          "output_type": "stream",
          "name": "stdout",
          "text": [
            "<class 'pandas.core.frame.DataFrame'>\n",
            "Int64Index: 199674 entries, 0 to 199999\n",
            "Data columns (total 52 columns):\n",
            " #   Column                            Non-Null Count   Dtype  \n",
            "---  ------                            --------------   -----  \n",
            " 0   duration                          199674 non-null  float64\n",
            " 1   weekday_n_departure               199674 non-null  int64  \n",
            " 2   month_departure                   199674 non-null  int64  \n",
            " 3   hour_departure                    199674 non-null  int64  \n",
            " 4   weekday_n_insert_date             199674 non-null  int64  \n",
            " 5   month_insert_date                 199674 non-null  int64  \n",
            " 6   hour_insert_date                  199674 non-null  int64  \n",
            " 7   days_before_trip                  199674 non-null  int64  \n",
            " 8   ind_weekend                       199674 non-null  int8   \n",
            " 9   ind_holidays                      199674 non-null  int8   \n",
            " 10  origin_BARCELONA                  199674 non-null  int8   \n",
            " 11  origin_MADRID                     199674 non-null  int8   \n",
            " 12  origin_OTRO                       199674 non-null  int8   \n",
            " 13  origin_SEVILLA                    199674 non-null  int8   \n",
            " 14  origin_VALENCIA                   199674 non-null  int8   \n",
            " 15  destination_BARCELONA             199674 non-null  int8   \n",
            " 16  destination_MADRID                199674 non-null  int8   \n",
            " 17  destination_OTRO                  199674 non-null  int8   \n",
            " 18  destination_SEVILLA               199674 non-null  int8   \n",
            " 19  destination_VALENCIA              199674 non-null  int8   \n",
            " 20  vehicle_type_ALVIA                199674 non-null  int8   \n",
            " 21  vehicle_type_AVE                  199674 non-null  int8   \n",
            " 22  vehicle_type_OTRO                 199674 non-null  int8   \n",
            " 23  vehicle_class_OTRO                199674 non-null  int8   \n",
            " 24  vehicle_class_Preferente          199674 non-null  int8   \n",
            " 25  vehicle_class_Turista             199674 non-null  int8   \n",
            " 26  vehicle_class_Turista Plus        199674 non-null  int8   \n",
            " 27  vehicle_class_Turista con enlace  199674 non-null  int8   \n",
            " 28  fare_Adulto ida                   199674 non-null  int8   \n",
            " 29  fare_Flexible                     199674 non-null  int8   \n",
            " 30  fare_OTRO                         199674 non-null  int8   \n",
            " 31  fare_Promo                        199674 non-null  int8   \n",
            " 32  fare_Promo +                      199674 non-null  int8   \n",
            " 33  weekday_departure_Friday          199674 non-null  int8   \n",
            " 34  weekday_departure_Monday          199674 non-null  int8   \n",
            " 35  weekday_departure_Saturday        199674 non-null  int8   \n",
            " 36  weekday_departure_Sunday          199674 non-null  int8   \n",
            " 37  weekday_departure_Thursday        199674 non-null  int8   \n",
            " 38  weekday_departure_Tuesday         199674 non-null  int8   \n",
            " 39  weekday_departure_Wednesday       199674 non-null  int8   \n",
            " 40  weekday_insert_date_Friday        199674 non-null  int8   \n",
            " 41  weekday_insert_date_Monday        199674 non-null  int8   \n",
            " 42  weekday_insert_date_Saturday      199674 non-null  int8   \n",
            " 43  weekday_insert_date_Sunday        199674 non-null  int8   \n",
            " 44  weekday_insert_date_Thursday      199674 non-null  int8   \n",
            " 45  weekday_insert_date_Tuesday       199674 non-null  int8   \n",
            " 46  weekday_insert_date_Wednesday     199674 non-null  int8   \n",
            " 47  train_line_MADRID-BARCELONA       199674 non-null  int8   \n",
            " 48  train_line_MADRID-CORDOBA         199674 non-null  int8   \n",
            " 49  train_line_MADRID-SEVILLA         199674 non-null  int8   \n",
            " 50  train_line_MADRID-VALENCIA        199674 non-null  int8   \n",
            " 51  train_line_OTRO                   199674 non-null  int8   \n",
            "dtypes: float64(1), int64(7), int8(44)\n",
            "memory usage: 22.1 MB\n"
          ]
        }
      ]
    },
    {
      "cell_type": "markdown",
      "metadata": {
        "id": "GBG0dj99FSgj"
      },
      "source": [
        "## Altamente correlacionadas"
      ]
    },
    {
      "cell_type": "code",
      "execution_count": null,
      "metadata": {
        "id": "Is7lgENaFSgj"
      },
      "outputs": [],
      "source": [
        "# Divide dataset en matriz de variables (X) y output (y)\n",
        "features = X.columns[X.columns!=target]"
      ]
    },
    {
      "cell_type": "code",
      "source": [
        "def highly_correlated(X, y, threshold):\n",
        "    col_corr = list() # Set of all the names of deleted columns\n",
        "    colnames = list()\n",
        "    rownames = list()\n",
        "    corr_matrix = X.corr()\n",
        "    for i in range(len(corr_matrix.columns)):\n",
        "        for j in range(i):\n",
        "            if (corr_matrix.iloc[i, j] >= threshold) and (corr_matrix.columns[j] not in col_corr):\n",
        "                colnames.append(corr_matrix.columns[i]) # getting the name of column\n",
        "                rownames.append(corr_matrix.index[j])\n",
        "                col_corr.append(corr_matrix.iloc[i, j])\n",
        "    Z = pd.DataFrame({'F1':colnames,\n",
        "                      'F2':rownames,\n",
        "                      'corr_F1_F2':col_corr,\n",
        "                      'corr_F1_target': [np.abs(np.corrcoef(X[i],y)[0,1]) for i in colnames],\n",
        "                      'corr_F2_target': [np.abs(np.corrcoef(X[i],y)[0,1]) for i in rownames]\n",
        "                      })\n",
        "    Z['F_to_delete'] = rownames\n",
        "    Z['F_to_delete'][Z['corr_F1_target'] < Z['corr_F2_target']] = Z['F1'][Z['corr_F1_target'] < Z['corr_F2_target']]\n",
        "    \n",
        "    return Z"
      ],
      "metadata": {
        "id": "IVynKw2Says0"
      },
      "execution_count": null,
      "outputs": []
    },
    {
      "cell_type": "code",
      "source": [
        "# Detectar y elimanamos parejas de variables altamente correlacionadas\n",
        "highly_corr = highly_correlated(X, y, 0.95)\n",
        "highly_corr"
      ],
      "metadata": {
        "colab": {
          "base_uri": "https://localhost:8080/",
          "height": 49
        },
        "id": "nJTkcdjZa5ef",
        "outputId": "ae4b13e3-2442-4164-f85c-543fcea25ef4"
      },
      "execution_count": null,
      "outputs": [
        {
          "output_type": "execute_result",
          "data": {
            "text/plain": [
              "Empty DataFrame\n",
              "Columns: [F1, F2, corr_F1_F2, corr_F1_target, corr_F2_target, F_to_delete]\n",
              "Index: []"
            ],
            "text/html": [
              "\n",
              "  <div id=\"df-19815f4c-b9b6-461a-a7db-c43fff7ef359\">\n",
              "    <div class=\"colab-df-container\">\n",
              "      <div>\n",
              "<style scoped>\n",
              "    .dataframe tbody tr th:only-of-type {\n",
              "        vertical-align: middle;\n",
              "    }\n",
              "\n",
              "    .dataframe tbody tr th {\n",
              "        vertical-align: top;\n",
              "    }\n",
              "\n",
              "    .dataframe thead th {\n",
              "        text-align: right;\n",
              "    }\n",
              "</style>\n",
              "<table border=\"1\" class=\"dataframe\">\n",
              "  <thead>\n",
              "    <tr style=\"text-align: right;\">\n",
              "      <th></th>\n",
              "      <th>F1</th>\n",
              "      <th>F2</th>\n",
              "      <th>corr_F1_F2</th>\n",
              "      <th>corr_F1_target</th>\n",
              "      <th>corr_F2_target</th>\n",
              "      <th>F_to_delete</th>\n",
              "    </tr>\n",
              "  </thead>\n",
              "  <tbody>\n",
              "  </tbody>\n",
              "</table>\n",
              "</div>\n",
              "      <button class=\"colab-df-convert\" onclick=\"convertToInteractive('df-19815f4c-b9b6-461a-a7db-c43fff7ef359')\"\n",
              "              title=\"Convert this dataframe to an interactive table.\"\n",
              "              style=\"display:none;\">\n",
              "        \n",
              "  <svg xmlns=\"http://www.w3.org/2000/svg\" height=\"24px\"viewBox=\"0 0 24 24\"\n",
              "       width=\"24px\">\n",
              "    <path d=\"M0 0h24v24H0V0z\" fill=\"none\"/>\n",
              "    <path d=\"M18.56 5.44l.94 2.06.94-2.06 2.06-.94-2.06-.94-.94-2.06-.94 2.06-2.06.94zm-11 1L8.5 8.5l.94-2.06 2.06-.94-2.06-.94L8.5 2.5l-.94 2.06-2.06.94zm10 10l.94 2.06.94-2.06 2.06-.94-2.06-.94-.94-2.06-.94 2.06-2.06.94z\"/><path d=\"M17.41 7.96l-1.37-1.37c-.4-.4-.92-.59-1.43-.59-.52 0-1.04.2-1.43.59L10.3 9.45l-7.72 7.72c-.78.78-.78 2.05 0 2.83L4 21.41c.39.39.9.59 1.41.59.51 0 1.02-.2 1.41-.59l7.78-7.78 2.81-2.81c.8-.78.8-2.07 0-2.86zM5.41 20L4 18.59l7.72-7.72 1.47 1.35L5.41 20z\"/>\n",
              "  </svg>\n",
              "      </button>\n",
              "      \n",
              "  <style>\n",
              "    .colab-df-container {\n",
              "      display:flex;\n",
              "      flex-wrap:wrap;\n",
              "      gap: 12px;\n",
              "    }\n",
              "\n",
              "    .colab-df-convert {\n",
              "      background-color: #E8F0FE;\n",
              "      border: none;\n",
              "      border-radius: 50%;\n",
              "      cursor: pointer;\n",
              "      display: none;\n",
              "      fill: #1967D2;\n",
              "      height: 32px;\n",
              "      padding: 0 0 0 0;\n",
              "      width: 32px;\n",
              "    }\n",
              "\n",
              "    .colab-df-convert:hover {\n",
              "      background-color: #E2EBFA;\n",
              "      box-shadow: 0px 1px 2px rgba(60, 64, 67, 0.3), 0px 1px 3px 1px rgba(60, 64, 67, 0.15);\n",
              "      fill: #174EA6;\n",
              "    }\n",
              "\n",
              "    [theme=dark] .colab-df-convert {\n",
              "      background-color: #3B4455;\n",
              "      fill: #D2E3FC;\n",
              "    }\n",
              "\n",
              "    [theme=dark] .colab-df-convert:hover {\n",
              "      background-color: #434B5C;\n",
              "      box-shadow: 0px 1px 3px 1px rgba(0, 0, 0, 0.15);\n",
              "      filter: drop-shadow(0px 1px 2px rgba(0, 0, 0, 0.3));\n",
              "      fill: #FFFFFF;\n",
              "    }\n",
              "  </style>\n",
              "\n",
              "      <script>\n",
              "        const buttonEl =\n",
              "          document.querySelector('#df-19815f4c-b9b6-461a-a7db-c43fff7ef359 button.colab-df-convert');\n",
              "        buttonEl.style.display =\n",
              "          google.colab.kernel.accessAllowed ? 'block' : 'none';\n",
              "\n",
              "        async function convertToInteractive(key) {\n",
              "          const element = document.querySelector('#df-19815f4c-b9b6-461a-a7db-c43fff7ef359');\n",
              "          const dataTable =\n",
              "            await google.colab.kernel.invokeFunction('convertToInteractive',\n",
              "                                                     [key], {});\n",
              "          if (!dataTable) return;\n",
              "\n",
              "          const docLinkHtml = 'Like what you see? Visit the ' +\n",
              "            '<a target=\"_blank\" href=https://colab.research.google.com/notebooks/data_table.ipynb>data table notebook</a>'\n",
              "            + ' to learn more about interactive tables.';\n",
              "          element.innerHTML = '';\n",
              "          dataTable['output_type'] = 'display_data';\n",
              "          await google.colab.output.renderOutput(dataTable, element);\n",
              "          const docLink = document.createElement('div');\n",
              "          docLink.innerHTML = docLinkHtml;\n",
              "          element.appendChild(docLink);\n",
              "        }\n",
              "      </script>\n",
              "    </div>\n",
              "  </div>\n",
              "  "
            ]
          },
          "metadata": {},
          "execution_count": 242
        }
      ]
    },
    {
      "cell_type": "markdown",
      "source": [
        "## Eliminar variables baja Varianza"
      ],
      "metadata": {
        "id": "-_G7mFhkjr1c"
      }
    },
    {
      "cell_type": "code",
      "source": [
        "vt = VarianceThreshold(threshold = 0.01) #Eliminamos columnas donde el 99% de los valores son iguales\n",
        "vt.fit(X)\n",
        "cols_lowvar = X.columns[vt.get_support()==False]\n",
        "X.drop(columns=cols_lowvar,inplace=True)\n",
        "print(len(cols_lowvar),' low variance features were removed:\\n', cols_lowvar)"
      ],
      "metadata": {
        "colab": {
          "base_uri": "https://localhost:8080/"
        },
        "id": "lCqUT0TpbaY9",
        "outputId": "0cdd41c7-49cd-4306-d77b-1fa490109a20"
      },
      "execution_count": null,
      "outputs": [
        {
          "output_type": "stream",
          "name": "stdout",
          "text": [
            "1  low variance features were removed:\n",
            " Index(['vehicle_class_OTRO'], dtype='object')\n"
          ]
        }
      ]
    },
    {
      "cell_type": "markdown",
      "metadata": {
        "id": "xhFyxuvRFSgk"
      },
      "source": [
        "## Split train-test"
      ]
    },
    {
      "cell_type": "markdown",
      "metadata": {
        "id": "9IQbs_P_FSgk"
      },
      "source": [
        "Test debe ser 30%"
      ]
    },
    {
      "cell_type": "code",
      "source": [
        "X.shape"
      ],
      "metadata": {
        "colab": {
          "base_uri": "https://localhost:8080/"
        },
        "id": "u7xAhFwbfILK",
        "outputId": "d7efed87-a843-4fb6-ff09-4475290e6379"
      },
      "execution_count": null,
      "outputs": [
        {
          "output_type": "execute_result",
          "data": {
            "text/plain": [
              "(199674, 51)"
            ]
          },
          "metadata": {},
          "execution_count": 244
        }
      ]
    },
    {
      "cell_type": "code",
      "source": [
        "# Divide dataset en matriz de variables (X) y output (y)\n",
        "features = X.columns[X.columns!=target]"
      ],
      "metadata": {
        "id": "UNrbApumfMZl"
      },
      "execution_count": null,
      "outputs": []
    },
    {
      "cell_type": "code",
      "source": [
        "# Divide X-y en Train (70%) y Test (30%)\n",
        "X_train, X_test, y_train, y_test = train_test_split(X, y, test_size=0.3, random_state=42)"
      ],
      "metadata": {
        "id": "PpFAbflVfQ62"
      },
      "execution_count": null,
      "outputs": []
    },
    {
      "cell_type": "code",
      "execution_count": null,
      "metadata": {
        "id": "qVN5JpRaFSgk",
        "colab": {
          "base_uri": "https://localhost:8080/"
        },
        "outputId": "225cb774-243e-481e-bf18-82c1cf76ff5f"
      },
      "outputs": [
        {
          "output_type": "stream",
          "name": "stdout",
          "text": [
            "Train: 139,771\n",
            "Test: 59,903\n"
          ]
        }
      ],
      "source": [
        "print(\"Train: {:,}\".format(len(y_train)))\n",
        "print(\"Test: {:,}\".format(len(y_test)))"
      ]
    },
    {
      "cell_type": "markdown",
      "metadata": {
        "id": "GzgJkGmOFSgo"
      },
      "source": [
        "# Torneo de modelos"
      ]
    },
    {
      "cell_type": "markdown",
      "metadata": {
        "id": "d3nKLgPmFSgp"
      },
      "source": [
        "* Probar regresion Lineal y xgbRegressor al menos\n",
        "* Utilizar en cada modelo la funcion evaluate_model(model, X_train, y_train, X_test, y_test)"
      ]
    },
    {
      "cell_type": "markdown",
      "source": [
        "Modelo Regresión Lineal"
      ],
      "metadata": {
        "id": "BKLBOg1ktt52"
      }
    },
    {
      "cell_type": "code",
      "source": [
        "X_train3 = X_train.copy()\n",
        "X_test3 = X_test.copy()\n",
        "y_train3 = y_train.copy()\n",
        "y_test3 = y_test.copy()"
      ],
      "metadata": {
        "id": "r-qUZv3MzEQ3"
      },
      "execution_count": null,
      "outputs": []
    },
    {
      "cell_type": "code",
      "source": [
        "# Estandarización: fit_transform() en train, transform() en test\n",
        "scaler = StandardScaler()\n",
        "X_train3 = scaler.fit_transform(X_train3) # el fit es para ajustar los datos, calcula la media y varianza del X_train y lo aplica sobre él pero solo a datos entrenados no a los del test.\n",
        "X_test3 = scaler.transform(X_test3)"
      ],
      "metadata": {
        "id": "9Hi2XAnzs5xT"
      },
      "execution_count": null,
      "outputs": []
    },
    {
      "cell_type": "code",
      "source": [
        "X_train3"
      ],
      "metadata": {
        "colab": {
          "base_uri": "https://localhost:8080/"
        },
        "id": "eN7RmuHls5mL",
        "outputId": "5d637379-c4b9-4fc6-ad54-a12e7ce093d0"
      },
      "execution_count": null,
      "outputs": [
        {
          "output_type": "execute_result",
          "data": {
            "text/plain": [
              "array([[-0.41311359,  1.59644327, -0.28066745, ..., -0.49432339,\n",
              "         2.01234449, -0.65949385],\n",
              "       [-0.09402963,  1.08835996, -0.72026415, ..., -0.49432339,\n",
              "        -0.49693281, -0.65949385],\n",
              "       [-0.23442657, -0.94397329,  0.15892925, ...,  2.02296719,\n",
              "        -0.49693281, -0.65949385],\n",
              "       ...,\n",
              "       [-0.17060978, -0.94397329, -1.15986084, ...,  2.02296719,\n",
              "        -0.49693281, -0.65949385],\n",
              "       [-0.98746471,  0.07219333, -1.15986084, ..., -0.49432339,\n",
              "        -0.49693281,  1.51631436],\n",
              "       [ 1.50139016,  0.07219333, -0.72026415, ..., -0.49432339,\n",
              "        -0.49693281, -0.65949385]])"
            ]
          },
          "metadata": {},
          "execution_count": 250
        }
      ]
    },
    {
      "cell_type": "code",
      "source": [
        "X_test3"
      ],
      "metadata": {
        "colab": {
          "base_uri": "https://localhost:8080/"
        },
        "id": "BnGXCp_Ws5iU",
        "outputId": "5e2c115e-2869-4fb7-c0ef-2d32fd7a88c3"
      },
      "execution_count": null,
      "outputs": [
        {
          "output_type": "execute_result",
          "data": {
            "text/plain": [
              "array([[ 3.9391916 , -1.4520566 ,  2.79650944, ..., -0.49432339,\n",
              "        -0.49693281, -0.65949385],\n",
              "       [-0.15784642, -1.4520566 , -0.72026415, ..., -0.49432339,\n",
              "        -0.49693281,  1.51631436],\n",
              "       [-0.87259449, -1.4520566 , -1.15986084, ..., -0.49432339,\n",
              "        -0.49693281,  1.51631436],\n",
              "       ...,\n",
              "       [-0.23442657,  0.58027665,  1.47771935, ...,  2.02296719,\n",
              "        -0.49693281, -0.65949385],\n",
              "       [-0.09402963,  0.58027665, -0.28066745, ..., -0.49432339,\n",
              "        -0.49693281, -0.65949385],\n",
              "       [-0.09402963,  1.59644327, -0.28066745, ..., -0.49432339,\n",
              "        -0.49693281, -0.65949385]])"
            ]
          },
          "metadata": {},
          "execution_count": 251
        }
      ]
    },
    {
      "cell_type": "code",
      "source": [
        "lin_reg = LinearRegression()\n",
        "lin_reg.fit(X_train3,y_train3)"
      ],
      "metadata": {
        "colab": {
          "base_uri": "https://localhost:8080/"
        },
        "id": "7JilJ450s5d9",
        "outputId": "18731cc6-ef25-4d60-8e2a-639760055f68"
      },
      "execution_count": null,
      "outputs": [
        {
          "output_type": "execute_result",
          "data": {
            "text/plain": [
              "LinearRegression()"
            ]
          },
          "metadata": {},
          "execution_count": 252
        }
      ]
    },
    {
      "cell_type": "code",
      "source": [
        "lin_reg.coef_"
      ],
      "metadata": {
        "colab": {
          "base_uri": "https://localhost:8080/"
        },
        "id": "YPRvhihls5Zt",
        "outputId": "dcb9e2a1-d93e-4b9d-feea-5674bbce10e8"
      },
      "execution_count": null,
      "outputs": [
        {
          "output_type": "execute_result",
          "data": {
            "text/plain": [
              "array([ 9.41311085e-01,  3.66112027e+13, -2.73862475e+00, -8.32413717e-02,\n",
              "       -5.51934277e+12,  2.28796161e+00, -5.48596231e-03, -4.30465718e-01,\n",
              "       -2.34240916e+13,  1.45567111e-01, -3.52689414e+13, -5.34088585e+13,\n",
              "        1.41435186e+13,  7.28091449e+13,  1.08558721e+13,  3.04670518e+13,\n",
              "        4.52934289e+13,  8.81468224e+13,  1.31457143e+14,  7.10412775e+13,\n",
              "       -3.32795616e+13, -6.24504877e+13, -5.85320893e+13,  3.50184614e+00,\n",
              "       -2.45359379e+00,  7.11164065e-01, -7.32143426e-01, -1.70821184e+13,\n",
              "       -2.70090232e+13, -6.46548749e+12, -2.99743008e+13, -1.68122658e+13,\n",
              "       -1.53082442e+12,  2.51271881e+13,  1.00237778e+13,  4.40392082e+12,\n",
              "        5.16769750e+12,  1.84594664e+13,  1.17720268e+13, -7.46806326e+12,\n",
              "       -1.07690171e+13, -6.61707088e+12, -5.16417789e+12, -8.39544615e+12,\n",
              "       -1.00387648e+13, -9.37183886e+12,  1.13826167e+14,  2.82624096e+13,\n",
              "       -3.44587991e+13,  4.83930711e+13,  5.58098981e+13])"
            ]
          },
          "metadata": {},
          "execution_count": 253
        }
      ]
    },
    {
      "cell_type": "code",
      "source": [
        "# Fórmula de la regresión lineal sobre las variables estandarizadas\n",
        "print(\"MODEL:\")  # son variables estandarizadas\n",
        "print(target+\" = \"+\" \".join(i+' x '+str(round(j,1))+' + ' for i,j in zip(X.columns.values,lin_reg.coef_))+str(round(lin_reg.intercept_,1)))"
      ],
      "metadata": {
        "colab": {
          "base_uri": "https://localhost:8080/"
        },
        "id": "4BJROK39s5Sb",
        "outputId": "0e8ab057-b355-4529-abf9-dbe650aee9f6"
      },
      "execution_count": null,
      "outputs": [
        {
          "output_type": "stream",
          "name": "stdout",
          "text": [
            "MODEL:\n",
            "price = duration x 0.9 +  weekday_n_departure x 36611202726999.0 +  month_departure x -2.7 +  hour_departure x -0.1 +  weekday_n_insert_date x -5519342772730.9 +  month_insert_date x 2.3 +  hour_insert_date x -0.0 +  days_before_trip x -0.4 +  ind_weekend x -23424091611343.3 +  ind_holidays x 0.1 +  origin_BARCELONA x -35268941422882.1 +  origin_MADRID x -53408858488542.2 +  origin_OTRO x 14143518571531.8 +  origin_SEVILLA x 72809144932629.3 +  origin_VALENCIA x 10855872075782.9 +  destination_BARCELONA x 30467051790506.2 +  destination_MADRID x 45293428923015.9 +  destination_OTRO x 88146822444805.2 +  destination_SEVILLA x 131457142892406.8 +  destination_VALENCIA x 71041277507002.2 +  vehicle_type_ALVIA x -33279561573040.4 +  vehicle_type_AVE x -62450487697707.2 +  vehicle_type_OTRO x -58532089311763.6 +  vehicle_class_Preferente x 3.5 +  vehicle_class_Turista x -2.5 +  vehicle_class_Turista Plus x 0.7 +  vehicle_class_Turista con enlace x -0.7 +  fare_Adulto ida x -17082118356944.6 +  fare_Flexible x -27009023221873.6 +  fare_OTRO x -6465487486845.5 +  fare_Promo x -29974300816374.3 +  fare_Promo + x -16812265783906.1 +  weekday_departure_Friday x -1530824423110.4 +  weekday_departure_Monday x 25127188055288.5 +  weekday_departure_Saturday x 10023777795835.2 +  weekday_departure_Sunday x 4403920816016.3 +  weekday_departure_Thursday x 5167697501153.1 +  weekday_departure_Tuesday x 18459466389896.0 +  weekday_departure_Wednesday x 11772026797796.2 +  weekday_insert_date_Friday x -7468063255325.3 +  weekday_insert_date_Monday x -10769017075433.5 +  weekday_insert_date_Saturday x -6617070882889.5 +  weekday_insert_date_Sunday x -5164177885978.2 +  weekday_insert_date_Thursday x -8395446151237.4 +  weekday_insert_date_Tuesday x -10038764831601.3 +  weekday_insert_date_Wednesday x -9371838858857.3 +  train_line_MADRID-BARCELONA x 113826166557927.4 +  train_line_MADRID-CORDOBA x 28262409575344.2 +  train_line_MADRID-SEVILLA x -34458799124037.2 +  train_line_MADRID-VALENCIA x 48393071119139.2 +  train_line_OTRO x 55809898087026.4 + 58.3\n"
          ]
        }
      ]
    },
    {
      "cell_type": "code",
      "source": [
        "#Predicción sobre X test\n",
        "y_pred = lin_reg.predict(X_test3)"
      ],
      "metadata": {
        "id": "Osfse7Nes47f"
      },
      "execution_count": null,
      "outputs": []
    },
    {
      "cell_type": "code",
      "source": [
        "error = y_pred - y_test.values"
      ],
      "metadata": {
        "id": "EGQkmNaB9pgo"
      },
      "execution_count": null,
      "outputs": []
    },
    {
      "cell_type": "code",
      "source": [
        "RMSE = np.sqrt(np.mean(error**2))\n",
        "RMSE "
      ],
      "metadata": {
        "colab": {
          "base_uri": "https://localhost:8080/"
        },
        "id": "kxxe3Dw69pcd",
        "outputId": "28d11151-e85b-4e34-a51a-7514fb282075"
      },
      "execution_count": null,
      "outputs": [
        {
          "output_type": "execute_result",
          "data": {
            "text/plain": [
              "13.161872362917595"
            ]
          },
          "metadata": {},
          "execution_count": 257
        }
      ]
    },
    {
      "cell_type": "code",
      "source": [],
      "metadata": {
        "id": "AGCDvGUB9pRJ"
      },
      "execution_count": null,
      "outputs": []
    },
    {
      "cell_type": "markdown",
      "source": [
        "Modelo XGBReg"
      ],
      "metadata": {
        "id": "tADm-PIDtzkn"
      }
    },
    {
      "cell_type": "code",
      "execution_count": null,
      "metadata": {
        "id": "7I8IVdb5FSgp"
      },
      "outputs": [],
      "source": [
        "model_XGBReg = xgb.XGBRegressor(colsample_bytree=0.5, n_estimators=500, objective='reg:squarederror')"
      ]
    },
    {
      "cell_type": "code",
      "metadata": {
        "id": "hRZ8qdnsNyFu",
        "outputId": "2ddfb7dd-2b65-46ee-c187-fb6dfdbe6d6d",
        "colab": {
          "base_uri": "https://localhost:8080/"
        }
      },
      "source": [
        "eval_set = [(X_train, y_train), (X_test, y_test)] \n",
        "model_XGBReg.fit(\n",
        "    X_train, \n",
        "    y_train, \n",
        "    eval_metric = \"rmse\", \n",
        "    eval_set = eval_set, \n",
        "    verbose = False\n",
        ")"
      ],
      "execution_count": null,
      "outputs": [
        {
          "output_type": "execute_result",
          "data": {
            "text/plain": [
              "XGBRegressor(colsample_bytree=0.5, n_estimators=500,\n",
              "             objective='reg:squarederror')"
            ]
          },
          "metadata": {},
          "execution_count": 259
        }
      ]
    },
    {
      "cell_type": "code",
      "source": [
        "y_pred_train = model_XGBReg.predict(X_train)\n",
        "rmse_train = np.sqrt(np.mean((y_pred_train - y_train) ** 2))\n",
        "\n",
        "y_pred_test = model_XGBReg.predict(X_test)\n",
        "rmse_test = np.sqrt(np.mean((y_pred_test - y_test) ** 2))\n",
        "\n",
        "print(\"RMSE Train: %.3f\" %rmse_train)\n",
        "print(\"RMSE Test: %.3f\" %rmse_test)"
      ],
      "metadata": {
        "colab": {
          "base_uri": "https://localhost:8080/"
        },
        "id": "EtUumhsEktIv",
        "outputId": "01c80a5f-821c-4082-9d36-ae8712528a9d"
      },
      "execution_count": null,
      "outputs": [
        {
          "output_type": "stream",
          "name": "stdout",
          "text": [
            "RMSE Train: 8.193\n",
            "RMSE Test: 8.170\n"
          ]
        }
      ]
    },
    {
      "cell_type": "code",
      "source": [
        "# Nos quedamos con el modelo XGBReg que da mejores resultados: 8.1 frente a 13.1  A continuación hiperparametrizamos"
      ],
      "metadata": {
        "id": "4qizU-MQz9rX"
      },
      "execution_count": null,
      "outputs": []
    },
    {
      "cell_type": "markdown",
      "metadata": {
        "id": "5DUgJZuQFSgp"
      },
      "source": [
        "# Hiperparametrizacion: GridSearch"
      ]
    },
    {
      "cell_type": "code",
      "execution_count": null,
      "metadata": {
        "id": "scAT_E-pFSgq"
      },
      "outputs": [],
      "source": [
        "from sklearn.model_selection import GridSearchCV\n",
        "\n",
        "xgb_GS = xgb.XGBRegressor()  #ahora XGBRegresssor\n",
        "\n",
        "parameters = {'nthread':[4], #when use hyperthread, xgboost may become slower Son los parámetros que utilizará y dara el mejor modelo con un comando posterior\n",
        "              'objective':['reg:squarederror'],\n",
        "              'learning_rate': [0.03, 0.05], #so called `eta` value\n",
        "              'max_depth': [3, 5, 7],\n",
        "              'min_child_weight': [4],\n",
        "              'subsample': [0.7],\n",
        "              'colsample_bytree': [0.5,0.7],\n",
        "              'n_estimators': [100,500,1000]}\n"
      ]
    },
    {
      "cell_type": "code",
      "source": [
        "xgb_grid = GridSearchCV(xgb_GS,\n",
        "                        parameters,\n",
        "                        cv=2,\n",
        "                        verbose=True)\n",
        "\n",
        "xgb_grid.fit(X_train, y_train)"
      ],
      "metadata": {
        "id": "Etu_njmJmBDf",
        "colab": {
          "base_uri": "https://localhost:8080/"
        },
        "outputId": "8de97a4c-5fe9-4185-bff3-8138c03d2bc2"
      },
      "execution_count": null,
      "outputs": [
        {
          "output_type": "stream",
          "name": "stdout",
          "text": [
            "Fitting 2 folds for each of 36 candidates, totalling 72 fits\n"
          ]
        },
        {
          "output_type": "execute_result",
          "data": {
            "text/plain": [
              "GridSearchCV(cv=2, estimator=XGBRegressor(),\n",
              "             param_grid={'colsample_bytree': [0.5, 0.7],\n",
              "                         'learning_rate': [0.03, 0.05], 'max_depth': [3, 5, 7],\n",
              "                         'min_child_weight': [4],\n",
              "                         'n_estimators': [100, 500, 1000], 'nthread': [4],\n",
              "                         'objective': ['reg:squarederror'],\n",
              "                         'subsample': [0.7]},\n",
              "             verbose=True)"
            ]
          },
          "metadata": {},
          "execution_count": 263
        }
      ]
    },
    {
      "cell_type": "code",
      "source": [
        "# Best model (XGBoost hiperparametrizado)   \n",
        "model_XGBReg_hp = xgb_grid.best_estimator_       \n",
        "model_XGBReg_hp"
      ],
      "metadata": {
        "id": "Ph2onO9vmGSr",
        "colab": {
          "base_uri": "https://localhost:8080/"
        },
        "outputId": "95c5feff-b0be-4065-e8ee-8e3cf4cdb812"
      },
      "execution_count": null,
      "outputs": [
        {
          "output_type": "execute_result",
          "data": {
            "text/plain": [
              "XGBRegressor(colsample_bytree=0.7, learning_rate=0.05, max_depth=7,\n",
              "             min_child_weight=4, n_estimators=1000, nthread=4,\n",
              "             objective='reg:squarederror', subsample=0.7)"
            ]
          },
          "metadata": {},
          "execution_count": 264
        }
      ]
    },
    {
      "cell_type": "code",
      "source": [
        "#Prediction and metrics\n",
        "y_pred_train = model_XGBReg_hp.predict(X_train)\n",
        "rmse_train = np.sqrt(np.mean((y_pred_train - y_train) ** 2))\n",
        "\n",
        "y_pred_test = model_XGBReg_hp.predict(X_test)\n",
        "rmse_test = np.sqrt(np.mean((y_pred_test - y_test) ** 2))\n",
        "\n",
        "print(\"RMSE Train: %.3f\" %rmse_train)\n",
        "print(\"RMSE Test: %.3f\" %rmse_test)"
      ],
      "metadata": {
        "colab": {
          "base_uri": "https://localhost:8080/"
        },
        "id": "IVYcK63vwh98",
        "outputId": "557118a7-458b-4c78-d180-ae21aa2889da"
      },
      "execution_count": null,
      "outputs": [
        {
          "output_type": "stream",
          "name": "stdout",
          "text": [
            "RMSE Train: 4.941\n",
            "RMSE Test: 5.661\n"
          ]
        }
      ]
    },
    {
      "cell_type": "code",
      "source": [
        "# El error baja bastante"
      ],
      "metadata": {
        "id": "11nigzRTgkT6"
      },
      "execution_count": null,
      "outputs": []
    },
    {
      "cell_type": "code",
      "source": [
        "#Error distribution\n",
        "error = y_pred_test - y_test.values\n",
        "plt.figure(figsize=(10, 6))\n",
        "plt.title('Distribucion del error (price)', fontsize=15)\n",
        "sns.histplot(error)\n",
        "plt.show()"
      ],
      "metadata": {
        "colab": {
          "base_uri": "https://localhost:8080/",
          "height": 406
        },
        "id": "Qxvu-LJ1whxr",
        "outputId": "eb8d0a7a-eb59-4486-b006-576109d37a04"
      },
      "execution_count": null,
      "outputs": [
        {
          "output_type": "display_data",
          "data": {
            "text/plain": [
              "<Figure size 720x432 with 1 Axes>"
            ],
            "image/png": "[encoded data removed]"
          },
          "metadata": {
            "needs_background": "light"
          }
        }
      ]
    },
    {
      "cell_type": "code",
      "source": [
        "#Compara Prediccion vs dato real\n",
        "plt.figure(figsize=[10,6])\n",
        "plt.scatter(y_test,y_pred_test)\n",
        "plt.plot(y_test,y_test,'r')\n",
        "plt.title('True vs Predicted')\n",
        "plt.xlabel('True values')\n",
        "plt.ylabel('Predicted values')\n",
        "plt.legend(['Regresion Ideal (0% Error)','Nuestra Regresión'])\n",
        "plt.show()"
      ],
      "metadata": {
        "colab": {
          "base_uri": "https://localhost:8080/",
          "height": 430
        },
        "id": "1akdA83LwhX3",
        "outputId": "e236e236-86d2-411e-db79-b9bbf94140af"
      },
      "execution_count": null,
      "outputs": [
        {
          "output_type": "display_data",
          "data": {
            "text/plain": [
              "<Figure size 720x432 with 1 Axes>"
            ],
            "image/png": "[encoded data removed]"
          },
          "metadata": {
            "needs_background": "light"
          }
        }
      ]
    },
    {
      "cell_type": "code",
      "source": [
        "# el error es una campana de gauss perfectamente normalizada lo cual da idea de que el modelo es correcto"
      ],
      "metadata": {
        "id": "IpNP0yFBgu7V"
      },
      "execution_count": null,
      "outputs": []
    },
    {
      "cell_type": "markdown",
      "metadata": {
        "id": "reoOz299FSgq"
      },
      "source": [
        "# Interpretabilidad del modelo"
      ]
    },
    {
      "cell_type": "code",
      "execution_count": null,
      "metadata": {
        "id": "4QMJoiodFSgq",
        "colab": {
          "base_uri": "https://localhost:8080/",
          "height": 268
        },
        "outputId": "615b0c05-37c7-45e3-d854-f0998b79e1a5"
      },
      "outputs": [
        {
          "output_type": "display_data",
          "data": {
            "text/plain": [
              "<Figure size 1440x720 with 1 Axes>"
            ],
            "image/png": "[encoded data removed]"
          },
          "metadata": {
            "needs_background": "light"
          }
        }
      ],
      "source": [
        "# Visualiza un árbol concreto de los [n_estimators] que utiliza el XGBoost\n",
        "plt.rcParams[\"figure.figsize\"] =[20, 10]\n",
        "plot_tree(model_XGBReg, num_trees=50)\n",
        "plt.show()"
      ]
    },
    {
      "cell_type": "code",
      "source": [
        "# Feature importance: numero de veces que emplea la variable para determinar el output\n",
        "rcParams['figure.figsize'] = 12,8\n",
        "sns.set(context=\"talk\")\n",
        "xgb.plot_importance(model_XGBReg_hp, max_num_features=20, importance_type='weight')\n",
        "plt.show()"
      ],
      "metadata": {
        "colab": {
          "base_uri": "https://localhost:8080/",
          "height": 538
        },
        "id": "Fyrcr5-SsPxa",
        "outputId": "4e10ee29-7fd2-4a46-8214-f1afec4f3064"
      },
      "execution_count": null,
      "outputs": [
        {
          "output_type": "display_data",
          "data": {
            "text/plain": [
              "<Figure size 864x576 with 1 Axes>"
            ],
            "image/png": "[encoded data removed]"
          },
          "metadata": {}
        }
      ]
    },
    {
      "cell_type": "code",
      "source": [
        "# Las variables más importantes que obtenemos son: la duración, el tiempo antes del viaje, mes, hora y día de la salida."
      ],
      "metadata": {
        "id": "FtnmOrb06ikA"
      },
      "execution_count": null,
      "outputs": []
    },
    {
      "cell_type": "code",
      "source": [
        "#SHAP value: peso en el output final,  impacto promedio en el output\n",
        "explainer = shap.TreeExplainer(model_XGBReg_hp)\n",
        "shap_values = explainer.shap_values(X_test)\n",
        "plt.title('SHAP values')\n",
        "shap.summary_plot(shap_values, X_test, plot_type=\"bar\", max_display=20)"
      ],
      "metadata": {
        "colab": {
          "base_uri": "https://localhost:8080/",
          "height": 676
        },
        "id": "vKjkZnufsapE",
        "outputId": "1d350b33-73e8-4396-9819-9fd183296f52"
      },
      "execution_count": null,
      "outputs": [
        {
          "output_type": "display_data",
          "data": {
            "text/plain": [
              "<Figure size 576x684 with 1 Axes>"
            ],
            "image/png": "[encoded data removed]"
          },
          "metadata": {}
        }
      ]
    },
    {
      "cell_type": "code",
      "source": [
        "# Respecto al output donde se tiene más impacto de media es en el tren línea Madrid-Barcelona, la tarifa flexible, el tren AVE y la duración."
      ],
      "metadata": {
        "id": "a_d5BX-J6_tJ"
      },
      "execution_count": null,
      "outputs": []
    },
    {
      "cell_type": "code",
      "source": [
        "shap.summary_plot(shap_values, X_test)"
      ],
      "metadata": {
        "colab": {
          "base_uri": "https://localhost:8080/",
          "height": 676
        },
        "id": "7AqWLirtsf6L",
        "outputId": "916670dc-40ff-48f4-c76d-53a97ddc7405"
      },
      "execution_count": null,
      "outputs": [
        {
          "output_type": "display_data",
          "data": {
            "text/plain": [
              "<Figure size 576x684 with 2 Axes>"
            ],
            "image/png": "[encoded data removed]"
          },
          "metadata": {}
        }
      ]
    },
    {
      "cell_type": "markdown",
      "source": [
        "# Predict"
      ],
      "metadata": {
        "id": "GQtxhjvglXvg"
      }
    },
    {
      "cell_type": "markdown",
      "metadata": {
        "id": "FpZI8jEUFSgr"
      },
      "source": [
        "## OPCION A) Generar listado de predicts"
      ]
    },
    {
      "cell_type": "markdown",
      "metadata": {
        "id": "_meH_hj5FSgs"
      },
      "source": [
        "Se pide hacer predicciones de precio para los datos de validacion y calcular el RMSE en validacion\n",
        "Hay que replicar pasos del preprocessing en dataset validacion:\n",
        "\n",
        "Cambios de formato,\n",
        "Feature Engineering,\n",
        "One hot encoding,\n",
        "Eliminacion de columnas,\n",
        "Estandarizacion de X (aplicar el mismo .transform)"
      ]
    },
    {
      "cell_type": "code",
      "execution_count": null,
      "metadata": {
        "id": "GVARVYaXFSgs"
      },
      "outputs": [],
      "source": [
        "X_pred = pd.read_csv('/content/drive/MyDrive/MASTER EN DATA SCIENCE/Módulos master/Módulo 5 - Machine Learning Regresión/Proyecto RENFE/renfe_predict.csv')"
      ]
    },
    {
      "cell_type": "code",
      "source": [
        "X_pred.head(3)"
      ],
      "metadata": {
        "id": "ZCjVmF2zn3uM",
        "colab": {
          "base_uri": "https://localhost:8080/",
          "height": 143
        },
        "outputId": "7337c846-3414-47a9-ed4a-facac7ff8af0"
      },
      "execution_count": null,
      "outputs": [
        {
          "output_type": "execute_result",
          "data": {
            "text/plain": [
              "   Unnamed: 0    origin destination            departure              arrival  \\\n",
              "0    24011276   CORDOBA      MADRID  2020-04-01 08:56:00  2020-04-01 10:40:00   \n",
              "1     8680912   SEVILLA      MADRID  2019-07-05 16:15:00  2019-07-05 18:54:00   \n",
              "2    15196259  VALENCIA      MADRID  2019-09-04 10:40:00  2019-09-04 13:05:00   \n",
              "\n",
              "   duration vehicle_type vehicle_class      fare  seats          insert_date  \n",
              "0      1.73          AVE       Turista  Flexible    NaN  2020-03-08 03:08:51  \n",
              "1      2.65          AVE       Turista     Promo    NaN  2019-05-29 09:32:34  \n",
              "2      2.42    INTERCITY       Turista     Promo    NaN  2019-08-21 19:51:20  "
            ],
            "text/html": [
              "\n",
              "  <div id=\"df-4b9ca125-b28a-4d3e-8df3-b7d5423cdf7b\">\n",
              "    <div class=\"colab-df-container\">\n",
              "      <div>\n",
              "<style scoped>\n",
              "    .dataframe tbody tr th:only-of-type {\n",
              "        vertical-align: middle;\n",
              "    }\n",
              "\n",
              "    .dataframe tbody tr th {\n",
              "        vertical-align: top;\n",
              "    }\n",
              "\n",
              "    .dataframe thead th {\n",
              "        text-align: right;\n",
              "    }\n",
              "</style>\n",
              "<table border=\"1\" class=\"dataframe\">\n",
              "  <thead>\n",
              "    <tr style=\"text-align: right;\">\n",
              "      <th></th>\n",
              "      <th>Unnamed: 0</th>\n",
              "      <th>origin</th>\n",
              "      <th>destination</th>\n",
              "      <th>departure</th>\n",
              "      <th>arrival</th>\n",
              "      <th>duration</th>\n",
              "      <th>vehicle_type</th>\n",
              "      <th>vehicle_class</th>\n",
              "      <th>fare</th>\n",
              "      <th>seats</th>\n",
              "      <th>insert_date</th>\n",
              "    </tr>\n",
              "  </thead>\n",
              "  <tbody>\n",
              "    <tr>\n",
              "      <th>0</th>\n",
              "      <td>24011276</td>\n",
              "      <td>CORDOBA</td>\n",
              "      <td>MADRID</td>\n",
              "      <td>2020-04-01 08:56:00</td>\n",
              "      <td>2020-04-01 10:40:00</td>\n",
              "      <td>1.73</td>\n",
              "      <td>AVE</td>\n",
              "      <td>Turista</td>\n",
              "      <td>Flexible</td>\n",
              "      <td>NaN</td>\n",
              "      <td>2020-03-08 03:08:51</td>\n",
              "    </tr>\n",
              "    <tr>\n",
              "      <th>1</th>\n",
              "      <td>8680912</td>\n",
              "      <td>SEVILLA</td>\n",
              "      <td>MADRID</td>\n",
              "      <td>2019-07-05 16:15:00</td>\n",
              "      <td>2019-07-05 18:54:00</td>\n",
              "      <td>2.65</td>\n",
              "      <td>AVE</td>\n",
              "      <td>Turista</td>\n",
              "      <td>Promo</td>\n",
              "      <td>NaN</td>\n",
              "      <td>2019-05-29 09:32:34</td>\n",
              "    </tr>\n",
              "    <tr>\n",
              "      <th>2</th>\n",
              "      <td>15196259</td>\n",
              "      <td>VALENCIA</td>\n",
              "      <td>MADRID</td>\n",
              "      <td>2019-09-04 10:40:00</td>\n",
              "      <td>2019-09-04 13:05:00</td>\n",
              "      <td>2.42</td>\n",
              "      <td>INTERCITY</td>\n",
              "      <td>Turista</td>\n",
              "      <td>Promo</td>\n",
              "      <td>NaN</td>\n",
              "      <td>2019-08-21 19:51:20</td>\n",
              "    </tr>\n",
              "  </tbody>\n",
              "</table>\n",
              "</div>\n",
              "      <button class=\"colab-df-convert\" onclick=\"convertToInteractive('df-4b9ca125-b28a-4d3e-8df3-b7d5423cdf7b')\"\n",
              "              title=\"Convert this dataframe to an interactive table.\"\n",
              "              style=\"display:none;\">\n",
              "        \n",
              "  <svg xmlns=\"http://www.w3.org/2000/svg\" height=\"24px\"viewBox=\"0 0 24 24\"\n",
              "       width=\"24px\">\n",
              "    <path d=\"M0 0h24v24H0V0z\" fill=\"none\"/>\n",
              "    <path d=\"M18.56 5.44l.94 2.06.94-2.06 2.06-.94-2.06-.94-.94-2.06-.94 2.06-2.06.94zm-11 1L8.5 8.5l.94-2.06 2.06-.94-2.06-.94L8.5 2.5l-.94 2.06-2.06.94zm10 10l.94 2.06.94-2.06 2.06-.94-2.06-.94-.94-2.06-.94 2.06-2.06.94z\"/><path d=\"M17.41 7.96l-1.37-1.37c-.4-.4-.92-.59-1.43-.59-.52 0-1.04.2-1.43.59L10.3 9.45l-7.72 7.72c-.78.78-.78 2.05 0 2.83L4 21.41c.39.39.9.59 1.41.59.51 0 1.02-.2 1.41-.59l7.78-7.78 2.81-2.81c.8-.78.8-2.07 0-2.86zM5.41 20L4 18.59l7.72-7.72 1.47 1.35L5.41 20z\"/>\n",
              "  </svg>\n",
              "      </button>\n",
              "      \n",
              "  <style>\n",
              "    .colab-df-container {\n",
              "      display:flex;\n",
              "      flex-wrap:wrap;\n",
              "      gap: 12px;\n",
              "    }\n",
              "\n",
              "    .colab-df-convert {\n",
              "      background-color: #E8F0FE;\n",
              "      border: none;\n",
              "      border-radius: 50%;\n",
              "      cursor: pointer;\n",
              "      display: none;\n",
              "      fill: #1967D2;\n",
              "      height: 32px;\n",
              "      padding: 0 0 0 0;\n",
              "      width: 32px;\n",
              "    }\n",
              "\n",
              "    .colab-df-convert:hover {\n",
              "      background-color: #E2EBFA;\n",
              "      box-shadow: 0px 1px 2px rgba(60, 64, 67, 0.3), 0px 1px 3px 1px rgba(60, 64, 67, 0.15);\n",
              "      fill: #174EA6;\n",
              "    }\n",
              "\n",
              "    [theme=dark] .colab-df-convert {\n",
              "      background-color: #3B4455;\n",
              "      fill: #D2E3FC;\n",
              "    }\n",
              "\n",
              "    [theme=dark] .colab-df-convert:hover {\n",
              "      background-color: #434B5C;\n",
              "      box-shadow: 0px 1px 3px 1px rgba(0, 0, 0, 0.15);\n",
              "      filter: drop-shadow(0px 1px 2px rgba(0, 0, 0, 0.3));\n",
              "      fill: #FFFFFF;\n",
              "    }\n",
              "  </style>\n",
              "\n",
              "      <script>\n",
              "        const buttonEl =\n",
              "          document.querySelector('#df-4b9ca125-b28a-4d3e-8df3-b7d5423cdf7b button.colab-df-convert');\n",
              "        buttonEl.style.display =\n",
              "          google.colab.kernel.accessAllowed ? 'block' : 'none';\n",
              "\n",
              "        async function convertToInteractive(key) {\n",
              "          const element = document.querySelector('#df-4b9ca125-b28a-4d3e-8df3-b7d5423cdf7b');\n",
              "          const dataTable =\n",
              "            await google.colab.kernel.invokeFunction('convertToInteractive',\n",
              "                                                     [key], {});\n",
              "          if (!dataTable) return;\n",
              "\n",
              "          const docLinkHtml = 'Like what you see? Visit the ' +\n",
              "            '<a target=\"_blank\" href=https://colab.research.google.com/notebooks/data_table.ipynb>data table notebook</a>'\n",
              "            + ' to learn more about interactive tables.';\n",
              "          element.innerHTML = '';\n",
              "          dataTable['output_type'] = 'display_data';\n",
              "          await google.colab.output.renderOutput(dataTable, element);\n",
              "          const docLink = document.createElement('div');\n",
              "          docLink.innerHTML = docLinkHtml;\n",
              "          element.appendChild(docLink);\n",
              "        }\n",
              "      </script>\n",
              "    </div>\n",
              "  </div>\n",
              "  "
            ]
          },
          "metadata": {},
          "execution_count": 277
        }
      ]
    },
    {
      "cell_type": "code",
      "source": [
        "X_pred.shape"
      ],
      "metadata": {
        "colab": {
          "base_uri": "https://localhost:8080/"
        },
        "id": "WKJ25MqNDc3a",
        "outputId": "b3e83eb2-c13a-4eda-ed21-f138370becc1"
      },
      "execution_count": null,
      "outputs": [
        {
          "output_type": "execute_result",
          "data": {
            "text/plain": [
              "(40000, 11)"
            ]
          },
          "metadata": {},
          "execution_count": 278
        }
      ]
    },
    {
      "cell_type": "code",
      "source": [
        "X.columns.to_list()"
      ],
      "metadata": {
        "id": "9ll8s9fhtNxe",
        "colab": {
          "base_uri": "https://localhost:8080/"
        },
        "outputId": "16131946-e14b-4a2e-f704-5589fb068dc0"
      },
      "execution_count": null,
      "outputs": [
        {
          "output_type": "execute_result",
          "data": {
            "text/plain": [
              "['duration',\n",
              " 'weekday_n_departure',\n",
              " 'month_departure',\n",
              " 'hour_departure',\n",
              " 'weekday_n_insert_date',\n",
              " 'month_insert_date',\n",
              " 'hour_insert_date',\n",
              " 'days_before_trip',\n",
              " 'ind_weekend',\n",
              " 'ind_holidays',\n",
              " 'origin_BARCELONA',\n",
              " 'origin_MADRID',\n",
              " 'origin_OTRO',\n",
              " 'origin_SEVILLA',\n",
              " 'origin_VALENCIA',\n",
              " 'destination_BARCELONA',\n",
              " 'destination_MADRID',\n",
              " 'destination_OTRO',\n",
              " 'destination_SEVILLA',\n",
              " 'destination_VALENCIA',\n",
              " 'vehicle_type_ALVIA',\n",
              " 'vehicle_type_AVE',\n",
              " 'vehicle_type_OTRO',\n",
              " 'vehicle_class_Preferente',\n",
              " 'vehicle_class_Turista',\n",
              " 'vehicle_class_Turista Plus',\n",
              " 'vehicle_class_Turista con enlace',\n",
              " 'fare_Adulto ida',\n",
              " 'fare_Flexible',\n",
              " 'fare_OTRO',\n",
              " 'fare_Promo',\n",
              " 'fare_Promo +',\n",
              " 'weekday_departure_Friday',\n",
              " 'weekday_departure_Monday',\n",
              " 'weekday_departure_Saturday',\n",
              " 'weekday_departure_Sunday',\n",
              " 'weekday_departure_Thursday',\n",
              " 'weekday_departure_Tuesday',\n",
              " 'weekday_departure_Wednesday',\n",
              " 'weekday_insert_date_Friday',\n",
              " 'weekday_insert_date_Monday',\n",
              " 'weekday_insert_date_Saturday',\n",
              " 'weekday_insert_date_Sunday',\n",
              " 'weekday_insert_date_Thursday',\n",
              " 'weekday_insert_date_Tuesday',\n",
              " 'weekday_insert_date_Wednesday',\n",
              " 'train_line_MADRID-BARCELONA',\n",
              " 'train_line_MADRID-CORDOBA',\n",
              " 'train_line_MADRID-SEVILLA',\n",
              " 'train_line_MADRID-VALENCIA',\n",
              " 'train_line_OTRO']"
            ]
          },
          "metadata": {},
          "execution_count": 279
        }
      ]
    },
    {
      "cell_type": "code",
      "source": [
        "X_ejemplo = X.sample(n=4,random_state=30)\n",
        "X_ejemplo"
      ],
      "metadata": {
        "id": "l01VS9y9tU2E",
        "colab": {
          "base_uri": "https://localhost:8080/",
          "height": 285
        },
        "outputId": "9ff1129f-557a-453c-89a6-89d08a0ee970"
      },
      "execution_count": null,
      "outputs": [
        {
          "output_type": "execute_result",
          "data": {
            "text/plain": [
              "        duration  weekday_n_departure  month_departure  hour_departure  \\\n",
              "182912      2.68                    1                8              20   \n",
              "119006      2.35                    1                3               7   \n",
              "29315       1.78                    3                8              18   \n",
              "71684       1.05                    0                3              10   \n",
              "\n",
              "        weekday_n_insert_date  month_insert_date  hour_insert_date  \\\n",
              "182912                      3                  7                10   \n",
              "119006                      0                  2                 5   \n",
              "29315                       5                  6                 3   \n",
              "71684                       6                  3                 2   \n",
              "\n",
              "        days_before_trip  ind_weekend  ind_holidays  ...  \\\n",
              "182912                54            0             0  ...   \n",
              "119006                50            0             0  ...   \n",
              "29315                 47            0             0  ...   \n",
              "71684                  1            0             0  ...   \n",
              "\n",
              "        weekday_insert_date_Saturday  weekday_insert_date_Sunday  \\\n",
              "182912                             0                           0   \n",
              "119006                             0                           0   \n",
              "29315                              1                           0   \n",
              "71684                              0                           1   \n",
              "\n",
              "        weekday_insert_date_Thursday  weekday_insert_date_Tuesday  \\\n",
              "182912                             1                            0   \n",
              "119006                             0                            0   \n",
              "29315                              0                            0   \n",
              "71684                              0                            0   \n",
              "\n",
              "        weekday_insert_date_Wednesday  train_line_MADRID-BARCELONA  \\\n",
              "182912                              0                            0   \n",
              "119006                              0                            0   \n",
              "29315                               0                            0   \n",
              "71684                               0                            0   \n",
              "\n",
              "        train_line_MADRID-CORDOBA  train_line_MADRID-SEVILLA  \\\n",
              "182912                          0                          0   \n",
              "119006                          0                          1   \n",
              "29315                           0                          0   \n",
              "71684                           0                          0   \n",
              "\n",
              "        train_line_MADRID-VALENCIA  train_line_OTRO  \n",
              "182912                           0                1  \n",
              "119006                           0                0  \n",
              "29315                            1                0  \n",
              "71684                            0                1  \n",
              "\n",
              "[4 rows x 51 columns]"
            ],
            "text/html": [
              "\n",
              "  <div id=\"df-6330020c-9c81-4b49-9303-e0d0bde4f574\">\n",
              "    <div class=\"colab-df-container\">\n",
              "      <div>\n",
              "<style scoped>\n",
              "    .dataframe tbody tr th:only-of-type {\n",
              "        vertical-align: middle;\n",
              "    }\n",
              "\n",
              "    .dataframe tbody tr th {\n",
              "        vertical-align: top;\n",
              "    }\n",
              "\n",
              "    .dataframe thead th {\n",
              "        text-align: right;\n",
              "    }\n",
              "</style>\n",
              "<table border=\"1\" class=\"dataframe\">\n",
              "  <thead>\n",
              "    <tr style=\"text-align: right;\">\n",
              "      <th></th>\n",
              "      <th>duration</th>\n",
              "      <th>weekday_n_departure</th>\n",
              "      <th>month_departure</th>\n",
              "      <th>hour_departure</th>\n",
              "      <th>weekday_n_insert_date</th>\n",
              "      <th>month_insert_date</th>\n",
              "      <th>hour_insert_date</th>\n",
              "      <th>days_before_trip</th>\n",
              "      <th>ind_weekend</th>\n",
              "      <th>ind_holidays</th>\n",
              "      <th>...</th>\n",
              "      <th>weekday_insert_date_Saturday</th>\n",
              "      <th>weekday_insert_date_Sunday</th>\n",
              "      <th>weekday_insert_date_Thursday</th>\n",
              "      <th>weekday_insert_date_Tuesday</th>\n",
              "      <th>weekday_insert_date_Wednesday</th>\n",
              "      <th>train_line_MADRID-BARCELONA</th>\n",
              "      <th>train_line_MADRID-CORDOBA</th>\n",
              "      <th>train_line_MADRID-SEVILLA</th>\n",
              "      <th>train_line_MADRID-VALENCIA</th>\n",
              "      <th>train_line_OTRO</th>\n",
              "    </tr>\n",
              "  </thead>\n",
              "  <tbody>\n",
              "    <tr>\n",
              "      <th>182912</th>\n",
              "      <td>2.68</td>\n",
              "      <td>1</td>\n",
              "      <td>8</td>\n",
              "      <td>20</td>\n",
              "      <td>3</td>\n",
              "      <td>7</td>\n",
              "      <td>10</td>\n",
              "      <td>54</td>\n",
              "      <td>0</td>\n",
              "      <td>0</td>\n",
              "      <td>...</td>\n",
              "      <td>0</td>\n",
              "      <td>0</td>\n",
              "      <td>1</td>\n",
              "      <td>0</td>\n",
              "      <td>0</td>\n",
              "      <td>0</td>\n",
              "      <td>0</td>\n",
              "      <td>0</td>\n",
              "      <td>0</td>\n",
              "      <td>1</td>\n",
              "    </tr>\n",
              "    <tr>\n",
              "      <th>119006</th>\n",
              "      <td>2.35</td>\n",
              "      <td>1</td>\n",
              "      <td>3</td>\n",
              "      <td>7</td>\n",
              "      <td>0</td>\n",
              "      <td>2</td>\n",
              "      <td>5</td>\n",
              "      <td>50</td>\n",
              "      <td>0</td>\n",
              "      <td>0</td>\n",
              "      <td>...</td>\n",
              "      <td>0</td>\n",
              "      <td>0</td>\n",
              "      <td>0</td>\n",
              "      <td>0</td>\n",
              "      <td>0</td>\n",
              "      <td>0</td>\n",
              "      <td>0</td>\n",
              "      <td>1</td>\n",
              "      <td>0</td>\n",
              "      <td>0</td>\n",
              "    </tr>\n",
              "    <tr>\n",
              "      <th>29315</th>\n",
              "      <td>1.78</td>\n",
              "      <td>3</td>\n",
              "      <td>8</td>\n",
              "      <td>18</td>\n",
              "      <td>5</td>\n",
              "      <td>6</td>\n",
              "      <td>3</td>\n",
              "      <td>47</td>\n",
              "      <td>0</td>\n",
              "      <td>0</td>\n",
              "      <td>...</td>\n",
              "      <td>1</td>\n",
              "      <td>0</td>\n",
              "      <td>0</td>\n",
              "      <td>0</td>\n",
              "      <td>0</td>\n",
              "      <td>0</td>\n",
              "      <td>0</td>\n",
              "      <td>0</td>\n",
              "      <td>1</td>\n",
              "      <td>0</td>\n",
              "    </tr>\n",
              "    <tr>\n",
              "      <th>71684</th>\n",
              "      <td>1.05</td>\n",
              "      <td>0</td>\n",
              "      <td>3</td>\n",
              "      <td>10</td>\n",
              "      <td>6</td>\n",
              "      <td>3</td>\n",
              "      <td>2</td>\n",
              "      <td>1</td>\n",
              "      <td>0</td>\n",
              "      <td>0</td>\n",
              "      <td>...</td>\n",
              "      <td>0</td>\n",
              "      <td>1</td>\n",
              "      <td>0</td>\n",
              "      <td>0</td>\n",
              "      <td>0</td>\n",
              "      <td>0</td>\n",
              "      <td>0</td>\n",
              "      <td>0</td>\n",
              "      <td>0</td>\n",
              "      <td>1</td>\n",
              "    </tr>\n",
              "  </tbody>\n",
              "</table>\n",
              "<p>4 rows × 51 columns</p>\n",
              "</div>\n",
              "      <button class=\"colab-df-convert\" onclick=\"convertToInteractive('df-6330020c-9c81-4b49-9303-e0d0bde4f574')\"\n",
              "              title=\"Convert this dataframe to an interactive table.\"\n",
              "              style=\"display:none;\">\n",
              "        \n",
              "  <svg xmlns=\"http://www.w3.org/2000/svg\" height=\"24px\"viewBox=\"0 0 24 24\"\n",
              "       width=\"24px\">\n",
              "    <path d=\"M0 0h24v24H0V0z\" fill=\"none\"/>\n",
              "    <path d=\"M18.56 5.44l.94 2.06.94-2.06 2.06-.94-2.06-.94-.94-2.06-.94 2.06-2.06.94zm-11 1L8.5 8.5l.94-2.06 2.06-.94-2.06-.94L8.5 2.5l-.94 2.06-2.06.94zm10 10l.94 2.06.94-2.06 2.06-.94-2.06-.94-.94-2.06-.94 2.06-2.06.94z\"/><path d=\"M17.41 7.96l-1.37-1.37c-.4-.4-.92-.59-1.43-.59-.52 0-1.04.2-1.43.59L10.3 9.45l-7.72 7.72c-.78.78-.78 2.05 0 2.83L4 21.41c.39.39.9.59 1.41.59.51 0 1.02-.2 1.41-.59l7.78-7.78 2.81-2.81c.8-.78.8-2.07 0-2.86zM5.41 20L4 18.59l7.72-7.72 1.47 1.35L5.41 20z\"/>\n",
              "  </svg>\n",
              "      </button>\n",
              "      \n",
              "  <style>\n",
              "    .colab-df-container {\n",
              "      display:flex;\n",
              "      flex-wrap:wrap;\n",
              "      gap: 12px;\n",
              "    }\n",
              "\n",
              "    .colab-df-convert {\n",
              "      background-color: #E8F0FE;\n",
              "      border: none;\n",
              "      border-radius: 50%;\n",
              "      cursor: pointer;\n",
              "      display: none;\n",
              "      fill: #1967D2;\n",
              "      height: 32px;\n",
              "      padding: 0 0 0 0;\n",
              "      width: 32px;\n",
              "    }\n",
              "\n",
              "    .colab-df-convert:hover {\n",
              "      background-color: #E2EBFA;\n",
              "      box-shadow: 0px 1px 2px rgba(60, 64, 67, 0.3), 0px 1px 3px 1px rgba(60, 64, 67, 0.15);\n",
              "      fill: #174EA6;\n",
              "    }\n",
              "\n",
              "    [theme=dark] .colab-df-convert {\n",
              "      background-color: #3B4455;\n",
              "      fill: #D2E3FC;\n",
              "    }\n",
              "\n",
              "    [theme=dark] .colab-df-convert:hover {\n",
              "      background-color: #434B5C;\n",
              "      box-shadow: 0px 1px 3px 1px rgba(0, 0, 0, 0.15);\n",
              "      filter: drop-shadow(0px 1px 2px rgba(0, 0, 0, 0.3));\n",
              "      fill: #FFFFFF;\n",
              "    }\n",
              "  </style>\n",
              "\n",
              "      <script>\n",
              "        const buttonEl =\n",
              "          document.querySelector('#df-6330020c-9c81-4b49-9303-e0d0bde4f574 button.colab-df-convert');\n",
              "        buttonEl.style.display =\n",
              "          google.colab.kernel.accessAllowed ? 'block' : 'none';\n",
              "\n",
              "        async function convertToInteractive(key) {\n",
              "          const element = document.querySelector('#df-6330020c-9c81-4b49-9303-e0d0bde4f574');\n",
              "          const dataTable =\n",
              "            await google.colab.kernel.invokeFunction('convertToInteractive',\n",
              "                                                     [key], {});\n",
              "          if (!dataTable) return;\n",
              "\n",
              "          const docLinkHtml = 'Like what you see? Visit the ' +\n",
              "            '<a target=\"_blank\" href=https://colab.research.google.com/notebooks/data_table.ipynb>data table notebook</a>'\n",
              "            + ' to learn more about interactive tables.';\n",
              "          element.innerHTML = '';\n",
              "          dataTable['output_type'] = 'display_data';\n",
              "          await google.colab.output.renderOutput(dataTable, element);\n",
              "          const docLink = document.createElement('div');\n",
              "          docLink.innerHTML = docLinkHtml;\n",
              "          element.appendChild(docLink);\n",
              "        }\n",
              "      </script>\n",
              "    </div>\n",
              "  </div>\n",
              "  "
            ]
          },
          "metadata": {},
          "execution_count": 280
        }
      ]
    },
    {
      "cell_type": "code",
      "source": [
        "predictions = model_XGBReg.predict(X_ejemplo)"
      ],
      "metadata": {
        "id": "3y-_9xF5tY8W"
      },
      "execution_count": null,
      "outputs": []
    },
    {
      "cell_type": "code",
      "source": [
        "df_output = X_ejemplo.copy(deep=True)\n",
        "df_output['PREDICTION Price'] = predictions\n",
        "df_output"
      ],
      "metadata": {
        "id": "B8xPmQRrtd28",
        "colab": {
          "base_uri": "https://localhost:8080/",
          "height": 285
        },
        "outputId": "ea5be613-7a78-4a3e-ce8a-f493886cd1ee"
      },
      "execution_count": null,
      "outputs": [
        {
          "output_type": "execute_result",
          "data": {
            "text/plain": [
              "        duration  weekday_n_departure  month_departure  hour_departure  \\\n",
              "182912      2.68                    1                8              20   \n",
              "119006      2.35                    1                3               7   \n",
              "29315       1.78                    3                8              18   \n",
              "71684       1.05                    0                3              10   \n",
              "\n",
              "        weekday_n_insert_date  month_insert_date  hour_insert_date  \\\n",
              "182912                      3                  7                10   \n",
              "119006                      0                  2                 5   \n",
              "29315                       5                  6                 3   \n",
              "71684                       6                  3                 2   \n",
              "\n",
              "        days_before_trip  ind_weekend  ind_holidays  ...  \\\n",
              "182912                54            0             0  ...   \n",
              "119006                50            0             0  ...   \n",
              "29315                 47            0             0  ...   \n",
              "71684                  1            0             0  ...   \n",
              "\n",
              "        weekday_insert_date_Sunday  weekday_insert_date_Thursday  \\\n",
              "182912                           0                             1   \n",
              "119006                           0                             0   \n",
              "29315                            0                             0   \n",
              "71684                            1                             0   \n",
              "\n",
              "        weekday_insert_date_Tuesday  weekday_insert_date_Wednesday  \\\n",
              "182912                            0                              0   \n",
              "119006                            0                              0   \n",
              "29315                             0                              0   \n",
              "71684                             0                              0   \n",
              "\n",
              "        train_line_MADRID-BARCELONA  train_line_MADRID-CORDOBA  \\\n",
              "182912                            0                          0   \n",
              "119006                            0                          0   \n",
              "29315                             0                          0   \n",
              "71684                             0                          0   \n",
              "\n",
              "        train_line_MADRID-SEVILLA  train_line_MADRID-VALENCIA  \\\n",
              "182912                          0                           0   \n",
              "119006                          1                           0   \n",
              "29315                           0                           1   \n",
              "71684                           0                           0   \n",
              "\n",
              "        train_line_OTRO  PREDICTION Price  \n",
              "182912                1         74.777313  \n",
              "119006                0         56.800602  \n",
              "29315                 0         37.231159  \n",
              "71684                 1         34.181267  \n",
              "\n",
              "[4 rows x 52 columns]"
            ],
            "text/html": [
              "\n",
              "  <div id=\"df-f83ecab2-5440-4b86-8eb5-e2301f76992f\">\n",
              "    <div class=\"colab-df-container\">\n",
              "      <div>\n",
              "<style scoped>\n",
              "    .dataframe tbody tr th:only-of-type {\n",
              "        vertical-align: middle;\n",
              "    }\n",
              "\n",
              "    .dataframe tbody tr th {\n",
              "        vertical-align: top;\n",
              "    }\n",
              "\n",
              "    .dataframe thead th {\n",
              "        text-align: right;\n",
              "    }\n",
              "</style>\n",
              "<table border=\"1\" class=\"dataframe\">\n",
              "  <thead>\n",
              "    <tr style=\"text-align: right;\">\n",
              "      <th></th>\n",
              "      <th>duration</th>\n",
              "      <th>weekday_n_departure</th>\n",
              "      <th>month_departure</th>\n",
              "      <th>hour_departure</th>\n",
              "      <th>weekday_n_insert_date</th>\n",
              "      <th>month_insert_date</th>\n",
              "      <th>hour_insert_date</th>\n",
              "      <th>days_before_trip</th>\n",
              "      <th>ind_weekend</th>\n",
              "      <th>ind_holidays</th>\n",
              "      <th>...</th>\n",
              "      <th>weekday_insert_date_Sunday</th>\n",
              "      <th>weekday_insert_date_Thursday</th>\n",
              "      <th>weekday_insert_date_Tuesday</th>\n",
              "      <th>weekday_insert_date_Wednesday</th>\n",
              "      <th>train_line_MADRID-BARCELONA</th>\n",
              "      <th>train_line_MADRID-CORDOBA</th>\n",
              "      <th>train_line_MADRID-SEVILLA</th>\n",
              "      <th>train_line_MADRID-VALENCIA</th>\n",
              "      <th>train_line_OTRO</th>\n",
              "      <th>PREDICTION Price</th>\n",
              "    </tr>\n",
              "  </thead>\n",
              "  <tbody>\n",
              "    <tr>\n",
              "      <th>182912</th>\n",
              "      <td>2.68</td>\n",
              "      <td>1</td>\n",
              "      <td>8</td>\n",
              "      <td>20</td>\n",
              "      <td>3</td>\n",
              "      <td>7</td>\n",
              "      <td>10</td>\n",
              "      <td>54</td>\n",
              "      <td>0</td>\n",
              "      <td>0</td>\n",
              "      <td>...</td>\n",
              "      <td>0</td>\n",
              "      <td>1</td>\n",
              "      <td>0</td>\n",
              "      <td>0</td>\n",
              "      <td>0</td>\n",
              "      <td>0</td>\n",
              "      <td>0</td>\n",
              "      <td>0</td>\n",
              "      <td>1</td>\n",
              "      <td>74.777313</td>\n",
              "    </tr>\n",
              "    <tr>\n",
              "      <th>119006</th>\n",
              "      <td>2.35</td>\n",
              "      <td>1</td>\n",
              "      <td>3</td>\n",
              "      <td>7</td>\n",
              "      <td>0</td>\n",
              "      <td>2</td>\n",
              "      <td>5</td>\n",
              "      <td>50</td>\n",
              "      <td>0</td>\n",
              "      <td>0</td>\n",
              "      <td>...</td>\n",
              "      <td>0</td>\n",
              "      <td>0</td>\n",
              "      <td>0</td>\n",
              "      <td>0</td>\n",
              "      <td>0</td>\n",
              "      <td>0</td>\n",
              "      <td>1</td>\n",
              "      <td>0</td>\n",
              "      <td>0</td>\n",
              "      <td>56.800602</td>\n",
              "    </tr>\n",
              "    <tr>\n",
              "      <th>29315</th>\n",
              "      <td>1.78</td>\n",
              "      <td>3</td>\n",
              "      <td>8</td>\n",
              "      <td>18</td>\n",
              "      <td>5</td>\n",
              "      <td>6</td>\n",
              "      <td>3</td>\n",
              "      <td>47</td>\n",
              "      <td>0</td>\n",
              "      <td>0</td>\n",
              "      <td>...</td>\n",
              "      <td>0</td>\n",
              "      <td>0</td>\n",
              "      <td>0</td>\n",
              "      <td>0</td>\n",
              "      <td>0</td>\n",
              "      <td>0</td>\n",
              "      <td>0</td>\n",
              "      <td>1</td>\n",
              "      <td>0</td>\n",
              "      <td>37.231159</td>\n",
              "    </tr>\n",
              "    <tr>\n",
              "      <th>71684</th>\n",
              "      <td>1.05</td>\n",
              "      <td>0</td>\n",
              "      <td>3</td>\n",
              "      <td>10</td>\n",
              "      <td>6</td>\n",
              "      <td>3</td>\n",
              "      <td>2</td>\n",
              "      <td>1</td>\n",
              "      <td>0</td>\n",
              "      <td>0</td>\n",
              "      <td>...</td>\n",
              "      <td>1</td>\n",
              "      <td>0</td>\n",
              "      <td>0</td>\n",
              "      <td>0</td>\n",
              "      <td>0</td>\n",
              "      <td>0</td>\n",
              "      <td>0</td>\n",
              "      <td>0</td>\n",
              "      <td>1</td>\n",
              "      <td>34.181267</td>\n",
              "    </tr>\n",
              "  </tbody>\n",
              "</table>\n",
              "<p>4 rows × 52 columns</p>\n",
              "</div>\n",
              "      <button class=\"colab-df-convert\" onclick=\"convertToInteractive('df-f83ecab2-5440-4b86-8eb5-e2301f76992f')\"\n",
              "              title=\"Convert this dataframe to an interactive table.\"\n",
              "              style=\"display:none;\">\n",
              "        \n",
              "  <svg xmlns=\"http://www.w3.org/2000/svg\" height=\"24px\"viewBox=\"0 0 24 24\"\n",
              "       width=\"24px\">\n",
              "    <path d=\"M0 0h24v24H0V0z\" fill=\"none\"/>\n",
              "    <path d=\"M18.56 5.44l.94 2.06.94-2.06 2.06-.94-2.06-.94-.94-2.06-.94 2.06-2.06.94zm-11 1L8.5 8.5l.94-2.06 2.06-.94-2.06-.94L8.5 2.5l-.94 2.06-2.06.94zm10 10l.94 2.06.94-2.06 2.06-.94-2.06-.94-.94-2.06-.94 2.06-2.06.94z\"/><path d=\"M17.41 7.96l-1.37-1.37c-.4-.4-.92-.59-1.43-.59-.52 0-1.04.2-1.43.59L10.3 9.45l-7.72 7.72c-.78.78-.78 2.05 0 2.83L4 21.41c.39.39.9.59 1.41.59.51 0 1.02-.2 1.41-.59l7.78-7.78 2.81-2.81c.8-.78.8-2.07 0-2.86zM5.41 20L4 18.59l7.72-7.72 1.47 1.35L5.41 20z\"/>\n",
              "  </svg>\n",
              "      </button>\n",
              "      \n",
              "  <style>\n",
              "    .colab-df-container {\n",
              "      display:flex;\n",
              "      flex-wrap:wrap;\n",
              "      gap: 12px;\n",
              "    }\n",
              "\n",
              "    .colab-df-convert {\n",
              "      background-color: #E8F0FE;\n",
              "      border: none;\n",
              "      border-radius: 50%;\n",
              "      cursor: pointer;\n",
              "      display: none;\n",
              "      fill: #1967D2;\n",
              "      height: 32px;\n",
              "      padding: 0 0 0 0;\n",
              "      width: 32px;\n",
              "    }\n",
              "\n",
              "    .colab-df-convert:hover {\n",
              "      background-color: #E2EBFA;\n",
              "      box-shadow: 0px 1px 2px rgba(60, 64, 67, 0.3), 0px 1px 3px 1px rgba(60, 64, 67, 0.15);\n",
              "      fill: #174EA6;\n",
              "    }\n",
              "\n",
              "    [theme=dark] .colab-df-convert {\n",
              "      background-color: #3B4455;\n",
              "      fill: #D2E3FC;\n",
              "    }\n",
              "\n",
              "    [theme=dark] .colab-df-convert:hover {\n",
              "      background-color: #434B5C;\n",
              "      box-shadow: 0px 1px 3px 1px rgba(0, 0, 0, 0.15);\n",
              "      filter: drop-shadow(0px 1px 2px rgba(0, 0, 0, 0.3));\n",
              "      fill: #FFFFFF;\n",
              "    }\n",
              "  </style>\n",
              "\n",
              "      <script>\n",
              "        const buttonEl =\n",
              "          document.querySelector('#df-f83ecab2-5440-4b86-8eb5-e2301f76992f button.colab-df-convert');\n",
              "        buttonEl.style.display =\n",
              "          google.colab.kernel.accessAllowed ? 'block' : 'none';\n",
              "\n",
              "        async function convertToInteractive(key) {\n",
              "          const element = document.querySelector('#df-f83ecab2-5440-4b86-8eb5-e2301f76992f');\n",
              "          const dataTable =\n",
              "            await google.colab.kernel.invokeFunction('convertToInteractive',\n",
              "                                                     [key], {});\n",
              "          if (!dataTable) return;\n",
              "\n",
              "          const docLinkHtml = 'Like what you see? Visit the ' +\n",
              "            '<a target=\"_blank\" href=https://colab.research.google.com/notebooks/data_table.ipynb>data table notebook</a>'\n",
              "            + ' to learn more about interactive tables.';\n",
              "          element.innerHTML = '';\n",
              "          dataTable['output_type'] = 'display_data';\n",
              "          await google.colab.output.renderOutput(dataTable, element);\n",
              "          const docLink = document.createElement('div');\n",
              "          docLink.innerHTML = docLinkHtml;\n",
              "          element.appendChild(docLink);\n",
              "        }\n",
              "      </script>\n",
              "    </div>\n",
              "  </div>\n",
              "  "
            ]
          },
          "metadata": {},
          "execution_count": 282
        }
      ]
    },
    {
      "cell_type": "code",
      "source": [
        "# El modelo predice bien pues ha sido bien entrenado. Ahora pondremos el dataset de predicción y haremos todo el proceso de nuevo"
      ],
      "metadata": {
        "id": "-HHVKw18hGyA"
      },
      "execution_count": null,
      "outputs": []
    },
    {
      "cell_type": "markdown",
      "metadata": {
        "id": "qlbZ7v2AFSgs"
      },
      "source": [
        "**Hay que replicar pasos del preprocessing en dataset validacion**\n",
        "1. Cambios de formato\n",
        "2. Feature Engineering\n",
        "3. One hot encoding\n",
        "4. Eliminacion de columnas\n",
        "5. Estandarizacion de X (aplicar el mismo .transform)"
      ]
    },
    {
      "cell_type": "code",
      "execution_count": null,
      "metadata": {
        "id": "wR_mFhbiFSgs",
        "colab": {
          "base_uri": "https://localhost:8080/"
        },
        "outputId": "1c3c1caf-a823-42cc-be04-172f8e13f965"
      },
      "outputs": [
        {
          "output_type": "stream",
          "name": "stdout",
          "text": [
            "<class 'pandas.core.frame.DataFrame'>\n",
            "RangeIndex: 40000 entries, 0 to 39999\n",
            "Data columns (total 11 columns):\n",
            " #   Column         Non-Null Count  Dtype  \n",
            "---  ------         --------------  -----  \n",
            " 0   Unnamed: 0     40000 non-null  int64  \n",
            " 1   origin         40000 non-null  object \n",
            " 2   destination    40000 non-null  object \n",
            " 3   departure      40000 non-null  object \n",
            " 4   arrival        40000 non-null  object \n",
            " 5   duration       40000 non-null  float64\n",
            " 6   vehicle_type   40000 non-null  object \n",
            " 7   vehicle_class  40000 non-null  object \n",
            " 8   fare           40000 non-null  object \n",
            " 9   seats          1658 non-null   float64\n",
            " 10  insert_date    40000 non-null  object \n",
            "dtypes: float64(2), int64(1), object(8)\n",
            "memory usage: 3.4+ MB\n"
          ]
        }
      ],
      "source": [
        "X_pred.info()"
      ]
    },
    {
      "cell_type": "code",
      "source": [
        "X_pred"
      ],
      "metadata": {
        "id": "pU2Av0nhu3Xc",
        "colab": {
          "base_uri": "https://localhost:8080/",
          "height": 424
        },
        "outputId": "078cfac2-1bef-4149-e02d-f4e882174cbe"
      },
      "execution_count": null,
      "outputs": [
        {
          "output_type": "execute_result",
          "data": {
            "text/plain": [
              "       Unnamed: 0      origin destination            departure  \\\n",
              "0        24011276     CORDOBA      MADRID  2020-04-01 08:56:00   \n",
              "1         8680912     SEVILLA      MADRID  2019-07-05 16:15:00   \n",
              "2        15196259    VALENCIA      MADRID  2019-09-04 10:40:00   \n",
              "3         7546377   BARCELONA      MADRID  2019-05-24 06:25:00   \n",
              "4        17178061  PONFERRADA      MADRID  2020-04-02 06:11:00   \n",
              "...           ...         ...         ...                  ...   \n",
              "39995       57627      MADRID     SEVILLA  2019-05-07 14:00:00   \n",
              "39996    36455665      MADRID   TARRAGONA  2020-08-23 17:30:00   \n",
              "39997     8863281     SEVILLA      MADRID  2019-07-16 13:40:00   \n",
              "39998    11748101     SEVILLA      MADRID  2019-08-09 12:40:00   \n",
              "39999    15871738      MADRID   BARCELONA  2020-03-02 20:00:00   \n",
              "\n",
              "                   arrival  duration vehicle_type       vehicle_class  \\\n",
              "0      2020-04-01 10:40:00      1.73          AVE             Turista   \n",
              "1      2019-07-05 18:54:00      2.65          AVE             Turista   \n",
              "2      2019-09-04 13:05:00      2.42    INTERCITY             Turista   \n",
              "3      2019-05-24 08:55:00      2.50          AVE             Turista   \n",
              "4      2020-04-02 12:00:00      5.82           LD  Turista con enlace   \n",
              "...                    ...       ...          ...                 ...   \n",
              "39995  2019-05-07 16:32:00      2.53          AVE             Turista   \n",
              "39996  2020-08-23 20:03:00      2.55          AVE             Turista   \n",
              "39997  2019-07-16 16:10:00      2.50          AVE             Turista   \n",
              "39998  2019-08-09 15:23:00      2.72          AVE             Turista   \n",
              "39999  2020-03-02 22:30:00      2.50          AVE             Turista   \n",
              "\n",
              "           fare  seats          insert_date  \n",
              "0      Flexible    NaN  2020-03-08 03:08:51  \n",
              "1         Promo    NaN  2019-05-29 09:32:34  \n",
              "2         Promo    NaN  2019-08-21 19:51:20  \n",
              "3         Promo    NaN  2019-05-23 15:24:38  \n",
              "4      Flexible    NaN  2020-02-10 12:15:28  \n",
              "...         ...    ...                  ...  \n",
              "39995     Promo    NaN  2019-04-12 03:04:45  \n",
              "39996  Flexible    NaN  2020-07-06 22:19:58  \n",
              "39997     Promo    NaN  2019-05-30 09:25:49  \n",
              "39998     Promo    NaN  2019-06-15 15:05:44  \n",
              "39999     Promo    NaN  2020-01-30 17:07:25  \n",
              "\n",
              "[40000 rows x 11 columns]"
            ],
            "text/html": [
              "\n",
              "  <div id=\"df-585f7e97-3e3f-4e9b-8084-54a2faf55cc9\">\n",
              "    <div class=\"colab-df-container\">\n",
              "      <div>\n",
              "<style scoped>\n",
              "    .dataframe tbody tr th:only-of-type {\n",
              "        vertical-align: middle;\n",
              "    }\n",
              "\n",
              "    .dataframe tbody tr th {\n",
              "        vertical-align: top;\n",
              "    }\n",
              "\n",
              "    .dataframe thead th {\n",
              "        text-align: right;\n",
              "    }\n",
              "</style>\n",
              "<table border=\"1\" class=\"dataframe\">\n",
              "  <thead>\n",
              "    <tr style=\"text-align: right;\">\n",
              "      <th></th>\n",
              "      <th>Unnamed: 0</th>\n",
              "      <th>origin</th>\n",
              "      <th>destination</th>\n",
              "      <th>departure</th>\n",
              "      <th>arrival</th>\n",
              "      <th>duration</th>\n",
              "      <th>vehicle_type</th>\n",
              "      <th>vehicle_class</th>\n",
              "      <th>fare</th>\n",
              "      <th>seats</th>\n",
              "      <th>insert_date</th>\n",
              "    </tr>\n",
              "  </thead>\n",
              "  <tbody>\n",
              "    <tr>\n",
              "      <th>0</th>\n",
              "      <td>24011276</td>\n",
              "      <td>CORDOBA</td>\n",
              "      <td>MADRID</td>\n",
              "      <td>2020-04-01 08:56:00</td>\n",
              "      <td>2020-04-01 10:40:00</td>\n",
              "      <td>1.73</td>\n",
              "      <td>AVE</td>\n",
              "      <td>Turista</td>\n",
              "      <td>Flexible</td>\n",
              "      <td>NaN</td>\n",
              "      <td>2020-03-08 03:08:51</td>\n",
              "    </tr>\n",
              "    <tr>\n",
              "      <th>1</th>\n",
              "      <td>8680912</td>\n",
              "      <td>SEVILLA</td>\n",
              "      <td>MADRID</td>\n",
              "      <td>2019-07-05 16:15:00</td>\n",
              "      <td>2019-07-05 18:54:00</td>\n",
              "      <td>2.65</td>\n",
              "      <td>AVE</td>\n",
              "      <td>Turista</td>\n",
              "      <td>Promo</td>\n",
              "      <td>NaN</td>\n",
              "      <td>2019-05-29 09:32:34</td>\n",
              "    </tr>\n",
              "    <tr>\n",
              "      <th>2</th>\n",
              "      <td>15196259</td>\n",
              "      <td>VALENCIA</td>\n",
              "      <td>MADRID</td>\n",
              "      <td>2019-09-04 10:40:00</td>\n",
              "      <td>2019-09-04 13:05:00</td>\n",
              "      <td>2.42</td>\n",
              "      <td>INTERCITY</td>\n",
              "      <td>Turista</td>\n",
              "      <td>Promo</td>\n",
              "      <td>NaN</td>\n",
              "      <td>2019-08-21 19:51:20</td>\n",
              "    </tr>\n",
              "    <tr>\n",
              "      <th>3</th>\n",
              "      <td>7546377</td>\n",
              "      <td>BARCELONA</td>\n",
              "      <td>MADRID</td>\n",
              "      <td>2019-05-24 06:25:00</td>\n",
              "      <td>2019-05-24 08:55:00</td>\n",
              "      <td>2.50</td>\n",
              "      <td>AVE</td>\n",
              "      <td>Turista</td>\n",
              "      <td>Promo</td>\n",
              "      <td>NaN</td>\n",
              "      <td>2019-05-23 15:24:38</td>\n",
              "    </tr>\n",
              "    <tr>\n",
              "      <th>4</th>\n",
              "      <td>17178061</td>\n",
              "      <td>PONFERRADA</td>\n",
              "      <td>MADRID</td>\n",
              "      <td>2020-04-02 06:11:00</td>\n",
              "      <td>2020-04-02 12:00:00</td>\n",
              "      <td>5.82</td>\n",
              "      <td>LD</td>\n",
              "      <td>Turista con enlace</td>\n",
              "      <td>Flexible</td>\n",
              "      <td>NaN</td>\n",
              "      <td>2020-02-10 12:15:28</td>\n",
              "    </tr>\n",
              "    <tr>\n",
              "      <th>...</th>\n",
              "      <td>...</td>\n",
              "      <td>...</td>\n",
              "      <td>...</td>\n",
              "      <td>...</td>\n",
              "      <td>...</td>\n",
              "      <td>...</td>\n",
              "      <td>...</td>\n",
              "      <td>...</td>\n",
              "      <td>...</td>\n",
              "      <td>...</td>\n",
              "      <td>...</td>\n",
              "    </tr>\n",
              "    <tr>\n",
              "      <th>39995</th>\n",
              "      <td>57627</td>\n",
              "      <td>MADRID</td>\n",
              "      <td>SEVILLA</td>\n",
              "      <td>2019-05-07 14:00:00</td>\n",
              "      <td>2019-05-07 16:32:00</td>\n",
              "      <td>2.53</td>\n",
              "      <td>AVE</td>\n",
              "      <td>Turista</td>\n",
              "      <td>Promo</td>\n",
              "      <td>NaN</td>\n",
              "      <td>2019-04-12 03:04:45</td>\n",
              "    </tr>\n",
              "    <tr>\n",
              "      <th>39996</th>\n",
              "      <td>36455665</td>\n",
              "      <td>MADRID</td>\n",
              "      <td>TARRAGONA</td>\n",
              "      <td>2020-08-23 17:30:00</td>\n",
              "      <td>2020-08-23 20:03:00</td>\n",
              "      <td>2.55</td>\n",
              "      <td>AVE</td>\n",
              "      <td>Turista</td>\n",
              "      <td>Flexible</td>\n",
              "      <td>NaN</td>\n",
              "      <td>2020-07-06 22:19:58</td>\n",
              "    </tr>\n",
              "    <tr>\n",
              "      <th>39997</th>\n",
              "      <td>8863281</td>\n",
              "      <td>SEVILLA</td>\n",
              "      <td>MADRID</td>\n",
              "      <td>2019-07-16 13:40:00</td>\n",
              "      <td>2019-07-16 16:10:00</td>\n",
              "      <td>2.50</td>\n",
              "      <td>AVE</td>\n",
              "      <td>Turista</td>\n",
              "      <td>Promo</td>\n",
              "      <td>NaN</td>\n",
              "      <td>2019-05-30 09:25:49</td>\n",
              "    </tr>\n",
              "    <tr>\n",
              "      <th>39998</th>\n",
              "      <td>11748101</td>\n",
              "      <td>SEVILLA</td>\n",
              "      <td>MADRID</td>\n",
              "      <td>2019-08-09 12:40:00</td>\n",
              "      <td>2019-08-09 15:23:00</td>\n",
              "      <td>2.72</td>\n",
              "      <td>AVE</td>\n",
              "      <td>Turista</td>\n",
              "      <td>Promo</td>\n",
              "      <td>NaN</td>\n",
              "      <td>2019-06-15 15:05:44</td>\n",
              "    </tr>\n",
              "    <tr>\n",
              "      <th>39999</th>\n",
              "      <td>15871738</td>\n",
              "      <td>MADRID</td>\n",
              "      <td>BARCELONA</td>\n",
              "      <td>2020-03-02 20:00:00</td>\n",
              "      <td>2020-03-02 22:30:00</td>\n",
              "      <td>2.50</td>\n",
              "      <td>AVE</td>\n",
              "      <td>Turista</td>\n",
              "      <td>Promo</td>\n",
              "      <td>NaN</td>\n",
              "      <td>2020-01-30 17:07:25</td>\n",
              "    </tr>\n",
              "  </tbody>\n",
              "</table>\n",
              "<p>40000 rows × 11 columns</p>\n",
              "</div>\n",
              "      <button class=\"colab-df-convert\" onclick=\"convertToInteractive('df-585f7e97-3e3f-4e9b-8084-54a2faf55cc9')\"\n",
              "              title=\"Convert this dataframe to an interactive table.\"\n",
              "              style=\"display:none;\">\n",
              "        \n",
              "  <svg xmlns=\"http://www.w3.org/2000/svg\" height=\"24px\"viewBox=\"0 0 24 24\"\n",
              "       width=\"24px\">\n",
              "    <path d=\"M0 0h24v24H0V0z\" fill=\"none\"/>\n",
              "    <path d=\"M18.56 5.44l.94 2.06.94-2.06 2.06-.94-2.06-.94-.94-2.06-.94 2.06-2.06.94zm-11 1L8.5 8.5l.94-2.06 2.06-.94-2.06-.94L8.5 2.5l-.94 2.06-2.06.94zm10 10l.94 2.06.94-2.06 2.06-.94-2.06-.94-.94-2.06-.94 2.06-2.06.94z\"/><path d=\"M17.41 7.96l-1.37-1.37c-.4-.4-.92-.59-1.43-.59-.52 0-1.04.2-1.43.59L10.3 9.45l-7.72 7.72c-.78.78-.78 2.05 0 2.83L4 21.41c.39.39.9.59 1.41.59.51 0 1.02-.2 1.41-.59l7.78-7.78 2.81-2.81c.8-.78.8-2.07 0-2.86zM5.41 20L4 18.59l7.72-7.72 1.47 1.35L5.41 20z\"/>\n",
              "  </svg>\n",
              "      </button>\n",
              "      \n",
              "  <style>\n",
              "    .colab-df-container {\n",
              "      display:flex;\n",
              "      flex-wrap:wrap;\n",
              "      gap: 12px;\n",
              "    }\n",
              "\n",
              "    .colab-df-convert {\n",
              "      background-color: #E8F0FE;\n",
              "      border: none;\n",
              "      border-radius: 50%;\n",
              "      cursor: pointer;\n",
              "      display: none;\n",
              "      fill: #1967D2;\n",
              "      height: 32px;\n",
              "      padding: 0 0 0 0;\n",
              "      width: 32px;\n",
              "    }\n",
              "\n",
              "    .colab-df-convert:hover {\n",
              "      background-color: #E2EBFA;\n",
              "      box-shadow: 0px 1px 2px rgba(60, 64, 67, 0.3), 0px 1px 3px 1px rgba(60, 64, 67, 0.15);\n",
              "      fill: #174EA6;\n",
              "    }\n",
              "\n",
              "    [theme=dark] .colab-df-convert {\n",
              "      background-color: #3B4455;\n",
              "      fill: #D2E3FC;\n",
              "    }\n",
              "\n",
              "    [theme=dark] .colab-df-convert:hover {\n",
              "      background-color: #434B5C;\n",
              "      box-shadow: 0px 1px 3px 1px rgba(0, 0, 0, 0.15);\n",
              "      filter: drop-shadow(0px 1px 2px rgba(0, 0, 0, 0.3));\n",
              "      fill: #FFFFFF;\n",
              "    }\n",
              "  </style>\n",
              "\n",
              "      <script>\n",
              "        const buttonEl =\n",
              "          document.querySelector('#df-585f7e97-3e3f-4e9b-8084-54a2faf55cc9 button.colab-df-convert');\n",
              "        buttonEl.style.display =\n",
              "          google.colab.kernel.accessAllowed ? 'block' : 'none';\n",
              "\n",
              "        async function convertToInteractive(key) {\n",
              "          const element = document.querySelector('#df-585f7e97-3e3f-4e9b-8084-54a2faf55cc9');\n",
              "          const dataTable =\n",
              "            await google.colab.kernel.invokeFunction('convertToInteractive',\n",
              "                                                     [key], {});\n",
              "          if (!dataTable) return;\n",
              "\n",
              "          const docLinkHtml = 'Like what you see? Visit the ' +\n",
              "            '<a target=\"_blank\" href=https://colab.research.google.com/notebooks/data_table.ipynb>data table notebook</a>'\n",
              "            + ' to learn more about interactive tables.';\n",
              "          element.innerHTML = '';\n",
              "          dataTable['output_type'] = 'display_data';\n",
              "          await google.colab.output.renderOutput(dataTable, element);\n",
              "          const docLink = document.createElement('div');\n",
              "          docLink.innerHTML = docLinkHtml;\n",
              "          element.appendChild(docLink);\n",
              "        }\n",
              "      </script>\n",
              "    </div>\n",
              "  </div>\n",
              "  "
            ]
          },
          "metadata": {},
          "execution_count": 285
        }
      ]
    },
    {
      "cell_type": "code",
      "source": [
        "# Gestión_duplicados\n",
        "print(X_pred.duplicated().sum(),'duplicated rows were deleted')\n",
        "X_pred.drop_duplicates(inplace=True)\n",
        "print(X_pred.shape)"
      ],
      "metadata": {
        "colab": {
          "base_uri": "https://localhost:8080/"
        },
        "id": "7uhooPWKB3dU",
        "outputId": "6ae78c71-0b29-4b23-9003-0cfff30b97f0"
      },
      "execution_count": null,
      "outputs": [
        {
          "output_type": "stream",
          "name": "stdout",
          "text": [
            "0 duplicated rows were deleted\n",
            "(40000, 11)\n"
          ]
        }
      ]
    },
    {
      "cell_type": "code",
      "source": [],
      "metadata": {
        "id": "MQy7u0QSEYLG"
      },
      "execution_count": null,
      "outputs": []
    },
    {
      "cell_type": "code",
      "source": [
        "#Funcion de ayuda para tomar decisiones en la gestion de nulos\n",
        "def column_report(df_x):\n",
        "    a = pd.DataFrame(df_x.dtypes, columns={'dtype'})\n",
        "    b = pd.DataFrame(df_x.isna().sum(), columns={'nulls'})\n",
        "    b['%nulls'] = round(100*b['nulls']/ df_x.shape[0],2)  \n",
        "    c = df_x.describe(include='all').transpose()\n",
        "    return a.join(b).join(c).sort_values(by=['dtype','nulls'])\n",
        "\n",
        "report = column_report(X_pred)"
      ],
      "metadata": {
        "id": "qBWreY5wEYHE"
      },
      "execution_count": null,
      "outputs": []
    },
    {
      "cell_type": "code",
      "source": [
        "# Analisis de nulos\n",
        "pd.set_option('display.max_rows', 1000)\n",
        "report[report['nulls']>0].sort_values(by='nulls',ascending=False)"
      ],
      "metadata": {
        "colab": {
          "base_uri": "https://localhost:8080/",
          "height": 81
        },
        "id": "hEQIR1rdEYEF",
        "outputId": "bbf7355d-342d-4a26-e4e3-845019120bbc"
      },
      "execution_count": null,
      "outputs": [
        {
          "output_type": "execute_result",
          "data": {
            "text/plain": [
              "         dtype  nulls  %nulls   count unique  top freq        mean        std  \\\n",
              "seats  float64  38342   95.86  1658.0    NaN  NaN  NaN  220.913752  71.982248   \n",
              "\n",
              "       min     25%    50%    75%    max  \n",
              "seats  6.0  205.25  236.0  261.0  334.0  "
            ],
            "text/html": [
              "\n",
              "  <div id=\"df-8aa036ff-0710-47c5-9ea8-318e75953ab8\">\n",
              "    <div class=\"colab-df-container\">\n",
              "      <div>\n",
              "<style scoped>\n",
              "    .dataframe tbody tr th:only-of-type {\n",
              "        vertical-align: middle;\n",
              "    }\n",
              "\n",
              "    .dataframe tbody tr th {\n",
              "        vertical-align: top;\n",
              "    }\n",
              "\n",
              "    .dataframe thead th {\n",
              "        text-align: right;\n",
              "    }\n",
              "</style>\n",
              "<table border=\"1\" class=\"dataframe\">\n",
              "  <thead>\n",
              "    <tr style=\"text-align: right;\">\n",
              "      <th></th>\n",
              "      <th>dtype</th>\n",
              "      <th>nulls</th>\n",
              "      <th>%nulls</th>\n",
              "      <th>count</th>\n",
              "      <th>unique</th>\n",
              "      <th>top</th>\n",
              "      <th>freq</th>\n",
              "      <th>mean</th>\n",
              "      <th>std</th>\n",
              "      <th>min</th>\n",
              "      <th>25%</th>\n",
              "      <th>50%</th>\n",
              "      <th>75%</th>\n",
              "      <th>max</th>\n",
              "    </tr>\n",
              "  </thead>\n",
              "  <tbody>\n",
              "    <tr>\n",
              "      <th>seats</th>\n",
              "      <td>float64</td>\n",
              "      <td>38342</td>\n",
              "      <td>95.86</td>\n",
              "      <td>1658.0</td>\n",
              "      <td>NaN</td>\n",
              "      <td>NaN</td>\n",
              "      <td>NaN</td>\n",
              "      <td>220.913752</td>\n",
              "      <td>71.982248</td>\n",
              "      <td>6.0</td>\n",
              "      <td>205.25</td>\n",
              "      <td>236.0</td>\n",
              "      <td>261.0</td>\n",
              "      <td>334.0</td>\n",
              "    </tr>\n",
              "  </tbody>\n",
              "</table>\n",
              "</div>\n",
              "      <button class=\"colab-df-convert\" onclick=\"convertToInteractive('df-8aa036ff-0710-47c5-9ea8-318e75953ab8')\"\n",
              "              title=\"Convert this dataframe to an interactive table.\"\n",
              "              style=\"display:none;\">\n",
              "        \n",
              "  <svg xmlns=\"http://www.w3.org/2000/svg\" height=\"24px\"viewBox=\"0 0 24 24\"\n",
              "       width=\"24px\">\n",
              "    <path d=\"M0 0h24v24H0V0z\" fill=\"none\"/>\n",
              "    <path d=\"M18.56 5.44l.94 2.06.94-2.06 2.06-.94-2.06-.94-.94-2.06-.94 2.06-2.06.94zm-11 1L8.5 8.5l.94-2.06 2.06-.94-2.06-.94L8.5 2.5l-.94 2.06-2.06.94zm10 10l.94 2.06.94-2.06 2.06-.94-2.06-.94-.94-2.06-.94 2.06-2.06.94z\"/><path d=\"M17.41 7.96l-1.37-1.37c-.4-.4-.92-.59-1.43-.59-.52 0-1.04.2-1.43.59L10.3 9.45l-7.72 7.72c-.78.78-.78 2.05 0 2.83L4 21.41c.39.39.9.59 1.41.59.51 0 1.02-.2 1.41-.59l7.78-7.78 2.81-2.81c.8-.78.8-2.07 0-2.86zM5.41 20L4 18.59l7.72-7.72 1.47 1.35L5.41 20z\"/>\n",
              "  </svg>\n",
              "      </button>\n",
              "      \n",
              "  <style>\n",
              "    .colab-df-container {\n",
              "      display:flex;\n",
              "      flex-wrap:wrap;\n",
              "      gap: 12px;\n",
              "    }\n",
              "\n",
              "    .colab-df-convert {\n",
              "      background-color: #E8F0FE;\n",
              "      border: none;\n",
              "      border-radius: 50%;\n",
              "      cursor: pointer;\n",
              "      display: none;\n",
              "      fill: #1967D2;\n",
              "      height: 32px;\n",
              "      padding: 0 0 0 0;\n",
              "      width: 32px;\n",
              "    }\n",
              "\n",
              "    .colab-df-convert:hover {\n",
              "      background-color: #E2EBFA;\n",
              "      box-shadow: 0px 1px 2px rgba(60, 64, 67, 0.3), 0px 1px 3px 1px rgba(60, 64, 67, 0.15);\n",
              "      fill: #174EA6;\n",
              "    }\n",
              "\n",
              "    [theme=dark] .colab-df-convert {\n",
              "      background-color: #3B4455;\n",
              "      fill: #D2E3FC;\n",
              "    }\n",
              "\n",
              "    [theme=dark] .colab-df-convert:hover {\n",
              "      background-color: #434B5C;\n",
              "      box-shadow: 0px 1px 3px 1px rgba(0, 0, 0, 0.15);\n",
              "      filter: drop-shadow(0px 1px 2px rgba(0, 0, 0, 0.3));\n",
              "      fill: #FFFFFF;\n",
              "    }\n",
              "  </style>\n",
              "\n",
              "      <script>\n",
              "        const buttonEl =\n",
              "          document.querySelector('#df-8aa036ff-0710-47c5-9ea8-318e75953ab8 button.colab-df-convert');\n",
              "        buttonEl.style.display =\n",
              "          google.colab.kernel.accessAllowed ? 'block' : 'none';\n",
              "\n",
              "        async function convertToInteractive(key) {\n",
              "          const element = document.querySelector('#df-8aa036ff-0710-47c5-9ea8-318e75953ab8');\n",
              "          const dataTable =\n",
              "            await google.colab.kernel.invokeFunction('convertToInteractive',\n",
              "                                                     [key], {});\n",
              "          if (!dataTable) return;\n",
              "\n",
              "          const docLinkHtml = 'Like what you see? Visit the ' +\n",
              "            '<a target=\"_blank\" href=https://colab.research.google.com/notebooks/data_table.ipynb>data table notebook</a>'\n",
              "            + ' to learn more about interactive tables.';\n",
              "          element.innerHTML = '';\n",
              "          dataTable['output_type'] = 'display_data';\n",
              "          await google.colab.output.renderOutput(dataTable, element);\n",
              "          const docLink = document.createElement('div');\n",
              "          docLink.innerHTML = docLinkHtml;\n",
              "          element.appendChild(docLink);\n",
              "        }\n",
              "      </script>\n",
              "    </div>\n",
              "  </div>\n",
              "  "
            ]
          },
          "metadata": {},
          "execution_count": 290
        }
      ]
    },
    {
      "cell_type": "code",
      "source": [
        "#procedemos a eliminar la columna seats por la gran cantidad de nulos que tiene\n",
        "del(X_pred['seats'])"
      ],
      "metadata": {
        "id": "Vr0VSMDDEYAj"
      },
      "execution_count": null,
      "outputs": []
    },
    {
      "cell_type": "code",
      "source": [],
      "metadata": {
        "id": "yr4f0J60B3aY"
      },
      "execution_count": null,
      "outputs": []
    },
    {
      "cell_type": "code",
      "source": [
        "# Pasar fechas de tipo objeto a tipo datetime\n",
        "for i in ('departure','arrival','insert_date'):\n",
        "  X_pred[i] = pd.to_datetime(X_pred[i])"
      ],
      "metadata": {
        "id": "TGjTWL2bB3Wq"
      },
      "execution_count": null,
      "outputs": []
    },
    {
      "cell_type": "code",
      "source": [
        "X_pred.info()"
      ],
      "metadata": {
        "colab": {
          "base_uri": "https://localhost:8080/"
        },
        "id": "pDTXChe4B3TT",
        "outputId": "f1b6981c-40bf-4300-f811-2bbbab285059"
      },
      "execution_count": null,
      "outputs": [
        {
          "output_type": "stream",
          "name": "stdout",
          "text": [
            "<class 'pandas.core.frame.DataFrame'>\n",
            "Int64Index: 40000 entries, 0 to 39999\n",
            "Data columns (total 10 columns):\n",
            " #   Column         Non-Null Count  Dtype         \n",
            "---  ------         --------------  -----         \n",
            " 0   Unnamed: 0     40000 non-null  int64         \n",
            " 1   origin         40000 non-null  object        \n",
            " 2   destination    40000 non-null  object        \n",
            " 3   departure      40000 non-null  datetime64[ns]\n",
            " 4   arrival        40000 non-null  datetime64[ns]\n",
            " 5   duration       40000 non-null  float64       \n",
            " 6   vehicle_type   40000 non-null  object        \n",
            " 7   vehicle_class  40000 non-null  object        \n",
            " 8   fare           40000 non-null  object        \n",
            " 9   insert_date    40000 non-null  datetime64[ns]\n",
            "dtypes: datetime64[ns](3), float64(1), int64(1), object(5)\n",
            "memory usage: 3.4+ MB\n"
          ]
        }
      ]
    },
    {
      "cell_type": "code",
      "source": [
        "# Variables de las fechas\n",
        "for i in ('departure','insert_date'):\n",
        "  X_pred['weekday_'+i] = X_pred[i].dt.day_name()\n",
        "  X_pred['weekday_n_'+i] = X_pred[i].dt.day_of_week # 0-Lunes, 6-Domingo\n",
        "  X_pred['month_'+i] = X_pred[i].dt.month\n",
        "  X_pred['hour_'+i] = X_pred[i].dt.hour"
      ],
      "metadata": {
        "id": "JBUWGQ_CNTBb"
      },
      "execution_count": null,
      "outputs": []
    },
    {
      "cell_type": "code",
      "source": [
        "# Tiempo entre la consulta del precio y el viaje\n",
        "timedelta = X_pred.departure - X_pred.insert_date\n",
        "X_pred['days_before_trip'] = timedelta.dt.days"
      ],
      "metadata": {
        "id": "iV2RrEINNS-c"
      },
      "execution_count": null,
      "outputs": []
    },
    {
      "cell_type": "code",
      "source": [],
      "metadata": {
        "id": "9rxzka2NTPnR"
      },
      "execution_count": null,
      "outputs": []
    },
    {
      "cell_type": "code",
      "source": [
        "X_pred['ind_weekend'] = X_pred.weekday_n_departure.isin([5,6])"
      ],
      "metadata": {
        "id": "Rjsxu_ooTN1m"
      },
      "execution_count": null,
      "outputs": []
    },
    {
      "cell_type": "code",
      "source": [
        "X_pred['ind_holidays'] = X_pred.departure.dt.date.isin(festivos.date)"
      ],
      "metadata": {
        "id": "3qpJlillTUXP"
      },
      "execution_count": null,
      "outputs": []
    },
    {
      "cell_type": "code",
      "source": [
        "X_pred.ind_holidays = X_pred.ind_holidays.astype('int8')\n",
        "X_pred.ind_weekend = X_pred.ind_weekend.astype('int8')"
      ],
      "metadata": {
        "id": "O5QPRCTbTURz"
      },
      "execution_count": null,
      "outputs": []
    },
    {
      "cell_type": "code",
      "source": [],
      "metadata": {
        "id": "7EUNHKRuTNtx"
      },
      "execution_count": null,
      "outputs": []
    },
    {
      "cell_type": "code",
      "source": [
        "del(X_pred['Unnamed: 0'])"
      ],
      "metadata": {
        "id": "TTJ5ujQmQfrJ"
      },
      "execution_count": null,
      "outputs": []
    },
    {
      "cell_type": "code",
      "source": [
        "X_pred.columns"
      ],
      "metadata": {
        "colab": {
          "base_uri": "https://localhost:8080/"
        },
        "id": "yZTsmrp6QfoL",
        "outputId": "b7473078-4fdc-47b7-ef4e-144317cc1673"
      },
      "execution_count": null,
      "outputs": [
        {
          "output_type": "execute_result",
          "data": {
            "text/plain": [
              "Index(['origin', 'destination', 'departure', 'arrival', 'duration',\n",
              "       'vehicle_type', 'vehicle_class', 'fare', 'insert_date',\n",
              "       'weekday_departure', 'weekday_n_departure', 'month_departure',\n",
              "       'hour_departure', 'weekday_insert_date', 'weekday_n_insert_date',\n",
              "       'month_insert_date', 'hour_insert_date', 'days_before_trip',\n",
              "       'ind_weekend', 'ind_holidays'],\n",
              "      dtype='object')"
            ]
          },
          "metadata": {},
          "execution_count": 300
        }
      ]
    },
    {
      "cell_type": "code",
      "source": [
        "X_pred.origin.value_counts().index.values #ordena la frequencia de origen"
      ],
      "metadata": {
        "colab": {
          "base_uri": "https://localhost:8080/"
        },
        "id": "0_nApcqbQfkq",
        "outputId": "fa1ca103-f41e-45ca-d06f-4e6389056b0d"
      },
      "execution_count": null,
      "outputs": [
        {
          "output_type": "execute_result",
          "data": {
            "text/plain": [
              "array(['MADRID', 'BARCELONA', 'VALENCIA', 'SEVILLA', 'CORDOBA',\n",
              "       'ZARAGOZA', 'PONFERRADA', 'VALLADOLID', 'ALBACETE', 'TARRAGONA',\n",
              "       'MALAGA', 'LLEIDA', 'GIRONA', 'LEON', 'ALICANTE', 'CASTELLON',\n",
              "       'GRANADA', 'CÓRDOBA', 'SEGOVIA', 'LEÓN', 'PALENCIA', 'CIUDAD REAL',\n",
              "       'MÁLAGA', 'CUENCA', 'GUADALAJARA', 'TOLEDO', 'CADIZ', 'ZAMORA',\n",
              "       'HUESCA', 'CASTELLO'], dtype=object)"
            ]
          },
          "metadata": {},
          "execution_count": 301
        }
      ]
    },
    {
      "cell_type": "code",
      "source": [
        "# Hipotesis: los precios de las lineas de tren ida y vuelta son parecidos\n",
        "# Vamos a ponerle nombre a las lineas de tren \n",
        "# Definimos que el nombre de la linea será CIUDAD CON MAS VIAJES DE ORIGEN - CIUDAD CON MENOS VIAJES DE ORIGEN\n",
        "\n",
        "city_order = X_pred.origin.value_counts().index.values\n",
        "\n",
        "def train_line(origin, destination, city_list):\n",
        "  if np.where(city_order == origin) < np.where(city_order == destination):\n",
        "    return origin+'-'+destination\n",
        "  else:\n",
        "    return destination+'-'+origin\n",
        "\n",
        "# Aplicamos la funcion linea a linea en el dataframe\n",
        "X_pred['train_line'] = X_pred.apply(lambda x: train_line(x['origin'], x['destination'], city_order), axis=1)"
      ],
      "metadata": {
        "id": "Q6XctyUMQfh5"
      },
      "execution_count": null,
      "outputs": []
    },
    {
      "cell_type": "code",
      "source": [
        "X_pred.head()"
      ],
      "metadata": {
        "colab": {
          "base_uri": "https://localhost:8080/",
          "height": 473
        },
        "id": "8mRyCUuRQfe2",
        "outputId": "65f4c116-e7b1-4460-f071-8a99b8c7c733"
      },
      "execution_count": null,
      "outputs": [
        {
          "output_type": "execute_result",
          "data": {
            "text/plain": [
              "       origin destination           departure             arrival  duration  \\\n",
              "0     CORDOBA      MADRID 2020-04-01 08:56:00 2020-04-01 10:40:00      1.73   \n",
              "1     SEVILLA      MADRID 2019-07-05 16:15:00 2019-07-05 18:54:00      2.65   \n",
              "2    VALENCIA      MADRID 2019-09-04 10:40:00 2019-09-04 13:05:00      2.42   \n",
              "3   BARCELONA      MADRID 2019-05-24 06:25:00 2019-05-24 08:55:00      2.50   \n",
              "4  PONFERRADA      MADRID 2020-04-02 06:11:00 2020-04-02 12:00:00      5.82   \n",
              "\n",
              "  vehicle_type       vehicle_class      fare         insert_date  \\\n",
              "0          AVE             Turista  Flexible 2020-03-08 03:08:51   \n",
              "1          AVE             Turista     Promo 2019-05-29 09:32:34   \n",
              "2    INTERCITY             Turista     Promo 2019-08-21 19:51:20   \n",
              "3          AVE             Turista     Promo 2019-05-23 15:24:38   \n",
              "4           LD  Turista con enlace  Flexible 2020-02-10 12:15:28   \n",
              "\n",
              "  weekday_departure  ...  month_departure  hour_departure  \\\n",
              "0         Wednesday  ...                4               8   \n",
              "1            Friday  ...                7              16   \n",
              "2         Wednesday  ...                9              10   \n",
              "3            Friday  ...                5               6   \n",
              "4          Thursday  ...                4               6   \n",
              "\n",
              "   weekday_insert_date weekday_n_insert_date  month_insert_date  \\\n",
              "0               Sunday                     6                  3   \n",
              "1            Wednesday                     2                  5   \n",
              "2            Wednesday                     2                  8   \n",
              "3             Thursday                     3                  5   \n",
              "4               Monday                     0                  2   \n",
              "\n",
              "   hour_insert_date  days_before_trip  ind_weekend  ind_holidays  \\\n",
              "0                 3                24            0             0   \n",
              "1                 9                37            0             0   \n",
              "2                19                13            0             0   \n",
              "3                15                 0            0             0   \n",
              "4                12                51            0             0   \n",
              "\n",
              "          train_line  \n",
              "0     MADRID-CORDOBA  \n",
              "1     MADRID-SEVILLA  \n",
              "2    MADRID-VALENCIA  \n",
              "3   MADRID-BARCELONA  \n",
              "4  MADRID-PONFERRADA  \n",
              "\n",
              "[5 rows x 21 columns]"
            ],
            "text/html": [
              "\n",
              "  <div id=\"df-bef1fb44-2a5e-433f-8c2f-3e940f42e89f\">\n",
              "    <div class=\"colab-df-container\">\n",
              "      <div>\n",
              "<style scoped>\n",
              "    .dataframe tbody tr th:only-of-type {\n",
              "        vertical-align: middle;\n",
              "    }\n",
              "\n",
              "    .dataframe tbody tr th {\n",
              "        vertical-align: top;\n",
              "    }\n",
              "\n",
              "    .dataframe thead th {\n",
              "        text-align: right;\n",
              "    }\n",
              "</style>\n",
              "<table border=\"1\" class=\"dataframe\">\n",
              "  <thead>\n",
              "    <tr style=\"text-align: right;\">\n",
              "      <th></th>\n",
              "      <th>origin</th>\n",
              "      <th>destination</th>\n",
              "      <th>departure</th>\n",
              "      <th>arrival</th>\n",
              "      <th>duration</th>\n",
              "      <th>vehicle_type</th>\n",
              "      <th>vehicle_class</th>\n",
              "      <th>fare</th>\n",
              "      <th>insert_date</th>\n",
              "      <th>weekday_departure</th>\n",
              "      <th>...</th>\n",
              "      <th>month_departure</th>\n",
              "      <th>hour_departure</th>\n",
              "      <th>weekday_insert_date</th>\n",
              "      <th>weekday_n_insert_date</th>\n",
              "      <th>month_insert_date</th>\n",
              "      <th>hour_insert_date</th>\n",
              "      <th>days_before_trip</th>\n",
              "      <th>ind_weekend</th>\n",
              "      <th>ind_holidays</th>\n",
              "      <th>train_line</th>\n",
              "    </tr>\n",
              "  </thead>\n",
              "  <tbody>\n",
              "    <tr>\n",
              "      <th>0</th>\n",
              "      <td>CORDOBA</td>\n",
              "      <td>MADRID</td>\n",
              "      <td>2020-04-01 08:56:00</td>\n",
              "      <td>2020-04-01 10:40:00</td>\n",
              "      <td>1.73</td>\n",
              "      <td>AVE</td>\n",
              "      <td>Turista</td>\n",
              "      <td>Flexible</td>\n",
              "      <td>2020-03-08 03:08:51</td>\n",
              "      <td>Wednesday</td>\n",
              "      <td>...</td>\n",
              "      <td>4</td>\n",
              "      <td>8</td>\n",
              "      <td>Sunday</td>\n",
              "      <td>6</td>\n",
              "      <td>3</td>\n",
              "      <td>3</td>\n",
              "      <td>24</td>\n",
              "      <td>0</td>\n",
              "      <td>0</td>\n",
              "      <td>MADRID-CORDOBA</td>\n",
              "    </tr>\n",
              "    <tr>\n",
              "      <th>1</th>\n",
              "      <td>SEVILLA</td>\n",
              "      <td>MADRID</td>\n",
              "      <td>2019-07-05 16:15:00</td>\n",
              "      <td>2019-07-05 18:54:00</td>\n",
              "      <td>2.65</td>\n",
              "      <td>AVE</td>\n",
              "      <td>Turista</td>\n",
              "      <td>Promo</td>\n",
              "      <td>2019-05-29 09:32:34</td>\n",
              "      <td>Friday</td>\n",
              "      <td>...</td>\n",
              "      <td>7</td>\n",
              "      <td>16</td>\n",
              "      <td>Wednesday</td>\n",
              "      <td>2</td>\n",
              "      <td>5</td>\n",
              "      <td>9</td>\n",
              "      <td>37</td>\n",
              "      <td>0</td>\n",
              "      <td>0</td>\n",
              "      <td>MADRID-SEVILLA</td>\n",
              "    </tr>\n",
              "    <tr>\n",
              "      <th>2</th>\n",
              "      <td>VALENCIA</td>\n",
              "      <td>MADRID</td>\n",
              "      <td>2019-09-04 10:40:00</td>\n",
              "      <td>2019-09-04 13:05:00</td>\n",
              "      <td>2.42</td>\n",
              "      <td>INTERCITY</td>\n",
              "      <td>Turista</td>\n",
              "      <td>Promo</td>\n",
              "      <td>2019-08-21 19:51:20</td>\n",
              "      <td>Wednesday</td>\n",
              "      <td>...</td>\n",
              "      <td>9</td>\n",
              "      <td>10</td>\n",
              "      <td>Wednesday</td>\n",
              "      <td>2</td>\n",
              "      <td>8</td>\n",
              "      <td>19</td>\n",
              "      <td>13</td>\n",
              "      <td>0</td>\n",
              "      <td>0</td>\n",
              "      <td>MADRID-VALENCIA</td>\n",
              "    </tr>\n",
              "    <tr>\n",
              "      <th>3</th>\n",
              "      <td>BARCELONA</td>\n",
              "      <td>MADRID</td>\n",
              "      <td>2019-05-24 06:25:00</td>\n",
              "      <td>2019-05-24 08:55:00</td>\n",
              "      <td>2.50</td>\n",
              "      <td>AVE</td>\n",
              "      <td>Turista</td>\n",
              "      <td>Promo</td>\n",
              "      <td>2019-05-23 15:24:38</td>\n",
              "      <td>Friday</td>\n",
              "      <td>...</td>\n",
              "      <td>5</td>\n",
              "      <td>6</td>\n",
              "      <td>Thursday</td>\n",
              "      <td>3</td>\n",
              "      <td>5</td>\n",
              "      <td>15</td>\n",
              "      <td>0</td>\n",
              "      <td>0</td>\n",
              "      <td>0</td>\n",
              "      <td>MADRID-BARCELONA</td>\n",
              "    </tr>\n",
              "    <tr>\n",
              "      <th>4</th>\n",
              "      <td>PONFERRADA</td>\n",
              "      <td>MADRID</td>\n",
              "      <td>2020-04-02 06:11:00</td>\n",
              "      <td>2020-04-02 12:00:00</td>\n",
              "      <td>5.82</td>\n",
              "      <td>LD</td>\n",
              "      <td>Turista con enlace</td>\n",
              "      <td>Flexible</td>\n",
              "      <td>2020-02-10 12:15:28</td>\n",
              "      <td>Thursday</td>\n",
              "      <td>...</td>\n",
              "      <td>4</td>\n",
              "      <td>6</td>\n",
              "      <td>Monday</td>\n",
              "      <td>0</td>\n",
              "      <td>2</td>\n",
              "      <td>12</td>\n",
              "      <td>51</td>\n",
              "      <td>0</td>\n",
              "      <td>0</td>\n",
              "      <td>MADRID-PONFERRADA</td>\n",
              "    </tr>\n",
              "  </tbody>\n",
              "</table>\n",
              "<p>5 rows × 21 columns</p>\n",
              "</div>\n",
              "      <button class=\"colab-df-convert\" onclick=\"convertToInteractive('df-bef1fb44-2a5e-433f-8c2f-3e940f42e89f')\"\n",
              "              title=\"Convert this dataframe to an interactive table.\"\n",
              "              style=\"display:none;\">\n",
              "        \n",
              "  <svg xmlns=\"http://www.w3.org/2000/svg\" height=\"24px\"viewBox=\"0 0 24 24\"\n",
              "       width=\"24px\">\n",
              "    <path d=\"M0 0h24v24H0V0z\" fill=\"none\"/>\n",
              "    <path d=\"M18.56 5.44l.94 2.06.94-2.06 2.06-.94-2.06-.94-.94-2.06-.94 2.06-2.06.94zm-11 1L8.5 8.5l.94-2.06 2.06-.94-2.06-.94L8.5 2.5l-.94 2.06-2.06.94zm10 10l.94 2.06.94-2.06 2.06-.94-2.06-.94-.94-2.06-.94 2.06-2.06.94z\"/><path d=\"M17.41 7.96l-1.37-1.37c-.4-.4-.92-.59-1.43-.59-.52 0-1.04.2-1.43.59L10.3 9.45l-7.72 7.72c-.78.78-.78 2.05 0 2.83L4 21.41c.39.39.9.59 1.41.59.51 0 1.02-.2 1.41-.59l7.78-7.78 2.81-2.81c.8-.78.8-2.07 0-2.86zM5.41 20L4 18.59l7.72-7.72 1.47 1.35L5.41 20z\"/>\n",
              "  </svg>\n",
              "      </button>\n",
              "      \n",
              "  <style>\n",
              "    .colab-df-container {\n",
              "      display:flex;\n",
              "      flex-wrap:wrap;\n",
              "      gap: 12px;\n",
              "    }\n",
              "\n",
              "    .colab-df-convert {\n",
              "      background-color: #E8F0FE;\n",
              "      border: none;\n",
              "      border-radius: 50%;\n",
              "      cursor: pointer;\n",
              "      display: none;\n",
              "      fill: #1967D2;\n",
              "      height: 32px;\n",
              "      padding: 0 0 0 0;\n",
              "      width: 32px;\n",
              "    }\n",
              "\n",
              "    .colab-df-convert:hover {\n",
              "      background-color: #E2EBFA;\n",
              "      box-shadow: 0px 1px 2px rgba(60, 64, 67, 0.3), 0px 1px 3px 1px rgba(60, 64, 67, 0.15);\n",
              "      fill: #174EA6;\n",
              "    }\n",
              "\n",
              "    [theme=dark] .colab-df-convert {\n",
              "      background-color: #3B4455;\n",
              "      fill: #D2E3FC;\n",
              "    }\n",
              "\n",
              "    [theme=dark] .colab-df-convert:hover {\n",
              "      background-color: #434B5C;\n",
              "      box-shadow: 0px 1px 3px 1px rgba(0, 0, 0, 0.15);\n",
              "      filter: drop-shadow(0px 1px 2px rgba(0, 0, 0, 0.3));\n",
              "      fill: #FFFFFF;\n",
              "    }\n",
              "  </style>\n",
              "\n",
              "      <script>\n",
              "        const buttonEl =\n",
              "          document.querySelector('#df-bef1fb44-2a5e-433f-8c2f-3e940f42e89f button.colab-df-convert');\n",
              "        buttonEl.style.display =\n",
              "          google.colab.kernel.accessAllowed ? 'block' : 'none';\n",
              "\n",
              "        async function convertToInteractive(key) {\n",
              "          const element = document.querySelector('#df-bef1fb44-2a5e-433f-8c2f-3e940f42e89f');\n",
              "          const dataTable =\n",
              "            await google.colab.kernel.invokeFunction('convertToInteractive',\n",
              "                                                     [key], {});\n",
              "          if (!dataTable) return;\n",
              "\n",
              "          const docLinkHtml = 'Like what you see? Visit the ' +\n",
              "            '<a target=\"_blank\" href=https://colab.research.google.com/notebooks/data_table.ipynb>data table notebook</a>'\n",
              "            + ' to learn more about interactive tables.';\n",
              "          element.innerHTML = '';\n",
              "          dataTable['output_type'] = 'display_data';\n",
              "          await google.colab.output.renderOutput(dataTable, element);\n",
              "          const docLink = document.createElement('div');\n",
              "          docLink.innerHTML = docLinkHtml;\n",
              "          element.appendChild(docLink);\n",
              "        }\n",
              "      </script>\n",
              "    </div>\n",
              "  </div>\n",
              "  "
            ]
          },
          "metadata": {},
          "execution_count": 303
        }
      ]
    },
    {
      "cell_type": "code",
      "source": [
        "# vamos a ver las variables que más tipos tienen\n",
        "100*X_pred.vehicle_class.value_counts()/X_pred.shape[0]"
      ],
      "metadata": {
        "colab": {
          "base_uri": "https://localhost:8080/"
        },
        "id": "YrsRVvqlSQUJ",
        "outputId": "e8cd29ef-f1d0-4097-86bf-b32ccdc7b2e0"
      },
      "execution_count": null,
      "outputs": [
        {
          "output_type": "execute_result",
          "data": {
            "text/plain": [
              "Turista                   78.1950\n",
              "Turista con enlace         8.8325\n",
              "Preferente                 7.1050\n",
              "Turista Plus               5.4375\n",
              "TuristaSólo plaza H        0.3200\n",
              "Cama Turista               0.0550\n",
              "PreferenteSólo plaza H     0.0350\n",
              "Turista Plus - Turista     0.0075\n",
              "Cama G. Clase              0.0075\n",
              "Turista - Turista Plus     0.0050\n",
              "Name: vehicle_class, dtype: float64"
            ]
          },
          "metadata": {},
          "execution_count": 304
        }
      ]
    },
    {
      "cell_type": "code",
      "source": [
        "X_pred.shape"
      ],
      "metadata": {
        "colab": {
          "base_uri": "https://localhost:8080/"
        },
        "id": "tkxERJGHSQQT",
        "outputId": "cc61f2c3-3e54-4e27-ead1-b5a3c10748fc"
      },
      "execution_count": null,
      "outputs": [
        {
          "output_type": "execute_result",
          "data": {
            "text/plain": [
              "(40000, 21)"
            ]
          },
          "metadata": {},
          "execution_count": 305
        }
      ]
    },
    {
      "cell_type": "code",
      "source": [
        "X_pred.isnull().sum()"
      ],
      "metadata": {
        "colab": {
          "base_uri": "https://localhost:8080/"
        },
        "id": "0Gg3GkUeSQNn",
        "outputId": "0b0671c8-52ca-4894-aefb-b13cafa3c333"
      },
      "execution_count": null,
      "outputs": [
        {
          "output_type": "execute_result",
          "data": {
            "text/plain": [
              "origin                   0\n",
              "destination              0\n",
              "departure                0\n",
              "arrival                  0\n",
              "duration                 0\n",
              "vehicle_type             0\n",
              "vehicle_class            0\n",
              "fare                     0\n",
              "insert_date              0\n",
              "weekday_departure        0\n",
              "weekday_n_departure      0\n",
              "month_departure          0\n",
              "hour_departure           0\n",
              "weekday_insert_date      0\n",
              "weekday_n_insert_date    0\n",
              "month_insert_date        0\n",
              "hour_insert_date         0\n",
              "days_before_trip         0\n",
              "ind_weekend              0\n",
              "ind_holidays             0\n",
              "train_line               0\n",
              "dtype: int64"
            ]
          },
          "metadata": {},
          "execution_count": 306
        }
      ]
    },
    {
      "cell_type": "code",
      "source": [],
      "metadata": {
        "id": "p2qua_OAUI7s"
      },
      "execution_count": null,
      "outputs": []
    },
    {
      "cell_type": "code",
      "source": [
        "categorical = X_pred.select_dtypes(include='object').columns"
      ],
      "metadata": {
        "id": "Qu2Tl_QVSQKD"
      },
      "execution_count": null,
      "outputs": []
    },
    {
      "cell_type": "code",
      "source": [
        "X_pred[categorical].nunique()"
      ],
      "metadata": {
        "colab": {
          "base_uri": "https://localhost:8080/"
        },
        "id": "2QgEz1jFSQHF",
        "outputId": "5d1fc757-93a7-4cae-cd3d-b29de18d67b6"
      },
      "execution_count": null,
      "outputs": [
        {
          "output_type": "execute_result",
          "data": {
            "text/plain": [
              "origin                 30\n",
              "destination            30\n",
              "vehicle_type           30\n",
              "vehicle_class          10\n",
              "fare                    9\n",
              "weekday_departure       7\n",
              "weekday_insert_date     7\n",
              "train_line             31\n",
              "dtype: int64"
            ]
          },
          "metadata": {},
          "execution_count": 308
        }
      ]
    },
    {
      "cell_type": "code",
      "source": [
        "for i in categorical:\n",
        "  print(i)\n",
        "  print(100*X_pred[i].value_counts()/X_pred.shape[0])\n",
        "  print()"
      ],
      "metadata": {
        "colab": {
          "base_uri": "https://localhost:8080/"
        },
        "id": "lVuPmA4iSQEA",
        "outputId": "207e5042-3b49-4bdc-e77d-01ff00703896"
      },
      "execution_count": null,
      "outputs": [
        {
          "output_type": "stream",
          "name": "stdout",
          "text": [
            "origin\n",
            "MADRID         49.3175\n",
            "BARCELONA      12.5625\n",
            "VALENCIA        9.9250\n",
            "SEVILLA         9.8150\n",
            "CORDOBA         2.9275\n",
            "ZARAGOZA        2.8225\n",
            "PONFERRADA      2.2875\n",
            "VALLADOLID      2.2600\n",
            "ALBACETE        1.1050\n",
            "TARRAGONA       1.0775\n",
            "MALAGA          1.0625\n",
            "LLEIDA          0.8225\n",
            "GIRONA          0.7725\n",
            "LEON            0.7250\n",
            "ALICANTE        0.6225\n",
            "CASTELLON       0.5325\n",
            "GRANADA         0.3525\n",
            "CÓRDOBA         0.2550\n",
            "SEGOVIA         0.1400\n",
            "LEÓN            0.0950\n",
            "PALENCIA        0.0900\n",
            "CIUDAD REAL     0.0825\n",
            "MÁLAGA          0.0800\n",
            "CUENCA          0.0725\n",
            "GUADALAJARA     0.0575\n",
            "TOLEDO          0.0450\n",
            "CADIZ           0.0325\n",
            "ZAMORA          0.0225\n",
            "HUESCA          0.0200\n",
            "CASTELLO        0.0175\n",
            "Name: origin, dtype: float64\n",
            "\n",
            "destination\n",
            "MADRID         49.6750\n",
            "BARCELONA      13.1475\n",
            "VALENCIA       10.0825\n",
            "SEVILLA         9.7275\n",
            "CORDOBA         2.9300\n",
            "ZARAGOZA        2.7225\n",
            "VALLADOLID      2.1350\n",
            "PONFERRADA      1.5925\n",
            "MALAGA          1.1625\n",
            "ALBACETE        1.1475\n",
            "TARRAGONA       1.0950\n",
            "ALICANTE        0.8225\n",
            "LLEIDA          0.6975\n",
            "GIRONA          0.6500\n",
            "LEON            0.4850\n",
            "CASTELLON       0.4850\n",
            "GRANADA         0.3675\n",
            "CÓRDOBA         0.2150\n",
            "SEGOVIA         0.1325\n",
            "MÁLAGA          0.0975\n",
            "CIUDAD REAL     0.0975\n",
            "PALENCIA        0.0900\n",
            "LEÓN            0.0900\n",
            "CUENCA          0.0825\n",
            "TOLEDO          0.0725\n",
            "GUADALAJARA     0.0600\n",
            "CADIZ           0.0550\n",
            "CASTELLO        0.0525\n",
            "ZAMORA          0.0175\n",
            "HUESCA          0.0125\n",
            "Name: destination, dtype: float64\n",
            "\n",
            "vehicle_type\n",
            "AVE          66.7925\n",
            "ALVIA         6.5475\n",
            "REGIONAL      3.6375\n",
            "INTERCITY     3.1700\n",
            "AV City       2.4375\n",
            "MD            2.3050\n",
            "AVANT         2.1500\n",
            "AVE-LD        1.8825\n",
            "MD-LD         1.6700\n",
            "AVE-TGV       1.1675\n",
            "LD-AVE        1.0125\n",
            "TRENHOTEL     0.9375\n",
            "LD            0.8750\n",
            "AVE-MD        0.8275\n",
            "MD-AVE        0.8000\n",
            "REG.EXP.      0.7725\n",
            "LD-MD         0.5925\n",
            "R. EXPRES     0.5650\n",
            "ALTARIA       0.3800\n",
            "AVANT-AVE     0.3525\n",
            "Intercity     0.3250\n",
            "AVLO          0.2675\n",
            "EUROMED       0.1875\n",
            "AVE-AVANT     0.1400\n",
            "LD-AVANT      0.0550\n",
            "TORRE ORO     0.0550\n",
            "MD-AVANT      0.0300\n",
            "AVANT-MD      0.0225\n",
            "AVANT-LD      0.0225\n",
            "AVE-AVE       0.0200\n",
            "Name: vehicle_type, dtype: float64\n",
            "\n",
            "vehicle_class\n",
            "Turista                   78.1950\n",
            "Turista con enlace         8.8325\n",
            "Preferente                 7.1050\n",
            "Turista Plus               5.4375\n",
            "TuristaSólo plaza H        0.3200\n",
            "Cama Turista               0.0550\n",
            "PreferenteSólo plaza H     0.0350\n",
            "Turista Plus - Turista     0.0075\n",
            "Cama G. Clase              0.0075\n",
            "Turista - Turista Plus     0.0050\n",
            "Name: vehicle_class, dtype: float64\n",
            "\n",
            "fare\n",
            "Promo                      53.3600\n",
            "Flexible                   28.2525\n",
            "Adulto ida                  8.8875\n",
            "Promo +                     8.3650\n",
            "YOVOY                       0.8400\n",
            "Básica                      0.2675\n",
            "COD.PROMOCIONAL             0.0200\n",
            "Individual-Flexible         0.0050\n",
            "Doble Familiar-Flexible     0.0025\n",
            "Name: fare, dtype: float64\n",
            "\n",
            "weekday_departure\n",
            "Thursday     15.4200\n",
            "Tuesday      15.3475\n",
            "Monday       15.1475\n",
            "Friday       15.0725\n",
            "Wednesday    15.0175\n",
            "Sunday       13.0825\n",
            "Saturday     10.9125\n",
            "Name: weekday_departure, dtype: float64\n",
            "\n",
            "weekday_insert_date\n",
            "Saturday     15.9400\n",
            "Friday       15.1225\n",
            "Thursday     14.7250\n",
            "Wednesday    14.3775\n",
            "Tuesday      13.6150\n",
            "Sunday       13.3700\n",
            "Monday       12.8500\n",
            "Name: weekday_insert_date, dtype: float64\n",
            "\n",
            "train_line\n",
            "MADRID-BARCELONA      24.7025\n",
            "MADRID-VALENCIA       19.6350\n",
            "MADRID-SEVILLA        19.5425\n",
            "MADRID-CORDOBA         5.8575\n",
            "MADRID-ZARAGOZA        4.9100\n",
            "MADRID-VALLADOLID      4.3950\n",
            "MADRID-PONFERRADA      3.8800\n",
            "MADRID-ALBACETE        2.2525\n",
            "MADRID-MALAGA          2.2250\n",
            "MADRID-TARRAGONA       2.1725\n",
            "MADRID-LLEIDA          1.5200\n",
            "MADRID-ALICANTE        1.4450\n",
            "MADRID-GIRONA          1.4225\n",
            "MADRID-LEON            1.2100\n",
            "MADRID-CASTELLON       1.0175\n",
            "MADRID-GRANADA         0.7200\n",
            "BARCELONA-ZARAGOZA     0.6350\n",
            "MADRID-CÓRDOBA         0.4700\n",
            "BARCELONA-VALENCIA     0.3725\n",
            "MADRID-SEGOVIA         0.2725\n",
            "MADRID-LEÓN            0.1850\n",
            "MADRID-CIUDAD REAL     0.1800\n",
            "MADRID-PALENCIA        0.1800\n",
            "MADRID-MÁLAGA          0.1775\n",
            "MADRID-CUENCA          0.1550\n",
            "MADRID-GUADALAJARA     0.1175\n",
            "MADRID-TOLEDO          0.1175\n",
            "MADRID-CADIZ           0.0875\n",
            "MADRID-CASTELLO        0.0700\n",
            "MADRID-ZAMORA          0.0400\n",
            "MADRID-HUESCA          0.0325\n",
            "Name: train_line, dtype: float64\n",
            "\n"
          ]
        }
      ]
    },
    {
      "cell_type": "code",
      "source": [
        "#Definimos como residual todo valor con una frecuencia por debajo del 5%\n",
        "min_weight = 0.05\n",
        "\n",
        "for i in categorical:\n",
        "  count = X_pred[i].value_counts() / X_pred.shape[0]\n",
        "  most_frequent = count[count>0.05].index.to_list()\n",
        "  X_pred[i] = X_pred[i].apply(lambda x: x if x in most_frequent else 'OTRO')"
      ],
      "metadata": {
        "id": "kRBznl1rSQAe"
      },
      "execution_count": null,
      "outputs": []
    },
    {
      "cell_type": "code",
      "source": [
        "for i in categorical:\n",
        "  print(i)\n",
        "  print(100*X_pred[i].value_counts()/X_pred.shape[0])\n",
        "  print()"
      ],
      "metadata": {
        "colab": {
          "base_uri": "https://localhost:8080/"
        },
        "id": "7wr2mWXCSP9d",
        "outputId": "93fb0ea5-325e-4637-f25a-5a480cf01e4b"
      },
      "execution_count": null,
      "outputs": [
        {
          "output_type": "stream",
          "name": "stdout",
          "text": [
            "origin\n",
            "MADRID       49.3175\n",
            "OTRO         18.3800\n",
            "BARCELONA    12.5625\n",
            "VALENCIA      9.9250\n",
            "SEVILLA       9.8150\n",
            "Name: origin, dtype: float64\n",
            "\n",
            "destination\n",
            "MADRID       49.6750\n",
            "OTRO         17.3675\n",
            "BARCELONA    13.1475\n",
            "VALENCIA     10.0825\n",
            "SEVILLA       9.7275\n",
            "Name: destination, dtype: float64\n",
            "\n",
            "vehicle_type\n",
            "AVE      66.7925\n",
            "OTRO     26.6600\n",
            "ALVIA     6.5475\n",
            "Name: vehicle_type, dtype: float64\n",
            "\n",
            "vehicle_class\n",
            "Turista               78.1950\n",
            "Turista con enlace     8.8325\n",
            "Preferente             7.1050\n",
            "Turista Plus           5.4375\n",
            "OTRO                   0.4300\n",
            "Name: vehicle_class, dtype: float64\n",
            "\n",
            "fare\n",
            "Promo         53.3600\n",
            "Flexible      28.2525\n",
            "Adulto ida     8.8875\n",
            "Promo +        8.3650\n",
            "OTRO           1.1350\n",
            "Name: fare, dtype: float64\n",
            "\n",
            "weekday_departure\n",
            "Thursday     15.4200\n",
            "Tuesday      15.3475\n",
            "Monday       15.1475\n",
            "Friday       15.0725\n",
            "Wednesday    15.0175\n",
            "Sunday       13.0825\n",
            "Saturday     10.9125\n",
            "Name: weekday_departure, dtype: float64\n",
            "\n",
            "weekday_insert_date\n",
            "Saturday     15.9400\n",
            "Friday       15.1225\n",
            "Thursday     14.7250\n",
            "Wednesday    14.3775\n",
            "Tuesday      13.6150\n",
            "Sunday       13.3700\n",
            "Monday       12.8500\n",
            "Name: weekday_insert_date, dtype: float64\n",
            "\n",
            "train_line\n",
            "OTRO                30.2625\n",
            "MADRID-BARCELONA    24.7025\n",
            "MADRID-VALENCIA     19.6350\n",
            "MADRID-SEVILLA      19.5425\n",
            "MADRID-CORDOBA       5.8575\n",
            "Name: train_line, dtype: float64\n",
            "\n"
          ]
        }
      ]
    },
    {
      "cell_type": "code",
      "source": [
        "# one hot coding"
      ],
      "metadata": {
        "id": "yuOBZauZSP6s"
      },
      "execution_count": null,
      "outputs": []
    },
    {
      "cell_type": "code",
      "source": [
        "X_pred = pd.get_dummies(data=X_pred,\n",
        "                               prefix=None, \n",
        "                               prefix_sep=\"_\",\n",
        "                               columns=categorical,\n",
        "                               dtype=\"int8\")"
      ],
      "metadata": {
        "id": "1Opav9Z0SP3d"
      },
      "execution_count": null,
      "outputs": []
    },
    {
      "cell_type": "code",
      "source": [],
      "metadata": {
        "id": "X9E_61sINS6p"
      },
      "execution_count": null,
      "outputs": []
    },
    {
      "cell_type": "code",
      "source": [
        "X_pred.isnull().sum()"
      ],
      "metadata": {
        "colab": {
          "base_uri": "https://localhost:8080/"
        },
        "id": "DegX3RwCB2-j",
        "outputId": "1e6d0bf5-59da-4cf7-cc28-f5e1fa939bb8"
      },
      "execution_count": null,
      "outputs": [
        {
          "output_type": "execute_result",
          "data": {
            "text/plain": [
              "departure                           0\n",
              "arrival                             0\n",
              "duration                            0\n",
              "insert_date                         0\n",
              "weekday_n_departure                 0\n",
              "month_departure                     0\n",
              "hour_departure                      0\n",
              "weekday_n_insert_date               0\n",
              "month_insert_date                   0\n",
              "hour_insert_date                    0\n",
              "days_before_trip                    0\n",
              "ind_weekend                         0\n",
              "ind_holidays                        0\n",
              "origin_BARCELONA                    0\n",
              "origin_MADRID                       0\n",
              "origin_OTRO                         0\n",
              "origin_SEVILLA                      0\n",
              "origin_VALENCIA                     0\n",
              "destination_BARCELONA               0\n",
              "destination_MADRID                  0\n",
              "destination_OTRO                    0\n",
              "destination_SEVILLA                 0\n",
              "destination_VALENCIA                0\n",
              "vehicle_type_ALVIA                  0\n",
              "vehicle_type_AVE                    0\n",
              "vehicle_type_OTRO                   0\n",
              "vehicle_class_OTRO                  0\n",
              "vehicle_class_Preferente            0\n",
              "vehicle_class_Turista               0\n",
              "vehicle_class_Turista Plus          0\n",
              "vehicle_class_Turista con enlace    0\n",
              "fare_Adulto ida                     0\n",
              "fare_Flexible                       0\n",
              "fare_OTRO                           0\n",
              "fare_Promo                          0\n",
              "fare_Promo +                        0\n",
              "weekday_departure_Friday            0\n",
              "weekday_departure_Monday            0\n",
              "weekday_departure_Saturday          0\n",
              "weekday_departure_Sunday            0\n",
              "weekday_departure_Thursday          0\n",
              "weekday_departure_Tuesday           0\n",
              "weekday_departure_Wednesday         0\n",
              "weekday_insert_date_Friday          0\n",
              "weekday_insert_date_Monday          0\n",
              "weekday_insert_date_Saturday        0\n",
              "weekday_insert_date_Sunday          0\n",
              "weekday_insert_date_Thursday        0\n",
              "weekday_insert_date_Tuesday         0\n",
              "weekday_insert_date_Wednesday       0\n",
              "train_line_MADRID-BARCELONA         0\n",
              "train_line_MADRID-CORDOBA           0\n",
              "train_line_MADRID-SEVILLA           0\n",
              "train_line_MADRID-VALENCIA          0\n",
              "train_line_OTRO                     0\n",
              "dtype: int64"
            ]
          },
          "metadata": {},
          "execution_count": 314
        }
      ]
    },
    {
      "cell_type": "code",
      "source": [
        "X_pred.drop(columns=[\"departure\", \"arrival\", \"insert_date\"], inplace=True)"
      ],
      "metadata": {
        "id": "NT_imEKrB27Z"
      },
      "execution_count": null,
      "outputs": []
    },
    {
      "cell_type": "code",
      "source": [
        "X_pred.columns"
      ],
      "metadata": {
        "colab": {
          "base_uri": "https://localhost:8080/"
        },
        "id": "IHRVoryVQCAp",
        "outputId": "e1995e6b-4e86-4252-f80b-ec2cbb1f5d56"
      },
      "execution_count": null,
      "outputs": [
        {
          "output_type": "execute_result",
          "data": {
            "text/plain": [
              "Index(['duration', 'weekday_n_departure', 'month_departure', 'hour_departure',\n",
              "       'weekday_n_insert_date', 'month_insert_date', 'hour_insert_date',\n",
              "       'days_before_trip', 'ind_weekend', 'ind_holidays', 'origin_BARCELONA',\n",
              "       'origin_MADRID', 'origin_OTRO', 'origin_SEVILLA', 'origin_VALENCIA',\n",
              "       'destination_BARCELONA', 'destination_MADRID', 'destination_OTRO',\n",
              "       'destination_SEVILLA', 'destination_VALENCIA', 'vehicle_type_ALVIA',\n",
              "       'vehicle_type_AVE', 'vehicle_type_OTRO', 'vehicle_class_OTRO',\n",
              "       'vehicle_class_Preferente', 'vehicle_class_Turista',\n",
              "       'vehicle_class_Turista Plus', 'vehicle_class_Turista con enlace',\n",
              "       'fare_Adulto ida', 'fare_Flexible', 'fare_OTRO', 'fare_Promo',\n",
              "       'fare_Promo +', 'weekday_departure_Friday', 'weekday_departure_Monday',\n",
              "       'weekday_departure_Saturday', 'weekday_departure_Sunday',\n",
              "       'weekday_departure_Thursday', 'weekday_departure_Tuesday',\n",
              "       'weekday_departure_Wednesday', 'weekday_insert_date_Friday',\n",
              "       'weekday_insert_date_Monday', 'weekday_insert_date_Saturday',\n",
              "       'weekday_insert_date_Sunday', 'weekday_insert_date_Thursday',\n",
              "       'weekday_insert_date_Tuesday', 'weekday_insert_date_Wednesday',\n",
              "       'train_line_MADRID-BARCELONA', 'train_line_MADRID-CORDOBA',\n",
              "       'train_line_MADRID-SEVILLA', 'train_line_MADRID-VALENCIA',\n",
              "       'train_line_OTRO'],\n",
              "      dtype='object')"
            ]
          },
          "metadata": {},
          "execution_count": 316
        }
      ]
    },
    {
      "cell_type": "code",
      "source": [
        "X_pred.info()"
      ],
      "metadata": {
        "colab": {
          "base_uri": "https://localhost:8080/"
        },
        "id": "7OWHuEsVQB9H",
        "outputId": "114530ef-0dc7-453a-85cf-96eacd68a969"
      },
      "execution_count": null,
      "outputs": [
        {
          "output_type": "stream",
          "name": "stdout",
          "text": [
            "<class 'pandas.core.frame.DataFrame'>\n",
            "Int64Index: 40000 entries, 0 to 39999\n",
            "Data columns (total 52 columns):\n",
            " #   Column                            Non-Null Count  Dtype  \n",
            "---  ------                            --------------  -----  \n",
            " 0   duration                          40000 non-null  float64\n",
            " 1   weekday_n_departure               40000 non-null  int64  \n",
            " 2   month_departure                   40000 non-null  int64  \n",
            " 3   hour_departure                    40000 non-null  int64  \n",
            " 4   weekday_n_insert_date             40000 non-null  int64  \n",
            " 5   month_insert_date                 40000 non-null  int64  \n",
            " 6   hour_insert_date                  40000 non-null  int64  \n",
            " 7   days_before_trip                  40000 non-null  int64  \n",
            " 8   ind_weekend                       40000 non-null  int8   \n",
            " 9   ind_holidays                      40000 non-null  int8   \n",
            " 10  origin_BARCELONA                  40000 non-null  int8   \n",
            " 11  origin_MADRID                     40000 non-null  int8   \n",
            " 12  origin_OTRO                       40000 non-null  int8   \n",
            " 13  origin_SEVILLA                    40000 non-null  int8   \n",
            " 14  origin_VALENCIA                   40000 non-null  int8   \n",
            " 15  destination_BARCELONA             40000 non-null  int8   \n",
            " 16  destination_MADRID                40000 non-null  int8   \n",
            " 17  destination_OTRO                  40000 non-null  int8   \n",
            " 18  destination_SEVILLA               40000 non-null  int8   \n",
            " 19  destination_VALENCIA              40000 non-null  int8   \n",
            " 20  vehicle_type_ALVIA                40000 non-null  int8   \n",
            " 21  vehicle_type_AVE                  40000 non-null  int8   \n",
            " 22  vehicle_type_OTRO                 40000 non-null  int8   \n",
            " 23  vehicle_class_OTRO                40000 non-null  int8   \n",
            " 24  vehicle_class_Preferente          40000 non-null  int8   \n",
            " 25  vehicle_class_Turista             40000 non-null  int8   \n",
            " 26  vehicle_class_Turista Plus        40000 non-null  int8   \n",
            " 27  vehicle_class_Turista con enlace  40000 non-null  int8   \n",
            " 28  fare_Adulto ida                   40000 non-null  int8   \n",
            " 29  fare_Flexible                     40000 non-null  int8   \n",
            " 30  fare_OTRO                         40000 non-null  int8   \n",
            " 31  fare_Promo                        40000 non-null  int8   \n",
            " 32  fare_Promo +                      40000 non-null  int8   \n",
            " 33  weekday_departure_Friday          40000 non-null  int8   \n",
            " 34  weekday_departure_Monday          40000 non-null  int8   \n",
            " 35  weekday_departure_Saturday        40000 non-null  int8   \n",
            " 36  weekday_departure_Sunday          40000 non-null  int8   \n",
            " 37  weekday_departure_Thursday        40000 non-null  int8   \n",
            " 38  weekday_departure_Tuesday         40000 non-null  int8   \n",
            " 39  weekday_departure_Wednesday       40000 non-null  int8   \n",
            " 40  weekday_insert_date_Friday        40000 non-null  int8   \n",
            " 41  weekday_insert_date_Monday        40000 non-null  int8   \n",
            " 42  weekday_insert_date_Saturday      40000 non-null  int8   \n",
            " 43  weekday_insert_date_Sunday        40000 non-null  int8   \n",
            " 44  weekday_insert_date_Thursday      40000 non-null  int8   \n",
            " 45  weekday_insert_date_Tuesday       40000 non-null  int8   \n",
            " 46  weekday_insert_date_Wednesday     40000 non-null  int8   \n",
            " 47  train_line_MADRID-BARCELONA       40000 non-null  int8   \n",
            " 48  train_line_MADRID-CORDOBA         40000 non-null  int8   \n",
            " 49  train_line_MADRID-SEVILLA         40000 non-null  int8   \n",
            " 50  train_line_MADRID-VALENCIA        40000 non-null  int8   \n",
            " 51  train_line_OTRO                   40000 non-null  int8   \n",
            "dtypes: float64(1), int64(7), int8(44)\n",
            "memory usage: 4.4 MB\n"
          ]
        }
      ]
    },
    {
      "cell_type": "code",
      "source": [
        "# variables entre si altamente correlaconados, no hay ninguna"
      ],
      "metadata": {
        "id": "sbU8lr_2QB5b"
      },
      "execution_count": null,
      "outputs": []
    },
    {
      "cell_type": "code",
      "source": [
        "highly_corr = highly_correlated(X, y, 0.95)\n",
        "highly_corr"
      ],
      "metadata": {
        "colab": {
          "base_uri": "https://localhost:8080/",
          "height": 49
        },
        "id": "qixHTVItQB2g",
        "outputId": "e94dca1e-111d-4e6c-fafc-2f9a94de7aaf"
      },
      "execution_count": null,
      "outputs": [
        {
          "output_type": "execute_result",
          "data": {
            "text/plain": [
              "Empty DataFrame\n",
              "Columns: [F1, F2, corr_F1_F2, corr_F1_target, corr_F2_target, F_to_delete]\n",
              "Index: []"
            ],
            "text/html": [
              "\n",
              "  <div id=\"df-a149bcc3-90be-4c04-92c8-f8e29fd5f168\">\n",
              "    <div class=\"colab-df-container\">\n",
              "      <div>\n",
              "<style scoped>\n",
              "    .dataframe tbody tr th:only-of-type {\n",
              "        vertical-align: middle;\n",
              "    }\n",
              "\n",
              "    .dataframe tbody tr th {\n",
              "        vertical-align: top;\n",
              "    }\n",
              "\n",
              "    .dataframe thead th {\n",
              "        text-align: right;\n",
              "    }\n",
              "</style>\n",
              "<table border=\"1\" class=\"dataframe\">\n",
              "  <thead>\n",
              "    <tr style=\"text-align: right;\">\n",
              "      <th></th>\n",
              "      <th>F1</th>\n",
              "      <th>F2</th>\n",
              "      <th>corr_F1_F2</th>\n",
              "      <th>corr_F1_target</th>\n",
              "      <th>corr_F2_target</th>\n",
              "      <th>F_to_delete</th>\n",
              "    </tr>\n",
              "  </thead>\n",
              "  <tbody>\n",
              "  </tbody>\n",
              "</table>\n",
              "</div>\n",
              "      <button class=\"colab-df-convert\" onclick=\"convertToInteractive('df-a149bcc3-90be-4c04-92c8-f8e29fd5f168')\"\n",
              "              title=\"Convert this dataframe to an interactive table.\"\n",
              "              style=\"display:none;\">\n",
              "        \n",
              "  <svg xmlns=\"http://www.w3.org/2000/svg\" height=\"24px\"viewBox=\"0 0 24 24\"\n",
              "       width=\"24px\">\n",
              "    <path d=\"M0 0h24v24H0V0z\" fill=\"none\"/>\n",
              "    <path d=\"M18.56 5.44l.94 2.06.94-2.06 2.06-.94-2.06-.94-.94-2.06-.94 2.06-2.06.94zm-11 1L8.5 8.5l.94-2.06 2.06-.94-2.06-.94L8.5 2.5l-.94 2.06-2.06.94zm10 10l.94 2.06.94-2.06 2.06-.94-2.06-.94-.94-2.06-.94 2.06-2.06.94z\"/><path d=\"M17.41 7.96l-1.37-1.37c-.4-.4-.92-.59-1.43-.59-.52 0-1.04.2-1.43.59L10.3 9.45l-7.72 7.72c-.78.78-.78 2.05 0 2.83L4 21.41c.39.39.9.59 1.41.59.51 0 1.02-.2 1.41-.59l7.78-7.78 2.81-2.81c.8-.78.8-2.07 0-2.86zM5.41 20L4 18.59l7.72-7.72 1.47 1.35L5.41 20z\"/>\n",
              "  </svg>\n",
              "      </button>\n",
              "      \n",
              "  <style>\n",
              "    .colab-df-container {\n",
              "      display:flex;\n",
              "      flex-wrap:wrap;\n",
              "      gap: 12px;\n",
              "    }\n",
              "\n",
              "    .colab-df-convert {\n",
              "      background-color: #E8F0FE;\n",
              "      border: none;\n",
              "      border-radius: 50%;\n",
              "      cursor: pointer;\n",
              "      display: none;\n",
              "      fill: #1967D2;\n",
              "      height: 32px;\n",
              "      padding: 0 0 0 0;\n",
              "      width: 32px;\n",
              "    }\n",
              "\n",
              "    .colab-df-convert:hover {\n",
              "      background-color: #E2EBFA;\n",
              "      box-shadow: 0px 1px 2px rgba(60, 64, 67, 0.3), 0px 1px 3px 1px rgba(60, 64, 67, 0.15);\n",
              "      fill: #174EA6;\n",
              "    }\n",
              "\n",
              "    [theme=dark] .colab-df-convert {\n",
              "      background-color: #3B4455;\n",
              "      fill: #D2E3FC;\n",
              "    }\n",
              "\n",
              "    [theme=dark] .colab-df-convert:hover {\n",
              "      background-color: #434B5C;\n",
              "      box-shadow: 0px 1px 3px 1px rgba(0, 0, 0, 0.15);\n",
              "      filter: drop-shadow(0px 1px 2px rgba(0, 0, 0, 0.3));\n",
              "      fill: #FFFFFF;\n",
              "    }\n",
              "  </style>\n",
              "\n",
              "      <script>\n",
              "        const buttonEl =\n",
              "          document.querySelector('#df-a149bcc3-90be-4c04-92c8-f8e29fd5f168 button.colab-df-convert');\n",
              "        buttonEl.style.display =\n",
              "          google.colab.kernel.accessAllowed ? 'block' : 'none';\n",
              "\n",
              "        async function convertToInteractive(key) {\n",
              "          const element = document.querySelector('#df-a149bcc3-90be-4c04-92c8-f8e29fd5f168');\n",
              "          const dataTable =\n",
              "            await google.colab.kernel.invokeFunction('convertToInteractive',\n",
              "                                                     [key], {});\n",
              "          if (!dataTable) return;\n",
              "\n",
              "          const docLinkHtml = 'Like what you see? Visit the ' +\n",
              "            '<a target=\"_blank\" href=https://colab.research.google.com/notebooks/data_table.ipynb>data table notebook</a>'\n",
              "            + ' to learn more about interactive tables.';\n",
              "          element.innerHTML = '';\n",
              "          dataTable['output_type'] = 'display_data';\n",
              "          await google.colab.output.renderOutput(dataTable, element);\n",
              "          const docLink = document.createElement('div');\n",
              "          docLink.innerHTML = docLinkHtml;\n",
              "          element.appendChild(docLink);\n",
              "        }\n",
              "      </script>\n",
              "    </div>\n",
              "  </div>\n",
              "  "
            ]
          },
          "metadata": {},
          "execution_count": 319
        }
      ]
    },
    {
      "cell_type": "code",
      "source": [],
      "metadata": {
        "id": "cRm0aJr7YX2A"
      },
      "execution_count": null,
      "outputs": []
    },
    {
      "cell_type": "code",
      "source": [
        "from sklearn.feature_selection import VarianceThreshold"
      ],
      "metadata": {
        "id": "Ljs2pLgbYXyV"
      },
      "execution_count": null,
      "outputs": []
    },
    {
      "cell_type": "code",
      "source": [
        "vt = VarianceThreshold(threshold = 0.01) #Eliminamos columnas donde el 99% de los valores son iguales\n",
        "vt.fit(X_pred)\n",
        "\n",
        "cols_lowvar = X_pred.columns[vt.get_support()==False]\n",
        "X_pred.drop(columns=cols_lowvar,inplace=True)\n",
        "\n",
        "print(len(cols_lowvar),' low variance features were removed:\\n', cols_lowvar)"
      ],
      "metadata": {
        "colab": {
          "base_uri": "https://localhost:8080/"
        },
        "id": "4capKUQGYXuz",
        "outputId": "d27f130f-0f3e-42f8-9728-5d73b0f2b97c"
      },
      "execution_count": null,
      "outputs": [
        {
          "output_type": "stream",
          "name": "stdout",
          "text": [
            "1  low variance features were removed:\n",
            " Index(['vehicle_class_OTRO'], dtype='object')\n"
          ]
        }
      ]
    },
    {
      "cell_type": "code",
      "source": [
        "# predicciones"
      ],
      "metadata": {
        "id": "v_YJWKfbYXid"
      },
      "execution_count": null,
      "outputs": []
    },
    {
      "cell_type": "code",
      "source": [
        "predictions = model_XGBReg.predict(X_pred)"
      ],
      "metadata": {
        "id": "n6GSRIZGXrA-"
      },
      "execution_count": null,
      "outputs": []
    },
    {
      "cell_type": "code",
      "source": [
        "df_output2 = X_pred.copy(deep=True)\n",
        "df_output2['PREDICTION Price'] = predictions\n",
        "df_output2"
      ],
      "metadata": {
        "colab": {
          "base_uri": "https://localhost:8080/",
          "height": 505
        },
        "id": "VxL55NoBQBzh",
        "outputId": "ea02f675-5eff-4bb1-96b5-05cba4573bca"
      },
      "execution_count": null,
      "outputs": [
        {
          "output_type": "execute_result",
          "data": {
            "text/plain": [
              "       duration  weekday_n_departure  month_departure  hour_departure  \\\n",
              "0          1.73                    2                4               8   \n",
              "1          2.65                    4                7              16   \n",
              "2          2.42                    2                9              10   \n",
              "3          2.50                    4                5               6   \n",
              "4          5.82                    3                4               6   \n",
              "...         ...                  ...              ...             ...   \n",
              "39995      2.53                    1                5              14   \n",
              "39996      2.55                    6                8              17   \n",
              "39997      2.50                    1                7              13   \n",
              "39998      2.72                    4                8              12   \n",
              "39999      2.50                    0                3              20   \n",
              "\n",
              "       weekday_n_insert_date  month_insert_date  hour_insert_date  \\\n",
              "0                          6                  3                 3   \n",
              "1                          2                  5                 9   \n",
              "2                          2                  8                19   \n",
              "3                          3                  5                15   \n",
              "4                          0                  2                12   \n",
              "...                      ...                ...               ...   \n",
              "39995                      4                  4                 3   \n",
              "39996                      0                  7                22   \n",
              "39997                      3                  5                 9   \n",
              "39998                      5                  6                15   \n",
              "39999                      3                  1                17   \n",
              "\n",
              "       days_before_trip  ind_weekend  ind_holidays  ...  \\\n",
              "0                    24            0             0  ...   \n",
              "1                    37            0             0  ...   \n",
              "2                    13            0             0  ...   \n",
              "3                     0            0             0  ...   \n",
              "4                    51            0             0  ...   \n",
              "...                 ...          ...           ...  ...   \n",
              "39995                25            0             0  ...   \n",
              "39996                47            1             0  ...   \n",
              "39997                47            0             0  ...   \n",
              "39998                54            0             0  ...   \n",
              "39999                32            0             0  ...   \n",
              "\n",
              "       weekday_insert_date_Sunday  weekday_insert_date_Thursday  \\\n",
              "0                               1                             0   \n",
              "1                               0                             0   \n",
              "2                               0                             0   \n",
              "3                               0                             1   \n",
              "4                               0                             0   \n",
              "...                           ...                           ...   \n",
              "39995                           0                             0   \n",
              "39996                           0                             0   \n",
              "39997                           0                             1   \n",
              "39998                           0                             0   \n",
              "39999                           0                             1   \n",
              "\n",
              "       weekday_insert_date_Tuesday  weekday_insert_date_Wednesday  \\\n",
              "0                                0                              0   \n",
              "1                                0                              1   \n",
              "2                                0                              1   \n",
              "3                                0                              0   \n",
              "4                                0                              0   \n",
              "...                            ...                            ...   \n",
              "39995                            0                              0   \n",
              "39996                            0                              0   \n",
              "39997                            0                              0   \n",
              "39998                            0                              0   \n",
              "39999                            0                              0   \n",
              "\n",
              "       train_line_MADRID-BARCELONA  train_line_MADRID-CORDOBA  \\\n",
              "0                                0                          1   \n",
              "1                                0                          0   \n",
              "2                                0                          0   \n",
              "3                                1                          0   \n",
              "4                                0                          0   \n",
              "...                            ...                        ...   \n",
              "39995                            0                          0   \n",
              "39996                            0                          0   \n",
              "39997                            0                          0   \n",
              "39998                            0                          0   \n",
              "39999                            1                          0   \n",
              "\n",
              "       train_line_MADRID-SEVILLA  train_line_MADRID-VALENCIA  train_line_OTRO  \\\n",
              "0                              0                           0                0   \n",
              "1                              1                           0                0   \n",
              "2                              0                           1                0   \n",
              "3                              0                           0                0   \n",
              "4                              0                           0                1   \n",
              "...                          ...                         ...              ...   \n",
              "39995                          1                           0                0   \n",
              "39996                          0                           0                1   \n",
              "39997                          1                           0                0   \n",
              "39998                          1                           0                0   \n",
              "39999                          0                           0                0   \n",
              "\n",
              "       PREDICTION Price  \n",
              "0             63.132103  \n",
              "1             51.808384  \n",
              "2             34.022907  \n",
              "3             86.864960  \n",
              "4             60.406658  \n",
              "...                 ...  \n",
              "39995         49.542583  \n",
              "39996         80.120613  \n",
              "39997         46.921906  \n",
              "39998         43.171589  \n",
              "39999         71.421402  \n",
              "\n",
              "[40000 rows x 52 columns]"
            ],
            "text/html": [
              "\n",
              "  <div id=\"df-251402bc-7153-4ca0-9a30-4f93bb4eaacf\">\n",
              "    <div class=\"colab-df-container\">\n",
              "      <div>\n",
              "<style scoped>\n",
              "    .dataframe tbody tr th:only-of-type {\n",
              "        vertical-align: middle;\n",
              "    }\n",
              "\n",
              "    .dataframe tbody tr th {\n",
              "        vertical-align: top;\n",
              "    }\n",
              "\n",
              "    .dataframe thead th {\n",
              "        text-align: right;\n",
              "    }\n",
              "</style>\n",
              "<table border=\"1\" class=\"dataframe\">\n",
              "  <thead>\n",
              "    <tr style=\"text-align: right;\">\n",
              "      <th></th>\n",
              "      <th>duration</th>\n",
              "      <th>weekday_n_departure</th>\n",
              "      <th>month_departure</th>\n",
              "      <th>hour_departure</th>\n",
              "      <th>weekday_n_insert_date</th>\n",
              "      <th>month_insert_date</th>\n",
              "      <th>hour_insert_date</th>\n",
              "      <th>days_before_trip</th>\n",
              "      <th>ind_weekend</th>\n",
              "      <th>ind_holidays</th>\n",
              "      <th>...</th>\n",
              "      <th>weekday_insert_date_Sunday</th>\n",
              "      <th>weekday_insert_date_Thursday</th>\n",
              "      <th>weekday_insert_date_Tuesday</th>\n",
              "      <th>weekday_insert_date_Wednesday</th>\n",
              "      <th>train_line_MADRID-BARCELONA</th>\n",
              "      <th>train_line_MADRID-CORDOBA</th>\n",
              "      <th>train_line_MADRID-SEVILLA</th>\n",
              "      <th>train_line_MADRID-VALENCIA</th>\n",
              "      <th>train_line_OTRO</th>\n",
              "      <th>PREDICTION Price</th>\n",
              "    </tr>\n",
              "  </thead>\n",
              "  <tbody>\n",
              "    <tr>\n",
              "      <th>0</th>\n",
              "      <td>1.73</td>\n",
              "      <td>2</td>\n",
              "      <td>4</td>\n",
              "      <td>8</td>\n",
              "      <td>6</td>\n",
              "      <td>3</td>\n",
              "      <td>3</td>\n",
              "      <td>24</td>\n",
              "      <td>0</td>\n",
              "      <td>0</td>\n",
              "      <td>...</td>\n",
              "      <td>1</td>\n",
              "      <td>0</td>\n",
              "      <td>0</td>\n",
              "      <td>0</td>\n",
              "      <td>0</td>\n",
              "      <td>1</td>\n",
              "      <td>0</td>\n",
              "      <td>0</td>\n",
              "      <td>0</td>\n",
              "      <td>63.132103</td>\n",
              "    </tr>\n",
              "    <tr>\n",
              "      <th>1</th>\n",
              "      <td>2.65</td>\n",
              "      <td>4</td>\n",
              "      <td>7</td>\n",
              "      <td>16</td>\n",
              "      <td>2</td>\n",
              "      <td>5</td>\n",
              "      <td>9</td>\n",
              "      <td>37</td>\n",
              "      <td>0</td>\n",
              "      <td>0</td>\n",
              "      <td>...</td>\n",
              "      <td>0</td>\n",
              "      <td>0</td>\n",
              "      <td>0</td>\n",
              "      <td>1</td>\n",
              "      <td>0</td>\n",
              "      <td>0</td>\n",
              "      <td>1</td>\n",
              "      <td>0</td>\n",
              "      <td>0</td>\n",
              "      <td>51.808384</td>\n",
              "    </tr>\n",
              "    <tr>\n",
              "      <th>2</th>\n",
              "      <td>2.42</td>\n",
              "      <td>2</td>\n",
              "      <td>9</td>\n",
              "      <td>10</td>\n",
              "      <td>2</td>\n",
              "      <td>8</td>\n",
              "      <td>19</td>\n",
              "      <td>13</td>\n",
              "      <td>0</td>\n",
              "      <td>0</td>\n",
              "      <td>...</td>\n",
              "      <td>0</td>\n",
              "      <td>0</td>\n",
              "      <td>0</td>\n",
              "      <td>1</td>\n",
              "      <td>0</td>\n",
              "      <td>0</td>\n",
              "      <td>0</td>\n",
              "      <td>1</td>\n",
              "      <td>0</td>\n",
              "      <td>34.022907</td>\n",
              "    </tr>\n",
              "    <tr>\n",
              "      <th>3</th>\n",
              "      <td>2.50</td>\n",
              "      <td>4</td>\n",
              "      <td>5</td>\n",
              "      <td>6</td>\n",
              "      <td>3</td>\n",
              "      <td>5</td>\n",
              "      <td>15</td>\n",
              "      <td>0</td>\n",
              "      <td>0</td>\n",
              "      <td>0</td>\n",
              "      <td>...</td>\n",
              "      <td>0</td>\n",
              "      <td>1</td>\n",
              "      <td>0</td>\n",
              "      <td>0</td>\n",
              "      <td>1</td>\n",
              "      <td>0</td>\n",
              "      <td>0</td>\n",
              "      <td>0</td>\n",
              "      <td>0</td>\n",
              "      <td>86.864960</td>\n",
              "    </tr>\n",
              "    <tr>\n",
              "      <th>4</th>\n",
              "      <td>5.82</td>\n",
              "      <td>3</td>\n",
              "      <td>4</td>\n",
              "      <td>6</td>\n",
              "      <td>0</td>\n",
              "      <td>2</td>\n",
              "      <td>12</td>\n",
              "      <td>51</td>\n",
              "      <td>0</td>\n",
              "      <td>0</td>\n",
              "      <td>...</td>\n",
              "      <td>0</td>\n",
              "      <td>0</td>\n",
              "      <td>0</td>\n",
              "      <td>0</td>\n",
              "      <td>0</td>\n",
              "      <td>0</td>\n",
              "      <td>0</td>\n",
              "      <td>0</td>\n",
              "      <td>1</td>\n",
              "      <td>60.406658</td>\n",
              "    </tr>\n",
              "    <tr>\n",
              "      <th>...</th>\n",
              "      <td>...</td>\n",
              "      <td>...</td>\n",
              "      <td>...</td>\n",
              "      <td>...</td>\n",
              "      <td>...</td>\n",
              "      <td>...</td>\n",
              "      <td>...</td>\n",
              "      <td>...</td>\n",
              "      <td>...</td>\n",
              "      <td>...</td>\n",
              "      <td>...</td>\n",
              "      <td>...</td>\n",
              "      <td>...</td>\n",
              "      <td>...</td>\n",
              "      <td>...</td>\n",
              "      <td>...</td>\n",
              "      <td>...</td>\n",
              "      <td>...</td>\n",
              "      <td>...</td>\n",
              "      <td>...</td>\n",
              "      <td>...</td>\n",
              "    </tr>\n",
              "    <tr>\n",
              "      <th>39995</th>\n",
              "      <td>2.53</td>\n",
              "      <td>1</td>\n",
              "      <td>5</td>\n",
              "      <td>14</td>\n",
              "      <td>4</td>\n",
              "      <td>4</td>\n",
              "      <td>3</td>\n",
              "      <td>25</td>\n",
              "      <td>0</td>\n",
              "      <td>0</td>\n",
              "      <td>...</td>\n",
              "      <td>0</td>\n",
              "      <td>0</td>\n",
              "      <td>0</td>\n",
              "      <td>0</td>\n",
              "      <td>0</td>\n",
              "      <td>0</td>\n",
              "      <td>1</td>\n",
              "      <td>0</td>\n",
              "      <td>0</td>\n",
              "      <td>49.542583</td>\n",
              "    </tr>\n",
              "    <tr>\n",
              "      <th>39996</th>\n",
              "      <td>2.55</td>\n",
              "      <td>6</td>\n",
              "      <td>8</td>\n",
              "      <td>17</td>\n",
              "      <td>0</td>\n",
              "      <td>7</td>\n",
              "      <td>22</td>\n",
              "      <td>47</td>\n",
              "      <td>1</td>\n",
              "      <td>0</td>\n",
              "      <td>...</td>\n",
              "      <td>0</td>\n",
              "      <td>0</td>\n",
              "      <td>0</td>\n",
              "      <td>0</td>\n",
              "      <td>0</td>\n",
              "      <td>0</td>\n",
              "      <td>0</td>\n",
              "      <td>0</td>\n",
              "      <td>1</td>\n",
              "      <td>80.120613</td>\n",
              "    </tr>\n",
              "    <tr>\n",
              "      <th>39997</th>\n",
              "      <td>2.50</td>\n",
              "      <td>1</td>\n",
              "      <td>7</td>\n",
              "      <td>13</td>\n",
              "      <td>3</td>\n",
              "      <td>5</td>\n",
              "      <td>9</td>\n",
              "      <td>47</td>\n",
              "      <td>0</td>\n",
              "      <td>0</td>\n",
              "      <td>...</td>\n",
              "      <td>0</td>\n",
              "      <td>1</td>\n",
              "      <td>0</td>\n",
              "      <td>0</td>\n",
              "      <td>0</td>\n",
              "      <td>0</td>\n",
              "      <td>1</td>\n",
              "      <td>0</td>\n",
              "      <td>0</td>\n",
              "      <td>46.921906</td>\n",
              "    </tr>\n",
              "    <tr>\n",
              "      <th>39998</th>\n",
              "      <td>2.72</td>\n",
              "      <td>4</td>\n",
              "      <td>8</td>\n",
              "      <td>12</td>\n",
              "      <td>5</td>\n",
              "      <td>6</td>\n",
              "      <td>15</td>\n",
              "      <td>54</td>\n",
              "      <td>0</td>\n",
              "      <td>0</td>\n",
              "      <td>...</td>\n",
              "      <td>0</td>\n",
              "      <td>0</td>\n",
              "      <td>0</td>\n",
              "      <td>0</td>\n",
              "      <td>0</td>\n",
              "      <td>0</td>\n",
              "      <td>1</td>\n",
              "      <td>0</td>\n",
              "      <td>0</td>\n",
              "      <td>43.171589</td>\n",
              "    </tr>\n",
              "    <tr>\n",
              "      <th>39999</th>\n",
              "      <td>2.50</td>\n",
              "      <td>0</td>\n",
              "      <td>3</td>\n",
              "      <td>20</td>\n",
              "      <td>3</td>\n",
              "      <td>1</td>\n",
              "      <td>17</td>\n",
              "      <td>32</td>\n",
              "      <td>0</td>\n",
              "      <td>0</td>\n",
              "      <td>...</td>\n",
              "      <td>0</td>\n",
              "      <td>1</td>\n",
              "      <td>0</td>\n",
              "      <td>0</td>\n",
              "      <td>1</td>\n",
              "      <td>0</td>\n",
              "      <td>0</td>\n",
              "      <td>0</td>\n",
              "      <td>0</td>\n",
              "      <td>71.421402</td>\n",
              "    </tr>\n",
              "  </tbody>\n",
              "</table>\n",
              "<p>40000 rows × 52 columns</p>\n",
              "</div>\n",
              "      <button class=\"colab-df-convert\" onclick=\"convertToInteractive('df-251402bc-7153-4ca0-9a30-4f93bb4eaacf')\"\n",
              "              title=\"Convert this dataframe to an interactive table.\"\n",
              "              style=\"display:none;\">\n",
              "        \n",
              "  <svg xmlns=\"http://www.w3.org/2000/svg\" height=\"24px\"viewBox=\"0 0 24 24\"\n",
              "       width=\"24px\">\n",
              "    <path d=\"M0 0h24v24H0V0z\" fill=\"none\"/>\n",
              "    <path d=\"M18.56 5.44l.94 2.06.94-2.06 2.06-.94-2.06-.94-.94-2.06-.94 2.06-2.06.94zm-11 1L8.5 8.5l.94-2.06 2.06-.94-2.06-.94L8.5 2.5l-.94 2.06-2.06.94zm10 10l.94 2.06.94-2.06 2.06-.94-2.06-.94-.94-2.06-.94 2.06-2.06.94z\"/><path d=\"M17.41 7.96l-1.37-1.37c-.4-.4-.92-.59-1.43-.59-.52 0-1.04.2-1.43.59L10.3 9.45l-7.72 7.72c-.78.78-.78 2.05 0 2.83L4 21.41c.39.39.9.59 1.41.59.51 0 1.02-.2 1.41-.59l7.78-7.78 2.81-2.81c.8-.78.8-2.07 0-2.86zM5.41 20L4 18.59l7.72-7.72 1.47 1.35L5.41 20z\"/>\n",
              "  </svg>\n",
              "      </button>\n",
              "      \n",
              "  <style>\n",
              "    .colab-df-container {\n",
              "      display:flex;\n",
              "      flex-wrap:wrap;\n",
              "      gap: 12px;\n",
              "    }\n",
              "\n",
              "    .colab-df-convert {\n",
              "      background-color: #E8F0FE;\n",
              "      border: none;\n",
              "      border-radius: 50%;\n",
              "      cursor: pointer;\n",
              "      display: none;\n",
              "      fill: #1967D2;\n",
              "      height: 32px;\n",
              "      padding: 0 0 0 0;\n",
              "      width: 32px;\n",
              "    }\n",
              "\n",
              "    .colab-df-convert:hover {\n",
              "      background-color: #E2EBFA;\n",
              "      box-shadow: 0px 1px 2px rgba(60, 64, 67, 0.3), 0px 1px 3px 1px rgba(60, 64, 67, 0.15);\n",
              "      fill: #174EA6;\n",
              "    }\n",
              "\n",
              "    [theme=dark] .colab-df-convert {\n",
              "      background-color: #3B4455;\n",
              "      fill: #D2E3FC;\n",
              "    }\n",
              "\n",
              "    [theme=dark] .colab-df-convert:hover {\n",
              "      background-color: #434B5C;\n",
              "      box-shadow: 0px 1px 3px 1px rgba(0, 0, 0, 0.15);\n",
              "      filter: drop-shadow(0px 1px 2px rgba(0, 0, 0, 0.3));\n",
              "      fill: #FFFFFF;\n",
              "    }\n",
              "  </style>\n",
              "\n",
              "      <script>\n",
              "        const buttonEl =\n",
              "          document.querySelector('#df-251402bc-7153-4ca0-9a30-4f93bb4eaacf button.colab-df-convert');\n",
              "        buttonEl.style.display =\n",
              "          google.colab.kernel.accessAllowed ? 'block' : 'none';\n",
              "\n",
              "        async function convertToInteractive(key) {\n",
              "          const element = document.querySelector('#df-251402bc-7153-4ca0-9a30-4f93bb4eaacf');\n",
              "          const dataTable =\n",
              "            await google.colab.kernel.invokeFunction('convertToInteractive',\n",
              "                                                     [key], {});\n",
              "          if (!dataTable) return;\n",
              "\n",
              "          const docLinkHtml = 'Like what you see? Visit the ' +\n",
              "            '<a target=\"_blank\" href=https://colab.research.google.com/notebooks/data_table.ipynb>data table notebook</a>'\n",
              "            + ' to learn more about interactive tables.';\n",
              "          element.innerHTML = '';\n",
              "          dataTable['output_type'] = 'display_data';\n",
              "          await google.colab.output.renderOutput(dataTable, element);\n",
              "          const docLink = document.createElement('div');\n",
              "          docLink.innerHTML = docLinkHtml;\n",
              "          element.appendChild(docLink);\n",
              "        }\n",
              "      </script>\n",
              "    </div>\n",
              "  </div>\n",
              "  "
            ]
          },
          "metadata": {},
          "execution_count": 324
        }
      ]
    },
    {
      "cell_type": "code",
      "source": [],
      "metadata": {
        "id": "cwLFXechQBwr"
      },
      "execution_count": null,
      "outputs": []
    },
    {
      "cell_type": "code",
      "source": [
        "y_pred = []"
      ],
      "metadata": {
        "id": "D9nh4_ZoQBpf"
      },
      "execution_count": null,
      "outputs": []
    },
    {
      "cell_type": "code",
      "source": [
        "y_pred = df_output2['PREDICTION Price']"
      ],
      "metadata": {
        "id": "wf9LVw-ScZ4X"
      },
      "execution_count": null,
      "outputs": []
    },
    {
      "cell_type": "code",
      "source": [
        "X_train4, X_test4, y_train4, y_test4 = train_test_split(X_pred, y_pred, test_size=0.2, random_state=42)"
      ],
      "metadata": {
        "id": "hEGOAqU-QBmL"
      },
      "execution_count": null,
      "outputs": []
    },
    {
      "cell_type": "code",
      "source": [
        "# ahora estandarizamos"
      ],
      "metadata": {
        "id": "h_7ebpO9QBi2"
      },
      "execution_count": null,
      "outputs": []
    },
    {
      "cell_type": "code",
      "source": [
        "scaler = StandardScaler()\n",
        "X_train5 = scaler.fit_transform(X_train4)\n",
        "X_test5 = scaler.transform(X_test4)"
      ],
      "metadata": {
        "id": "uDAPWWC8B2qE"
      },
      "execution_count": null,
      "outputs": []
    },
    {
      "cell_type": "code",
      "source": [
        "# de nuevo usamos el método XGBReg"
      ],
      "metadata": {
        "id": "4RzFLtx5B2m3"
      },
      "execution_count": null,
      "outputs": []
    },
    {
      "cell_type": "code",
      "source": [
        "model_XGBReg = xgb.XGBRegressor(colsample_bytree=0.5, n_estimators=500, objective='reg:squarederror')"
      ],
      "metadata": {
        "id": "eGIEidctB2jG"
      },
      "execution_count": null,
      "outputs": []
    },
    {
      "cell_type": "code",
      "source": [
        "eval_set = [(X_train5, y_train4), (X_test5, y_test4)] \n",
        "model_XGBReg.fit(\n",
        "    X_train5, \n",
        "    y_train4, \n",
        "    eval_metric = \"rmse\", \n",
        "    eval_set = eval_set,\n",
        "    verbose=False\n",
        ")"
      ],
      "metadata": {
        "colab": {
          "base_uri": "https://localhost:8080/"
        },
        "id": "BnxIwOCnB2c8",
        "outputId": "9863e1aa-3ee4-499a-8841-d0bb6879e009"
      },
      "execution_count": null,
      "outputs": [
        {
          "output_type": "execute_result",
          "data": {
            "text/plain": [
              "XGBRegressor(colsample_bytree=0.5, n_estimators=500,\n",
              "             objective='reg:squarederror')"
            ]
          },
          "metadata": {},
          "execution_count": 336
        }
      ]
    },
    {
      "cell_type": "code",
      "source": [
        "# y finalmente obtenemos el error más pequeño de todo el dataset y por tanto subiremos el modelo final a un fichero"
      ],
      "metadata": {
        "id": "Lklc6GG9inM2"
      },
      "execution_count": null,
      "outputs": []
    },
    {
      "cell_type": "code",
      "source": [
        "y_pred_train = model_XGBReg.predict(X_train5)\n",
        "rmse_train = np.sqrt(np.mean((y_pred_train - y_train4) ** 2))\n",
        "\n",
        "y_pred_test = model_XGBReg.predict(X_test5)\n",
        "rmse_test = np.sqrt(np.mean((y_pred_test - y_test4) ** 2))\n",
        "\n",
        "print(\"RMSE Train: %.3f\" %rmse_train)\n",
        "print(\"RMSE Test: %.3f\" %rmse_test)"
      ],
      "metadata": {
        "colab": {
          "base_uri": "https://localhost:8080/"
        },
        "id": "uJSL0TwFB2WI",
        "outputId": "b88ed93a-5c56-4489-852d-a874b2b2126a"
      },
      "execution_count": null,
      "outputs": [
        {
          "output_type": "stream",
          "name": "stdout",
          "text": [
            "RMSE Train: 1.722\n",
            "RMSE Test: 1.863\n"
          ]
        }
      ]
    },
    {
      "cell_type": "code",
      "source": [
        "y_pred.to_csv('/content/drive/MyDrive/MASTER EN DATA SCIENCE/Módulos master/Módulo 5 - Machine Learning Regresión/Proyecto RENFE/y_pred.csv')"
      ],
      "metadata": {
        "id": "eyAaUU6C5WXu"
      },
      "execution_count": null,
      "outputs": []
    },
    {
      "cell_type": "markdown",
      "source": [
        "**FIN**"
      ],
      "metadata": {
        "id": "R31Ir9lAf3nw"
      }
    }
  ],
  "metadata": {
    "kernelspec": {
      "display_name": "Python 3",
      "language": "python",
      "name": "python3"
    },
    "language_info": {
      "codemirror_mode": {
        "name": "ipython",
        "version": 3
      },
      "file_extension": ".py",
      "mimetype": "text/x-python",
      "name": "python",
      "nbconvert_exporter": "python",
      "pygments_lexer": "ipython3",
      "version": "3.8.3"
    },
    "toc": {
      "base_numbering": 1,
      "nav_menu": {},
      "number_sections": true,
      "sideBar": true,
      "skip_h1_title": false,
      "title_cell": "Table of Contents",
      "title_sidebar": "Contents",
      "toc_cell": false,
      "toc_position": {
        "height": "calc(100% - 180px)",
        "left": "10px",
        "top": "150px",
        "width": "384px"
      },
      "toc_section_display": true,
      "toc_window_display": true
    },
    "colab": {
      "provenance": [],
      "collapsed_sections": [],
      "include_colab_link": true
    }
  },
  "nbformat": 4,
  "nbformat_minor": 0
}